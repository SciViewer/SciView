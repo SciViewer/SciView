{
 "cells": [
  {
   "cell_type": "markdown",
   "metadata": {},
   "source": [
    "# SciView"
   ]
  },
  {
   "cell_type": "markdown",
   "metadata": {},
   "source": [
    "# 1) Digital object identifier (DOI) - filepath dictionaries"
   ]
  },
  {
   "cell_type": "markdown",
   "metadata": {},
   "source": [
    "A dictionary is created for every directory containing up to 100'000 text files. The dictionary maps the full path, which is the directory and the DOI (filename) as a value to just the doi (filename) as a key. This then allows then the retrieval of a text file based on a DOI."
   ]
  },
  {
   "cell_type": "markdown",
   "metadata": {},
   "source": [
    "## 1.1) Libraries and paths"
   ]
  },
  {
   "cell_type": "code",
   "execution_count": 8,
   "metadata": {},
   "outputs": [],
   "source": [
    "# Load packages\n",
    "from Functions.F1_Subsets_and_PreProcessing import DOI_Path_Dictionary, Random_DOI_Path_Pair, Dict_Loader\n",
    "import pickle\n",
    "import pandas as pd\n",
    "import gensim"
   ]
  },
  {
   "cell_type": "code",
   "execution_count": 9,
   "metadata": {},
   "outputs": [],
   "source": [
    "# Define input paths and file names\n",
    "DataPath=\"Y:\\\\Data\\\\\"\n",
    "\n",
    "# Define Output paths and file names\n",
    "IntermediateData_Path=\"Y:\\\\IntermediateData\\\\\"\n",
    "doiPath_Suffix=\"_DOI_Path_Dict.pkl\"\n",
    "\n",
    "# Set the dirs to save doi and paths\n",
    "StartDir=100\n",
    "EndDir=199"
   ]
  },
  {
   "cell_type": "markdown",
   "metadata": {},
   "source": [
    "## Create DOI - filepath dictionaries\n",
    "Every article text file name is the corresponding DOI of the file itsel. The files are further saved under specific directories and therefore in order to load a specific file via the DOI the full path has to known. The DOI-filepath dictionary store the DOI as a key and the full path as a value.\n",
    "\n",
    "Depending on the progress the start and end directory has to adapted above, check the values accordingly:"
   ]
  },
  {
   "cell_type": "code",
   "execution_count": 10,
   "metadata": {},
   "outputs": [
    {
     "name": "stdout",
     "output_type": "stream",
     "text": [
      "100 199\n"
     ]
    }
   ],
   "source": [
    "print(StartDir, EndDir)"
   ]
  },
  {
   "cell_type": "code",
   "execution_count": null,
   "metadata": {},
   "outputs": [],
   "source": [
    "# Iterate trough data directories\n",
    "for dirNum in range(StartDir,EndDir+1):\n",
    "\n",
    "    # Bring for example 27 into the form of \"027\"\n",
    "    dirNum=str(dirNum).zfill(3)\n",
    "\n",
    "    # Define Path for saving\n",
    "    saveName=(IntermediateData_Path + dirNum + doiPath_Suffix).replace(\" \",\"\")\n",
    "\n",
    "    # create a binary pickle file \n",
    "    f = open(saveName,\"wb\")\n",
    "\n",
    "    # Create dictionary\n",
    "    doiPathDict=DOI_Path_Dictionary(dirNum, DataPath)\n",
    "\n",
    "    # write the python object (dict) to pickle file\n",
    "    pickle.dump(doiPathDict,f)\n",
    "    \n",
    "    # close file\n",
    "    f.close()"
   ]
  },
  {
   "cell_type": "markdown",
   "metadata": {},
   "source": [
    "## Check integrty of the dict by randomly checking content and doi\n",
    "Check if the DOI - file path dictionaries are correctly mapped by reading part of the retrieved text and comparing it through a web search of the give DOI"
   ]
  },
  {
   "cell_type": "code",
   "execution_count": 2,
   "metadata": {},
   "outputs": [],
   "source": [
    "# Define input paths and file names\n",
    "doiPathDict_Path=(\"Y:\\\\DoiPathDicts\\\\003_DOI_Path_Dict.pkl\")"
   ]
  },
  {
   "cell_type": "code",
   "execution_count": 3,
   "metadata": {},
   "outputs": [
    {
     "name": "stdout",
     "output_type": "stream",
     "text": [
      "The random pair is : ('10.1002/aja.1000750205', 'Y:\\\\Data\\\\00300000\\\\10.1002\\\\aja.1000750205.txt')\n",
      "THE RESCTIVXTY OF THE PROSTATE GLAND O F\n",
      "THE FEMALE RAT IN RELATION TO AGE1\n",
      "DOROTHY PRICE:\n",
      "Hiill Zoi\n"
     ]
    }
   ],
   "source": [
    "# Load the DOI-Path dictionary\n",
    "with open(doiPathDict_Path, 'rb') as handle:\n",
    "    doiPathDict=pickle.load(handle)\n",
    "\n",
    "# Feed the dictionary to the function which returns a random DOI-Path pair\n",
    "Random_DOI_Path_Pair(doiPathDict)"
   ]
  },
  {
   "cell_type": "markdown",
   "metadata": {},
   "source": [
    "# 2) Preprocess and model building of millions of documents"
   ]
  },
  {
   "cell_type": "markdown",
   "metadata": {},
   "source": [
    "## 2.1) Libraries and Paths"
   ]
  },
  {
   "cell_type": "code",
   "execution_count": 2,
   "metadata": {},
   "outputs": [],
   "source": [
    "# Load packages\n",
    "from Functions.F1_Subsets_and_PreProcessing import Dict_Loader\n",
    "from Functions.F2_Model_Building import path_creator, log_printer\n",
    "import pickle\n",
    "import pandas as pd\n",
    "import gensim\n",
    "import time\n",
    "# import pyLDAvis.gensim_models\n",
    "import gc\n",
    "import memory_profiler as mem_profile\n",
    "import os"
   ]
  },
  {
   "cell_type": "code",
   "execution_count": 3,
   "metadata": {},
   "outputs": [
    {
     "name": "stdout",
     "output_type": "stream",
     "text": [
      "# Define input paths and file names\n",
      "#-------------------------------------------\n",
      "# Input paths\n",
      "IntermediateData_Path=\"Y:\\\\IntermediateData\\\\\"\n",
      "FtPr_Suffix=\"_FtPr.pkl\"\n",
      "MetaData_Suffix=\"_MetaData.pkl\"\n",
      "\n",
      "# Define output path and file names\n",
      "#-------------------------------------------\n",
      "# Model_Path=\"Y:\\\\Models\\\\\"\n",
      "sampledDocPath=\"0_99_10000_sampledDocs.text\"\n",
      "sampledDocBigramPath=\"0_99_10000_sampledDocsBigram.text\"\n",
      "\n",
      "# Set the dirs to save doi and paths\n",
      "StartDir=0\n",
      "EndDir=99\n",
      "\n",
      "# Sample Parameter\n",
      "sampleNDocs=10000\n",
      "randomState=42\n",
      "\n",
      "# Logfile\n",
      "LogFilePath=\"Y:\\\\Models\\\\0_99_10000_Sampling_Log.txt\"\n",
      "\n",
      "#------------------------------------------------------------------------------\n",
      "\n",
      "# Define filters\n",
      "minTokenN=200\n",
      "maxTokenN=15000\n",
      "language=\"en\"\n",
      "\n",
      "# Filtered meta data\n",
      "MetaDataFiltered_Suffix=\"_MetaDataFiltered.pkl\"\n",
      "PreProcessMetaDataSamplePath=\"Y:\\\\Models\\\\0_99_10000_PreProcessMetaData.pkl\"\n",
      "\n",
      "#------------------------------------------------------------------------------\n",
      "\n",
      "# Define Bigram/Phrase Parameters\n",
      "bigramMinFreq=10\n",
      "bigramThreshold=10\n",
      "phraseVocabSize=400000000\n",
      "# InterDir=25 # Else None\n",
      "\n",
      "# Phrases Bigram\n",
      "# InterSavePhrases_Suffix=\"_InterSaveBigram.pkl\"\n",
      "FreezedPhrasesPath=\"Y:\\\\Models\\\\0_99_10000_Sampling_FreezedBigram.pkl\"\n",
      "# FreezedPhrasesLog_Suffix=\"_FreezedBigramLog.txt\"\n",
      "\n",
      "#------------------------------------------------------------------------------\n",
      "\n",
      "# Define Dictionary Parameters\n",
      "dictVocab=60000000\n",
      "filter_freq=10\n",
      "\n",
      "# Dictionary\n",
      "Dictionary_Suffix=\"_Dictionary\"\n",
      "# DictionaryLog_Suffix=\"_DictionaryLog.txt\"\n",
      "DictionaryFiltered_Suffix=\"_DictionaryFiltered\"\n",
      "\n",
      "#------------------------------------------------------------------------------\n",
      "\n",
      "# #Bow Corpus\n",
      "# BowCorpus_Suffix=\"_BowCorpus.mm\"\n",
      "# BowCorpusLog_Suffix=\"_BowCorpusLog.txt\"\n",
      "\n",
      "#------------------------------------------------------------------------------\n",
      "\n",
      "# Define LDA Parameters\n",
      "nTopics=50\n",
      "updateEvery=1\n",
      "chunkSize=10000\n",
      "passes=1\n",
      "\n",
      "# LDA\n",
      "LDA_Suffix=\"_LDA.model\"\n",
      "LDALog_Suffix=\"_LDALog.txt\"\n",
      "LDAMulti_Suffix=\"_LDAMulti.model\"\n",
      "LDAMultiLog_Suffix=\"_LDAMultiLog.txt\"\n",
      "\n",
      "\n",
      "\n",
      "\n",
      "\n",
      "\n",
      "\n",
      "\n",
      "\n",
      "\n"
     ]
    }
   ],
   "source": [
    "# from modelConfig_0_49 import *\n",
    "# # with open('modelConfig_0_49.py', 'r') as f:\n",
    "# #     print(f.read())\n",
    "\n",
    "from modelConfig_0_99 import *\n",
    "with open('modelConfig_0_99.py', 'r') as f:\n",
    "    print(f.read())"
   ]
  },
  {
   "cell_type": "markdown",
   "metadata": {},
   "source": [
    "## 2.2) Preprocess documents\n",
    "Multiprocessing does not work in jupyter notebook (https://stackoverflow.com/questions/23641475/multiprocessing-working-in-python-but-not-in-ipython/23641560#23641560). Therefore the PreProcessing of the documents is in the **Functions.Preprocess_with_Multiprocessing.py** file"
   ]
  },
  {
   "cell_type": "markdown",
   "metadata": {},
   "source": [
    "## 2.3) Define meta data filters"
   ]
  },
  {
   "cell_type": "code",
   "execution_count": 102,
   "metadata": {},
   "outputs": [
    {
     "name": "stdout",
     "output_type": "stream",
     "text": [
      "Y:\\MetaData_PreprocessedText\\008_MetaData.pkl\n"
     ]
    }
   ],
   "source": [
    "dirNum=8\n",
    "\n",
    "dirNum=str(dirNum).zfill(3)\n",
    "Meta_Path=(IntermediateData_Path + dirNum + MetaData_Suffix).replace(\" \",\"\")\n",
    "print(Meta_Path)\n",
    "Meta=pd.read_pickle(Meta_Path)"
   ]
  },
  {
   "cell_type": "code",
   "execution_count": 103,
   "metadata": {},
   "outputs": [
    {
     "data": {
      "text/plain": [
       "Index(['DOI', 'Token Amount', 'Language'], dtype='object')"
      ]
     },
     "execution_count": 103,
     "metadata": {},
     "output_type": "execute_result"
    }
   ],
   "source": [
    "Meta.columns"
   ]
  },
  {
   "cell_type": "code",
   "execution_count": 104,
   "metadata": {},
   "outputs": [
    {
     "name": "stderr",
     "output_type": "stream",
     "text": [
      "C:\\Users\\sebas\\anaconda3\\envs\\SciView\\lib\\site-packages\\ipykernel_launcher.py:2: FutureWarning: The default value of regex will change from True to False in a future version.\n",
      "  \n",
      "C:\\Users\\sebas\\anaconda3\\envs\\SciView\\lib\\site-packages\\ipykernel_launcher.py:3: FutureWarning: The default value of regex will change from True to False in a future version. In addition, single character regular expressions will *not* be treated as literal strings when regex=True.\n",
      "  This is separate from the ipykernel package so we can avoid doing imports until\n"
     ]
    }
   ],
   "source": [
    "Meta[\"Language\"]=[str(languageObject[0]) for languageObject in Meta[\"Language\"]]\n",
    "Meta[\"Language\"]=Meta[\"Language\"].str.replace('\\d+', '')\n",
    "Meta[\"Language\"]=Meta[\"Language\"].str.replace('.', '')\n",
    "Meta[\"Language\"]=Meta[\"Language\"].str.replace(':', '')"
   ]
  },
  {
   "cell_type": "markdown",
   "metadata": {},
   "source": [
    "https://en.wikipedia.org/wiki/List_of_ISO_639-1_codes\n"
   ]
  },
  {
   "cell_type": "code",
   "execution_count": 105,
   "metadata": {},
   "outputs": [
    {
     "data": {
      "text/plain": [
       "en    78097\n",
       "de    21816\n",
       "n        74\n",
       "ca        6\n",
       "it        2\n",
       "sv        1\n",
       "cy        1\n",
       "Name: Language, dtype: int64"
      ]
     },
     "execution_count": 105,
     "metadata": {},
     "output_type": "execute_result"
    }
   ],
   "source": [
    "Meta[\"Language\"].value_counts()"
   ]
  },
  {
   "cell_type": "code",
   "execution_count": 106,
   "metadata": {},
   "outputs": [
    {
     "data": {
      "text/plain": [
       "<AxesSubplot:>"
      ]
     },
     "execution_count": 106,
     "metadata": {},
     "output_type": "execute_result"
    },
    {
     "data": {
      "image/png": "[encoded data removed]",
      "text/plain": [
       "<Figure size 432x288 with 1 Axes>"
      ]
     },
     "metadata": {
      "needs_background": "light"
     },
     "output_type": "display_data"
    }
   ],
   "source": [
    "Meta[\"Language\"].value_counts().sort_values().plot(kind = 'barh')"
   ]
  },
  {
   "cell_type": "code",
   "execution_count": 107,
   "metadata": {},
   "outputs": [
    {
     "data": {
      "text/plain": [
       "90100"
      ]
     },
     "execution_count": 107,
     "metadata": {},
     "output_type": "execute_result"
    }
   ],
   "source": [
    "Meta[\"Token Amount\"].max()"
   ]
  },
  {
   "cell_type": "code",
   "execution_count": 108,
   "metadata": {},
   "outputs": [
    {
     "data": {
      "text/plain": [
       "<AxesSubplot:>"
      ]
     },
     "execution_count": 108,
     "metadata": {},
     "output_type": "execute_result"
    },
    {
     "data": {
      "image/png": "[encoded data removed]",
      "text/plain": [
       "<Figure size 432x288 with 1 Axes>"
      ]
     },
     "metadata": {
      "needs_background": "light"
     },
     "output_type": "display_data"
    }
   ],
   "source": [
    "Meta[\"Token Amount\"].hist(bins=100)"
   ]
  },
  {
   "cell_type": "code",
   "execution_count": 109,
   "metadata": {},
   "outputs": [
    {
     "data": {
      "text/plain": [
       "<AxesSubplot:>"
      ]
     },
     "execution_count": 109,
     "metadata": {},
     "output_type": "execute_result"
    },
    {
     "data": {
      "image/png": "[encoded data removed]",
      "text/plain": [
       "<Figure size 432x288 with 1 Axes>"
      ]
     },
     "metadata": {
      "needs_background": "light"
     },
     "output_type": "display_data"
    }
   ],
   "source": [
    "minTokenN=200\n",
    "maxTokenN=15000\n",
    "Meta[\"Token Amount\"].hist(bins=100,range=(minTokenN,maxTokenN))"
   ]
  },
  {
   "cell_type": "markdown",
   "metadata": {},
   "source": [
    "defined filters"
   ]
  },
  {
   "cell_type": "code",
   "execution_count": null,
   "metadata": {},
   "outputs": [],
   "source": [
    "minTokenN=200\n",
    "maxTokenN=15000\n",
    "language=\"en\""
   ]
  },
  {
   "cell_type": "markdown",
   "metadata": {},
   "source": [
    "## Testing of Dictionary and Phrases Model "
   ]
  },
  {
   "cell_type": "markdown",
   "metadata": {},
   "source": [
    "### Check if texts can be added to an existing dictinary"
   ]
  },
  {
   "cell_type": "code",
   "execution_count": 12,
   "metadata": {},
   "outputs": [],
   "source": [
    "dirNum=0\n",
    "\n",
    "# Start Global Timer which times the whole function\n",
    "tic = time.perf_counter()\n",
    "\n",
    "FtPr=Dict_Loader(dirNum, IntermediateData_Path, FtPr_Suffix)\n",
    "\n",
    "#Stop global timer and print\n",
    "toc = time.perf_counter()\n",
    "print(\"Time elapsed in seconds: \", round(toc-tic,4), \", in minutes \", round((toc-tic)/60,4), \", in hours: \", round((toc-tic)/3600,4))"
   ]
  },
  {
   "cell_type": "code",
   "execution_count": 18,
   "metadata": {},
   "outputs": [],
   "source": [
    "# Start Global Timer which times the whole function\n",
    "tic = time.perf_counter()\n",
    "dct=gensim.corpora.Dictionary(list(FtPr.values()))\n",
    "#Stop global timer and print\n",
    "toc = time.perf_counter()\n",
    "print(\"Time elapsed in seconds: \", round(toc-tic,4), \", in minutes \", round((toc-tic)/60,4), \", in hours: \", round((toc-tic)/3600,4))\n"
   ]
  },
  {
   "cell_type": "code",
   "execution_count": 22,
   "metadata": {},
   "outputs": [
    {
     "data": {
      "text/plain": [
       "99984"
      ]
     },
     "execution_count": 22,
     "metadata": {},
     "output_type": "execute_result"
    }
   ],
   "source": [
    "print(dct.num_docs,len(dct))"
   ]
  },
  {
   "cell_type": "code",
   "execution_count": 26,
   "metadata": {},
   "outputs": [
    {
     "name": "stdout",
     "output_type": "stream",
     "text": [
      "Time elapsed in seconds:  800.4948 , in minutes  13.3416 , in hours:  0.2224\n"
     ]
    }
   ],
   "source": [
    "dirNum=1\n",
    "\n",
    "# Start Global Timer which times the whole function\n",
    "tic = time.perf_counter()\n",
    "\n",
    "FtPr=Dict_Loader(dirNum, IntermediateData_Path, FtPr_Suffix)  \n",
    "dct.add_documents(list(FtPr.values()))\n",
    "\n",
    "#Stop global timer and print\n",
    "toc = time.perf_counter()\n",
    "print(\"Time elapsed in seconds: \", round(toc-tic,4), \", in minutes \", round((toc-tic)/60,4), \", in hours: \", round((toc-tic)/3600,4))"
   ]
  },
  {
   "cell_type": "code",
   "execution_count": 27,
   "metadata": {},
   "outputs": [
    {
     "data": {
      "text/plain": [
       "199976"
      ]
     },
     "execution_count": 27,
     "metadata": {},
     "output_type": "execute_result"
    }
   ],
   "source": [
    "print(dct.num_docs,len(dct))"
   ]
  },
  {
   "cell_type": "code",
   "execution_count": 29,
   "metadata": {},
   "outputs": [
    {
     "name": "stdout",
     "output_type": "stream",
     "text": [
      "Time elapsed in seconds:  1164.1192 , in minutes  19.402 , in hours:  0.3234\n"
     ]
    }
   ],
   "source": [
    "dirNum=2\n",
    "\n",
    "# Start Global Timer which times the whole function\n",
    "tic = time.perf_counter()\n",
    "\n",
    "FtPr=Dict_Loader(dirNum, IntermediateData_Path, FtPr_Suffix)  \n",
    "dct.add_documents(list(FtPr.values()))\n",
    "\n",
    "#Stop global timer and print\n",
    "toc = time.perf_counter()\n",
    "print(\"Time elapsed in seconds: \", round(toc-tic,4), \", in minutes \", round((toc-tic)/60,4), \", in hours: \", round((toc-tic)/3600,4))"
   ]
  },
  {
   "cell_type": "code",
   "execution_count": 32,
   "metadata": {},
   "outputs": [
    {
     "name": "stdout",
     "output_type": "stream",
     "text": [
      "299975 2269904\n"
     ]
    }
   ],
   "source": [
    "print(dct.num_docs,len(dct))"
   ]
  },
  {
   "cell_type": "markdown",
   "metadata": {},
   "source": [
    "### Test if it is faster to merge dictionaries instead of adding documents"
   ]
  },
  {
   "cell_type": "code",
   "execution_count": 110,
   "metadata": {},
   "outputs": [
    {
     "name": "stdout",
     "output_type": "stream",
     "text": [
      "199976 2185638\n",
      "Time elapsed in seconds:  945.4743 , in minutes  15.7579 , in hours:  0.2626\n"
     ]
    }
   ],
   "source": [
    "dirNum=0\n",
    "# Start Global Timer which times the whole function\n",
    "tic = time.perf_counter()\n",
    "FtPr=Dict_Loader(dirNum, IntermediateData_Path, FtPr_Suffix) \n",
    "dct=gensim.corpora.Dictionary(list(FtPr.values()))\n",
    "dirNum=1\n",
    "FtPr=Dict_Loader(dirNum, IntermediateData_Path, FtPr_Suffix)  \n",
    "dct.add_documents(list(FtPr.values()))\n",
    "print(dct.num_docs,len(dct))\n",
    "#Stop global timer and print\n",
    "toc = time.perf_counter()\n",
    "print(\"Time elapsed in seconds: \", round(toc-tic,4), \", in minutes \", round((toc-tic)/60,4), \", in hours: \", round((toc-tic)/3600,4))"
   ]
  },
  {
   "cell_type": "code",
   "execution_count": 111,
   "metadata": {},
   "outputs": [
    {
     "name": "stdout",
     "output_type": "stream",
     "text": [
      "199976 3426641\n",
      "Time elapsed in seconds:  1174.3321 , in minutes  19.5722 , in hours:  0.3262\n"
     ]
    }
   ],
   "source": [
    "dirNum=0\n",
    "# Start Global Timer which times the whole function\n",
    "tic = time.perf_counter()\n",
    "FtPr=Dict_Loader(dirNum, IntermediateData_Path, FtPr_Suffix) \n",
    "dct1=gensim.corpora.Dictionary(list(FtPr.values()))\n",
    "dirNum=1\n",
    "# Start Global Timer which times the whole function\n",
    "tic = time.perf_counter()\n",
    "FtPr=Dict_Loader(dirNum, IntermediateData_Path, FtPr_Suffix) \n",
    "dct2=gensim.corpora.Dictionary(list(FtPr.values()))\n",
    "dct1.merge_with(dct2)\n",
    "print(dct1.num_docs,len(dct1))\n",
    "#Stop global timer and print\n",
    "toc = time.perf_counter()\n",
    "print(\"Time elapsed in seconds: \", round(toc-tic,4), \", in minutes \", round((toc-tic)/60,4), \", in hours: \", round((toc-tic)/3600,4))"
   ]
  },
  {
   "cell_type": "markdown",
   "metadata": {},
   "source": [
    "It seems that the output of mergin is a transformer not a dict"
   ]
  },
  {
   "cell_type": "markdown",
   "metadata": {},
   "source": [
    "### Test if bulding a corpus is faster with a smaller dictionary\n"
   ]
  },
  {
   "cell_type": "code",
   "execution_count": 33,
   "metadata": {},
   "outputs": [
    {
     "name": "stdout",
     "output_type": "stream",
     "text": [
      "Time elapsed in seconds:  1643.5739 , in minutes  27.3929 , in hours:  0.4565\n"
     ]
    }
   ],
   "source": [
    "dirNum=0\n",
    "\n",
    "# Start Global Timer which times the whole function\n",
    "tic = time.perf_counter()\n",
    "\n",
    "FtPr=Dict_Loader(dirNum, IntermediateData_Path, FtPr_Suffix)  \n",
    "corpus = [dct.doc2bow(text) for text in list(FtPr.values())]\n",
    "\n",
    "#Stop global timer and print\n",
    "toc = time.perf_counter()\n",
    "print(\"Time elapsed in seconds: \", round(toc-tic,4), \", in minutes \", round((toc-tic)/60,4), \", in hours: \", round((toc-tic)/3600,4))"
   ]
  },
  {
   "cell_type": "code",
   "execution_count": 34,
   "metadata": {},
   "outputs": [
    {
     "name": "stdout",
     "output_type": "stream",
     "text": [
      "299975 2269904\n"
     ]
    }
   ],
   "source": [
    "print(dct.num_docs,len(dct))"
   ]
  },
  {
   "cell_type": "code",
   "execution_count": 36,
   "metadata": {},
   "outputs": [],
   "source": [
    "dct.filter_extremes(keep_n=500000)"
   ]
  },
  {
   "cell_type": "code",
   "execution_count": 37,
   "metadata": {},
   "outputs": [
    {
     "name": "stdout",
     "output_type": "stream",
     "text": [
      "299975 500000\n"
     ]
    }
   ],
   "source": [
    "print(dct.num_docs,len(dct))"
   ]
  },
  {
   "cell_type": "code",
   "execution_count": 38,
   "metadata": {},
   "outputs": [
    {
     "name": "stdout",
     "output_type": "stream",
     "text": [
      "Time elapsed in seconds:  830.7225 , in minutes  13.8454 , in hours:  0.2308\n"
     ]
    }
   ],
   "source": [
    "# Start Global Timer which times the whole function\n",
    "tic = time.perf_counter()\n",
    "\n",
    "corpus2 = [dct.doc2bow(text) for text in list(FtPr.values())]\n",
    "\n",
    "#Stop global timer and print\n",
    "toc = time.perf_counter()\n",
    "print(\"Time elapsed in seconds: \", round(toc-tic,4), \", in minutes \", round((toc-tic)/60,4), \", in hours: \", round((toc-tic)/3600,4))"
   ]
  },
  {
   "cell_type": "markdown",
   "metadata": {},
   "source": [
    "### Test phrases model with freezing"
   ]
  },
  {
   "cell_type": "code",
   "execution_count": 4,
   "metadata": {},
   "outputs": [
    {
     "name": "stdout",
     "output_type": "stream",
     "text": [
      "Time elapsed in seconds:  2275.3597 , in minutes  37.9227 , in hours:  0.632\n"
     ]
    }
   ],
   "source": [
    "dirNum=1\n",
    "\n",
    "# Start Global Timer which times the whole function\n",
    "tic = time.perf_counter()\n",
    "\n",
    "FtPr=Dict_Loader(dirNum, IntermediateData_Path, FtPr_Suffix)  \n",
    "\n",
    "# Define bigram and Trigram models\n",
    "bigram = gensim.models.phrases.Phrases(list(FtPr.values()), min_count=3)\n",
    "# trigram = gensim.models.phrases.Phrases(bigram[list(FtPr.values())], min_count=3)\n",
    "# tetragram = gensim.models.phrases.Phrases(trigram[list(FtPr.values())], min_count=3)\n",
    "\n",
    "# Apply the bigram and trigram model to each preprocessed tokenized list\n",
    "# FtPrNg=[tetragram[trigram[bigram[doc]]] for doc in list(FtPr.values())]\n",
    "FtPrNg=[bigram[doc] for doc in list(FtPr.values())]\n",
    "\n",
    "#Stop global timer and print\n",
    "toc = time.perf_counter()\n",
    "print(\"Time elapsed in seconds: \", round(toc-tic,4), \", in minutes \", round((toc-tic)/60,4), \", in hours: \", round((toc-tic)/3600,4))"
   ]
  },
  {
   "cell_type": "code",
   "execution_count": 5,
   "metadata": {},
   "outputs": [
    {
     "name": "stdout",
     "output_type": "stream",
     "text": [
      "['li', 'chien', 'chen', 'et', 'al', 'effect', 'heat', 'treatment', 'ni', 'au', 'ohmic', 'contact', 'phys', 'stat', 'sol', 'subject', 'classification', 'cg', 'effect', 'heat', 'treatment', 'ni', 'au', 'ohmic', 'contact', 'type', 'gan', 'li', 'chien', 'chen', 'jin', 'kuo', 'ho', 'fu', 'rong', 'chen', 'ji', 'jung', 'kai', 'li', 'chang', 'chang', 'shyang', 'jong', 'chien', 'chiu', 'chao', 'nien', 'huang', 'kwang', 'kuo', 'shih', 'department', 'engineering', 'system', 'science', 'national', 'tsing', 'hua', 'university', 'hsinchu', 'taiwan', 'department', 'material', 'science', 'engineering', 'national', 'chiao', 'tung', 'university', 'hsinchu', 'taiwan', 'opto', 'electronics', 'system', 'laboratory', 'industrial', 'technology', 'research', 'institute', 'chutung', 'hsinchu', 'taiwan', 'received', 'july', 'effect', 'heat', 'treatment', 'temperature', 'microstructure', 'specific', 'contact', 'resistance', 'oxidized', 'ni', 'nm', 'au', 'nm', 'contact', 'type']\n"
     ]
    }
   ],
   "source": [
    "print(list(FtPr.values())[0][0:100])"
   ]
  },
  {
   "cell_type": "code",
   "execution_count": 6,
   "metadata": {},
   "outputs": [
    {
     "name": "stdout",
     "output_type": "stream",
     "text": [
      "['li', 'chien', 'chen', 'et_al', 'effect', 'heat', 'treatment', 'ni', 'au', 'ohmic_contact', 'phys_stat', 'sol_subject', 'classification', 'cg', 'effect', 'heat', 'treatment', 'ni', 'au', 'ohmic_contact', 'type', 'gan', 'li', 'chien', 'chen_jin', 'kuo', 'ho', 'fu', 'rong_chen', 'ji', 'jung', 'kai', 'li', 'chang_chang', 'shyang', 'jong', 'chien', 'chiu', 'chao', 'nien', 'huang', 'kwang', 'kuo', 'shih', 'department', 'engineering', 'system', 'science', 'national_tsing', 'hua_university', 'hsinchu_taiwan', 'department', 'material', 'science_engineering', 'national_chiao', 'tung_university', 'hsinchu_taiwan', 'opto_electronics', 'system', 'laboratory', 'industrial', 'technology', 'research', 'institute', 'chutung', 'hsinchu_taiwan', 'received_july', 'effect', 'heat', 'treatment', 'temperature', 'microstructure', 'specific', 'contact', 'resistance', 'oxidized', 'ni', 'nm', 'au', 'nm', 'contact', 'type', 'gan', 'wa', 'investigated', 'minimum', 'specific', 'contact', 'resistance', 'rc', 'obtained', 'wa', 'cm', 'heat', 'treating', 'air', 'min', 'cross_sectional', 'microstructure', 'heat']\n"
     ]
    }
   ],
   "source": [
    "print(FtPrNg[0][0:100])"
   ]
  },
  {
   "cell_type": "markdown",
   "metadata": {},
   "source": [
    "with freeze"
   ]
  },
  {
   "cell_type": "code",
   "execution_count": 3,
   "metadata": {},
   "outputs": [
    {
     "name": "stdout",
     "output_type": "stream",
     "text": [
      "Time elapsed in seconds:  686.8023 , in minutes  11.4467 , in hours:  0.1908\n"
     ]
    }
   ],
   "source": [
    "dirNum=1\n",
    "\n",
    "# Start Global Timer which times the whole function\n",
    "tic = time.perf_counter()\n",
    "\n",
    "FtPr=Dict_Loader(dirNum, IntermediateData_Path, FtPr_Suffix)  \n",
    "\n",
    "# Define bigram and Trigram models\n",
    "bigram = gensim.models.phrases.Phrases(list(FtPr.values()), min_count=3)\n",
    "# trigram = gensim.models.phrases.Phrases(bigram[list(FtPr.values())], min_count=3)\n",
    "# tetragram = gensim.models.phrases.Phrases(trigram[list(FtPr.values())], min_count=3)\n",
    "\n",
    "# Freeze Model\n",
    "frozen_bigram_model = bigram.freeze()\n",
    "# frozen_trigram_model = trigram.freeze()\n",
    "# frozen_tetragram_model = tetragram.freeze()\n",
    "\n",
    "# Apply the bigram and trigram model to each preprocessed tokenized list\n",
    "# FtToPrNg=[frozen_tetragram_model[frozen_trigram_model[frozen_bigram_model[doc]]] for doc in list(FtPr.values())]\n",
    "FtToPrNg=[frozen_bigram_model[doc] for doc in list(FtPr.values())]\n",
    "\n",
    "#Stop global timer and print\n",
    "toc = time.perf_counter()\n",
    "print(\"Time elapsed in seconds: \", round(toc-tic,4), \", in minutes \", round((toc-tic)/60,4), \", in hours: \", round((toc-tic)/3600,4))"
   ]
  },
  {
   "cell_type": "markdown",
   "metadata": {},
   "source": [
    "### Test adding new dataset to phrase model"
   ]
  },
  {
   "cell_type": "code",
   "execution_count": 3,
   "metadata": {},
   "outputs": [
    {
     "name": "stdout",
     "output_type": "stream",
     "text": [
      "17424778\n",
      "28701000\n",
      "Time elapsed in seconds:  565.2361 , in minutes  9.4206 , in hours:  0.157\n"
     ]
    }
   ],
   "source": [
    "# Start Global Timer which times the whole function\n",
    "tic = time.perf_counter()\n",
    "\n",
    "dirNum=0\n",
    "FtPr=Dict_Loader(dirNum, IntermediateData_Path, FtPr_Suffix)\n",
    "FtPr=list(FtPr.values())[0:20000]\n",
    "\n",
    "# Define bigram and Trigram models\n",
    "bigram = gensim.models.phrases.Phrases(FtPr, min_count=3)\n",
    "\n",
    "print(len(bigram.vocab))\n",
    "\n",
    "dirNum=1\n",
    "FtPr1=Dict_Loader(dirNum, IntermediateData_Path, FtPr_Suffix)  \n",
    "FtPr1=list(FtPr1.values())[0:20000]\n",
    "\n",
    "# Define bigram and Trigram models\n",
    "bigram.add_vocab(FtPr1)\n",
    "\n",
    "print(len(bigram.vocab))\n",
    "\n",
    "# Apply the bigram and trigram model to each preprocessed tokenized list\n",
    "# FtPrNg=[tetragram[trigram[bigram[doc]]] for doc in list(FtPr.values())]\n",
    "FtPrNg=[bigram[doc] for doc in FtPr]\n",
    "FtPrNg1=[bigram[doc] for doc in FtPr1]\n",
    "\n",
    "#Stop global timer and print\n",
    "toc = time.perf_counter()\n",
    "print(\"Time elapsed in seconds: \", round(toc-tic,4), \", in minutes \", round((toc-tic)/60,4), \", in hours: \", round((toc-tic)/3600,4))"
   ]
  },
  {
   "cell_type": "code",
   "execution_count": 4,
   "metadata": {},
   "outputs": [
    {
     "name": "stdout",
     "output_type": "stream",
     "text": [
      "['international_journal', 'geriatric_psychiatry', 'vol', 'schizophrenia', 'onset', 'extreme', 'adult', 'life', 'david', 'castle', 'simon', 'wessely', 'robert', 'howard', 'robin', 'murray', 'department', 'psychological_medicine', 'king_college', 'hospital', 'institute_psychiatry', 'london_uk', 'section', 'old_age', 'psychiatry', 'institute_psychiatry', 'london_uk', 'abstract_objective', 'de_ne', 'epidemiology', 'phenomenology', 'premorbid', 'risk_factor', 'patient', 'rst', 'manifestation', 'schizophrenia', 'like', 'illness', 'age_year', 'compare', 'patient', 'onset', 'age_year', 'design', 'setting', 'subject', 'contact', 'non', 'ective_psychotic', 'illness', 'across', 'age_onset', 'ascertained', 'psychiatric', 'case', 'register', 'patient', 'rediagnosed_according', 'operationalized_criterion', 'psychotic_illness', 'early_late', 'onset', 'compared', 'main', 'outcome_measure', 'phenomenological', 'premorbid', 'aetiological', 'parameter', 'compared', 'two', 'group', 'using', 'risk', 'ratio', 'con_dence', 'interval', 'result', 'late_onset', 'patient', 'compared', 'early_onset', 'counterpart', 'likely', 'female', 'good_premorbid', 'functioning', 'developmental', 'history', 'exhibit', 'persecutory_delusion', 'hallucination', 'le_likely', 'negative', 'schizophrenic_symptom', 'positive', 'family_history', 'schizophrenia', 'su_ered']\n"
     ]
    }
   ],
   "source": [
    "print(FtPrNg[50][0:100])"
   ]
  },
  {
   "cell_type": "markdown",
   "metadata": {},
   "source": [
    "with freeze"
   ]
  },
  {
   "cell_type": "code",
   "execution_count": 5,
   "metadata": {},
   "outputs": [
    {
     "name": "stdout",
     "output_type": "stream",
     "text": [
      "17424778\n",
      "28701000\n",
      "Time elapsed in seconds:  760.2073 , in minutes  12.6701 , in hours:  0.2112\n"
     ]
    }
   ],
   "source": [
    "# Start Global Timer which times the whole function\n",
    "tic = time.perf_counter()\n",
    "\n",
    "dirNum=0\n",
    "FtPr=Dict_Loader(dirNum, IntermediateData_Path, FtPr_Suffix)\n",
    "FtPr=list(FtPr.values())[0:20000]\n",
    "\n",
    "# Define bigram and Trigram models\n",
    "bigram = gensim.models.phrases.Phrases(FtPr, min_count=3)\n",
    "\n",
    "print(len(bigram.vocab))\n",
    "\n",
    "dirNum=1\n",
    "FtPr1=Dict_Loader(dirNum, IntermediateData_Path, FtPr_Suffix)  \n",
    "FtPr1=list(FtPr1.values())[0:20000]\n",
    "\n",
    "# Define bigram and Trigram models\n",
    "bigram.add_vocab(FtPr1)\n",
    "\n",
    "print(len(bigram.vocab))\n",
    "\n",
    "# Freeze Model\n",
    "frozen_bigram_model = bigram.freeze()\n",
    "\n",
    "# Apply the bigram and trigram model to each preprocessed tokenized list\n",
    "# FtPrNg=[tetragram[trigram[bigram[doc]]] for doc in list(FtPr.values())]\n",
    "FtPrNg=[frozen_bigram_model[doc] for doc in FtPr]\n",
    "FtPrNg1=[frozen_bigram_model[doc] for doc in FtPr1]\n",
    "\n",
    "#Stop global timer and print\n",
    "toc = time.perf_counter()\n",
    "print(\"Time elapsed in seconds: \", round(toc-tic,4), \", in minutes \", round((toc-tic)/60,4), \", in hours: \", round((toc-tic)/3600,4))"
   ]
  },
  {
   "cell_type": "code",
   "execution_count": 6,
   "metadata": {},
   "outputs": [
    {
     "name": "stdout",
     "output_type": "stream",
     "text": [
      "['international_journal', 'geriatric_psychiatry', 'vol', 'schizophrenia', 'onset', 'extreme', 'adult', 'life', 'david', 'castle', 'simon', 'wessely', 'robert', 'howard', 'robin', 'murray', 'department', 'psychological_medicine', 'king_college', 'hospital', 'institute_psychiatry', 'london_uk', 'section', 'old_age', 'psychiatry', 'institute_psychiatry', 'london_uk', 'abstract_objective', 'de_ne', 'epidemiology', 'phenomenology', 'premorbid', 'risk_factor', 'patient', 'rst', 'manifestation', 'schizophrenia', 'like', 'illness', 'age_year', 'compare', 'patient', 'onset', 'age_year', 'design', 'setting', 'subject', 'contact', 'non', 'ective_psychotic', 'illness', 'across', 'age_onset', 'ascertained', 'psychiatric', 'case', 'register', 'patient', 'rediagnosed_according', 'operationalized_criterion', 'psychotic_illness', 'early_late', 'onset', 'compared', 'main', 'outcome_measure', 'phenomenological', 'premorbid', 'aetiological', 'parameter', 'compared', 'two', 'group', 'using', 'risk', 'ratio', 'con_dence', 'interval', 'result', 'late_onset', 'patient', 'compared', 'early_onset', 'counterpart', 'likely', 'female', 'good_premorbid', 'functioning', 'developmental', 'history', 'exhibit', 'persecutory_delusion', 'hallucination', 'le_likely', 'negative', 'schizophrenic_symptom', 'positive', 'family_history', 'schizophrenia', 'su_ered']\n"
     ]
    }
   ],
   "source": [
    "print(FtPrNg[50][0:100])"
   ]
  },
  {
   "cell_type": "markdown",
   "metadata": {},
   "source": [
    "## Filtered MetaData files\n",
    "This only has to be applied if the filtered meta data is not yet created"
   ]
  },
  {
   "cell_type": "code",
   "execution_count": 6,
   "metadata": {},
   "outputs": [
    {
     "name": "stdout",
     "output_type": "stream",
     "text": [
      "50 100\n"
     ]
    }
   ],
   "source": [
    "print(StartDir, EndDir+1)"
   ]
  },
  {
   "cell_type": "markdown",
   "metadata": {},
   "source": [
    "Adapt StartDir if necessary"
   ]
  },
  {
   "cell_type": "code",
   "execution_count": 5,
   "metadata": {},
   "outputs": [],
   "source": [
    "StartDir=50"
   ]
  },
  {
   "cell_type": "code",
   "execution_count": 7,
   "metadata": {},
   "outputs": [
    {
     "name": "stdout",
     "output_type": "stream",
     "text": [
      "Time elapsed in seconds:  44.3733 , in minutes  0.7396 , in hours:  0.0123\n"
     ]
    }
   ],
   "source": [
    "# Start Global Timer which times the whole function\n",
    "tic = time.perf_counter()\n",
    "\n",
    "# Apply the Phrases model\n",
    "for dirNum in range(StartDir,EndDir+1):\n",
    "    \n",
    "    # Load MetaData\n",
    "    dirNum=str(dirNum).zfill(3)\n",
    "    Meta_Path=(IntermediateData_Path + dirNum + MetaData_Suffix).replace(\" \",\"\")\n",
    "    Meta=pd.read_pickle(Meta_Path)\n",
    "\n",
    "    # Filter MetaData\n",
    "    Meta[\"Language\"]=[str(languageObject[0]) for languageObject in Meta[\"Language\"]]\n",
    "    Meta[\"Language\"]=Meta[\"Language\"].str.replace('\\d+', '', regex=True)\n",
    "    Meta[\"Language\"]=Meta[\"Language\"].str.replace('.', '', regex=True)\n",
    "    Meta[\"Language\"]=Meta[\"Language\"].str.replace(':', '', regex=True)\n",
    "\n",
    "    # Get filtered DOI List\n",
    "    Meta=Meta[(Meta[\"Token Amount\"] > minTokenN) & (Meta[\"Token Amount\"] < maxTokenN) & (Meta[\"Language\"]==language)]\n",
    "\n",
    "    # Save the meta data each iteration\n",
    "    metaDataName=(IntermediateData_Path + dirNum + MetaDataFiltered_Suffix).replace(\" \",\"\")\n",
    "    Meta.to_pickle(metaDataName)\n",
    "\n",
    "#Stop global timer and print\n",
    "toc = time.perf_counter()\n",
    "print(\"Time elapsed in seconds: \", round(toc-tic,4), \", in minutes \", round((toc-tic)/60,4), \", in hours: \", round((toc-tic)/3600,4))\n"
   ]
  },
  {
   "cell_type": "markdown",
   "metadata": {},
   "source": [
    "## Iterative Approach for Phrase Model, Dictionary, Bow Corpus and LDA Model"
   ]
  },
  {
   "cell_type": "markdown",
   "metadata": {},
   "source": [
    "### Phrase Model"
   ]
  },
  {
   "cell_type": "code",
   "execution_count": 7,
   "metadata": {},
   "outputs": [
    {
     "name": "stdout",
     "output_type": "stream",
     "text": [
      "An intermediate saved phrase model is loaded from:  Y:\\Models\\024_(000_049)_InterSaveBigram.pkl\n",
      "-------------------------------------------------------\n",
      "Phrase Model Parameters:  10 10 400000000\n",
      "Usage before processing:  [16727.02734375] Mb\n",
      "Data of directory:  25  is loaded/processed... in seconds:  55.035 , in minutes  0.9173 , in hours:  0.0153\n",
      "Num of Docs before/after filtering:  99999  /  95245\n",
      "Usage before deleting FtPr:  [17714.11328125] Mb\n",
      "Usage after deleting FtPr:  [17480.60546875] Mb\n",
      "Updating of biram model with directory:  25  is loaded/processed... in seconds:  583.175 , in minutes  9.7196 , in hours:  0.162\n",
      "Updated Bigram Vocab is:  180316524\n",
      "Usage before deleting FtPrFi:  [18835.52734375] Mb\n",
      "Usage after deleting FtPrFi:  [24683.15234375] Mb\n",
      "-------------------------------------------------------\n",
      "Data of directory:  26  is loaded/processed... in seconds:  34.5759 , in minutes  0.5763 , in hours:  0.0096\n",
      "Num of Docs before/after filtering:  100000  /  94401\n",
      "Usage before deleting FtPr:  [25396.84375] Mb\n",
      "Usage after deleting FtPr:  [25392.20703125] Mb\n",
      "Updating of biram model with directory:  26  is loaded/processed... in seconds:  534.9106 , in minutes  8.9152 , in hours:  0.1486\n",
      "Updated Bigram Vocab is:  189575997\n",
      "Usage before deleting FtPrFi:  [26364.6171875] Mb\n",
      "Usage after deleting FtPrFi:  [26867.7734375] Mb\n",
      "-------------------------------------------------------\n",
      "Data of directory:  27  is loaded/processed... in seconds:  69.4712 , in minutes  1.1579 , in hours:  0.0193\n",
      "Num of Docs before/after filtering:  100000  /  94085\n",
      "Usage before deleting FtPr:  [24543.6953125] Mb\n",
      "Usage after deleting FtPr:  [24529.7734375] Mb\n",
      "Updating of biram model with directory:  27  is loaded/processed... in seconds:  895.6753 , in minutes  14.9279 , in hours:  0.2488\n",
      "Updated Bigram Vocab is:  205843714\n",
      "Usage before deleting FtPrFi:  [24527.30859375] Mb\n",
      "Usage after deleting FtPrFi:  [26318.53515625] Mb\n",
      "-------------------------------------------------------\n",
      "Data of directory:  28  is loaded/processed... in seconds:  57.888 , in minutes  0.9648 , in hours:  0.0161\n",
      "Num of Docs before/after filtering:  100000  /  93191\n",
      "Usage before deleting FtPr:  [24036.4765625] Mb\n",
      "Usage after deleting FtPr:  [23882.0859375] Mb\n",
      "Updating of biram model with directory:  28  is loaded/processed... in seconds:  1168.0589 , in minutes  19.4676 , in hours:  0.3245\n",
      "Updated Bigram Vocab is:  225087582\n",
      "Usage before deleting FtPrFi:  [24990.74609375] Mb\n",
      "Usage after deleting FtPrFi:  [25990.77734375] Mb\n",
      "-------------------------------------------------------\n",
      "Data of directory:  29  is loaded/processed... in seconds:  67.7226 , in minutes  1.1287 , in hours:  0.0188\n",
      "Num of Docs before/after filtering:  100000  /  95382\n",
      "Usage before deleting FtPr:  [24318.7890625] Mb\n",
      "Usage after deleting FtPr:  [24314.30078125] Mb\n",
      "Updating of biram model with directory:  29  is loaded/processed... in seconds:  1561.4111 , in minutes  26.0235 , in hours:  0.4337\n",
      "Updated Bigram Vocab is:  240801431\n",
      "Usage before deleting FtPrFi:  [25017.07421875] Mb\n",
      "Usage after deleting FtPrFi:  [26012.9921875] Mb\n",
      "-------------------------------------------------------\n",
      "Data of directory:  30  is loaded/processed... in seconds:  184.7568 , in minutes  3.0793 , in hours:  0.0513\n",
      "Num of Docs before/after filtering:  99999  /  98959\n",
      "Usage before deleting FtPr:  [23156.98046875] Mb\n",
      "Usage after deleting FtPr:  [23132.34765625] Mb\n",
      "Updating of biram model with directory:  30  is loaded/processed... in seconds:  1802.8546 , in minutes  30.0476 , in hours:  0.5008\n",
      "Updated Bigram Vocab is:  261395814\n",
      "Usage before deleting FtPrFi:  [25433.2578125] Mb\n",
      "Usage after deleting FtPrFi:  [26044.37890625] Mb\n",
      "-------------------------------------------------------\n",
      "Data of directory:  31  is loaded/processed... in seconds:  127.37 , in minutes  2.1228 , in hours:  0.0354\n",
      "Num of Docs before/after filtering:  99999  /  96702\n",
      "Usage before deleting FtPr:  [24752.93359375] Mb\n",
      "Usage after deleting FtPr:  [24748.48046875] Mb\n",
      "Updating of biram model with directory:  31  is loaded/processed... in seconds:  1670.0142 , in minutes  27.8336 , in hours:  0.4639\n",
      "Updated Bigram Vocab is:  275844751\n",
      "Usage before deleting FtPrFi:  [25156.625] Mb\n",
      "Usage after deleting FtPrFi:  [26208.9296875] Mb\n",
      "-------------------------------------------------------\n",
      "Data of directory:  32  is loaded/processed... in seconds:  75.3464 , in minutes  1.2558 , in hours:  0.0209\n",
      "Num of Docs before/after filtering:  99999  /  95459\n",
      "Usage before deleting FtPr:  [24475.52734375] Mb\n",
      "Usage after deleting FtPr:  [24471.05078125] Mb\n",
      "Updating of biram model with directory:  32  is loaded/processed... in seconds:  1721.1355 , in minutes  28.6856 , in hours:  0.4781\n",
      "Updated Bigram Vocab is:  291317308\n",
      "Usage before deleting FtPrFi:  [25499.68359375] Mb\n",
      "Usage after deleting FtPrFi:  [26117.078125] Mb\n",
      "-------------------------------------------------------\n",
      "Data of directory:  33  is loaded/processed... in seconds:  232.4261 , in minutes  3.8738 , in hours:  0.0646\n",
      "Num of Docs before/after filtering:  100000  /  98345\n",
      "Usage before deleting FtPr:  [21736.0703125] Mb\n",
      "Usage after deleting FtPr:  [21779.92578125] Mb\n",
      "Updating of biram model with directory:  33  is loaded/processed... in seconds:  2392.7084 , in minutes  39.8785 , in hours:  0.6646\n",
      "Updated Bigram Vocab is:  308699508\n",
      "Usage before deleting FtPrFi:  [24935.3359375] Mb\n",
      "Usage after deleting FtPrFi:  [25630.06640625] Mb\n",
      "-------------------------------------------------------\n",
      "Data of directory:  34  is loaded/processed... in seconds:  350.0485 , in minutes  5.8341 , in hours:  0.0972\n",
      "Num of Docs before/after filtering:  100000  /  99135\n",
      "Usage before deleting FtPr:  [22331.26171875] Mb\n",
      "Usage after deleting FtPr:  [22369.484375] Mb\n",
      "Updating of biram model with directory:  34  is loaded/processed... in seconds:  2326.0467 , in minutes  38.7674 , in hours:  0.6461\n",
      "Updated Bigram Vocab is:  325175601\n",
      "Usage before deleting FtPrFi:  [25190.87890625] Mb\n",
      "Usage after deleting FtPrFi:  [25654.3515625] Mb\n",
      "-------------------------------------------------------\n",
      "Data of directory:  35  is loaded/processed... in seconds:  381.0097 , in minutes  6.3502 , in hours:  0.1058\n",
      "Num of Docs before/after filtering:  100000  /  96806\n",
      "Usage before deleting FtPr:  [22095.33984375] Mb\n",
      "Usage after deleting FtPr:  [22241.875] Mb\n",
      "Updating of biram model with directory:  35  is loaded/processed... in seconds:  2927.0458 , in minutes  48.7841 , in hours:  0.8131\n",
      "Updated Bigram Vocab is:  342693744\n",
      "Usage before deleting FtPrFi:  [25116.67578125] Mb\n",
      "Usage after deleting FtPrFi:  [26306.36328125] Mb\n",
      "-------------------------------------------------------\n",
      "Data of directory:  36  is loaded/processed... in seconds:  352.1845 , in minutes  5.8697 , in hours:  0.0978\n",
      "Num of Docs before/after filtering:  99992  /  99135\n",
      "Usage before deleting FtPr:  [21460.640625] Mb\n",
      "Usage after deleting FtPr:  [21487.25390625] Mb\n",
      "Updating of biram model with directory:  36  is loaded/processed... in seconds:  2847.7885 , in minutes  47.4631 , in hours:  0.7911\n",
      "Updated Bigram Vocab is:  357578440\n",
      "Usage before deleting FtPrFi:  [25152.8203125] Mb\n",
      "Usage after deleting FtPrFi:  [25666.58203125] Mb\n",
      "-------------------------------------------------------\n",
      "Data of directory:  37  is loaded/processed... in seconds:  278.1428 , in minutes  4.6357 , in hours:  0.0773\n",
      "Num of Docs before/after filtering:  100000  /  98781\n",
      "Usage before deleting FtPr:  [20365.78515625] Mb\n",
      "Usage after deleting FtPr:  [20463.203125] Mb\n",
      "Updating of biram model with directory:  37  is loaded/processed... in seconds:  3484.1478 , in minutes  58.0691 , in hours:  0.9678\n",
      "Updated Bigram Vocab is:  371826456\n",
      "Usage before deleting FtPrFi:  [25041.71875] Mb\n",
      "Usage after deleting FtPrFi:  [24980.7578125] Mb\n",
      "-------------------------------------------------------\n",
      "Data of directory:  38  is loaded/processed... in seconds:  389.4583 , in minutes  6.491 , in hours:  0.1082\n",
      "Num of Docs before/after filtering:  100000  /  96462\n",
      "Usage before deleting FtPr:  [20783.171875] Mb\n",
      "Usage after deleting FtPr:  [21321.05078125] Mb\n",
      "Updating of biram model with directory:  38  is loaded/processed... in seconds:  3681.2485 , in minutes  61.3541 , in hours:  1.0226\n",
      "Updated Bigram Vocab is:  386202630\n",
      "Usage before deleting FtPrFi:  [25412.75390625] Mb\n",
      "Usage after deleting FtPrFi:  [25241.00390625] Mb\n",
      "-------------------------------------------------------\n",
      "Data of directory:  39  is loaded/processed... in seconds:  149.9308 , in minutes  2.4988 , in hours:  0.0416\n",
      "Num of Docs before/after filtering:  99999  /  97127\n",
      "Usage before deleting FtPr:  [23624.0390625] Mb\n",
      "Usage after deleting FtPr:  [23617.9609375] Mb\n",
      "Updating of biram model with directory:  39  is loaded/processed... in seconds:  7187.7741 , in minutes  119.7962 , in hours:  1.9966\n",
      "Updated Bigram Vocab is:  145860338\n",
      "Usage before deleting FtPrFi:  [15578.265625] Mb\n",
      "Usage after deleting FtPrFi:  [26203.57421875] Mb\n",
      "-------------------------------------------------------\n",
      "Data of directory:  40  is loaded/processed... in seconds:  293.3122 , in minutes  4.8885 , in hours:  0.0815\n",
      "Num of Docs before/after filtering:  99999  /  91932\n",
      "Usage before deleting FtPr:  [17412.5859375] Mb\n",
      "Usage after deleting FtPr:  [17409.453125] Mb\n",
      "Updating of biram model with directory:  40  is loaded/processed... in seconds:  1510.9936 , in minutes  25.1832 , in hours:  0.4197\n",
      "Updated Bigram Vocab is:  160433269\n",
      "Usage before deleting FtPrFi:  [24942.91015625] Mb\n",
      "Usage after deleting FtPrFi:  [26238.13671875] Mb\n",
      "-------------------------------------------------------\n",
      "Data of directory:  41  is loaded/processed... in seconds:  78.391 , in minutes  1.3065 , in hours:  0.0218\n",
      "Num of Docs before/after filtering:  100000  /  90087\n",
      "Usage before deleting FtPr:  [23858.859375] Mb\n",
      "Usage after deleting FtPr:  [23848.4765625] Mb\n",
      "Updating of biram model with directory:  41  is loaded/processed... in seconds:  1823.1857 , in minutes  30.3864 , in hours:  0.5064\n",
      "Updated Bigram Vocab is:  176258281\n",
      "Usage before deleting FtPrFi:  [23975.140625] Mb\n",
      "Usage after deleting FtPrFi:  [24881.11328125] Mb\n",
      "-------------------------------------------------------\n",
      "Data of directory:  42  is loaded/processed... in seconds:  112.2924 , in minutes  1.8715 , in hours:  0.0312\n",
      "Num of Docs before/after filtering:  99999  /  91429\n",
      "Usage before deleting FtPr:  [23765.49609375] Mb\n",
      "Usage after deleting FtPr:  [23761.953125] Mb\n",
      "Updating of biram model with directory:  42  is loaded/processed... in seconds:  2022.8266 , in minutes  33.7138 , in hours:  0.5619\n",
      "Updated Bigram Vocab is:  195943681\n",
      "Usage before deleting FtPrFi:  [24956.60546875] Mb\n",
      "Usage after deleting FtPrFi:  [25387.98046875] Mb\n",
      "-------------------------------------------------------\n",
      "Data of directory:  43  is loaded/processed... in seconds:  53.0513 , in minutes  0.8842 , in hours:  0.0147\n",
      "Num of Docs before/after filtering:  99999  /  90831\n",
      "Usage before deleting FtPr:  [23848.82421875] Mb\n",
      "Usage after deleting FtPr:  [23843.83203125] Mb\n",
      "Updating of biram model with directory:  43  is loaded/processed... in seconds:  1538.1071 , in minutes  25.6351 , in hours:  0.4273\n",
      "Updated Bigram Vocab is:  209612464\n",
      "Usage before deleting FtPrFi:  [25211.734375] Mb\n",
      "Usage after deleting FtPrFi:  [25857.52734375] Mb\n",
      "-------------------------------------------------------\n",
      "Data of directory:  44  is loaded/processed... in seconds:  257.0882 , in minutes  4.2848 , in hours:  0.0714\n",
      "Num of Docs before/after filtering:  100000  /  95958\n",
      "Usage before deleting FtPr:  [19225.0625] Mb\n",
      "Usage after deleting FtPr:  [19259.80078125] Mb\n",
      "Updating of biram model with directory:  44  is loaded/processed... in seconds:  2217.2034 , in minutes  36.9534 , in hours:  0.6159\n",
      "Updated Bigram Vocab is:  221059120\n",
      "Usage before deleting FtPrFi:  [25808.03125] Mb\n",
      "Usage after deleting FtPrFi:  [25864.453125] Mb\n",
      "-------------------------------------------------------\n",
      "Data of directory:  45  is loaded/processed... in seconds:  100.7437 , in minutes  1.6791 , in hours:  0.028\n",
      "Num of Docs before/after filtering:  100000  /  95030\n",
      "Usage before deleting FtPr:  [23889.015625] Mb\n",
      "Usage after deleting FtPr:  [23883.13671875] Mb\n",
      "Updating of biram model with directory:  45  is loaded/processed... in seconds:  2315.2526 , in minutes  38.5875 , in hours:  0.6431\n",
      "Updated Bigram Vocab is:  234899196\n",
      "Usage before deleting FtPrFi:  [25657.1796875] Mb\n",
      "Usage after deleting FtPrFi:  [25857.390625] Mb\n",
      "-------------------------------------------------------\n",
      "Data of directory:  46  is loaded/processed... in seconds:  404.3911 , in minutes  6.7399 , in hours:  0.1123\n",
      "Num of Docs before/after filtering:  99999  /  89048\n",
      "Usage before deleting FtPr:  [23850.5546875] Mb\n",
      "Usage after deleting FtPr:  [23847.859375] Mb\n",
      "Updating of biram model with directory:  46  is loaded/processed... in seconds:  2365.7318 , in minutes  39.4289 , in hours:  0.6571\n",
      "Updated Bigram Vocab is:  248877139\n",
      "Usage before deleting FtPrFi:  [25372.64453125] Mb\n",
      "Usage after deleting FtPrFi:  [25931.22265625] Mb\n",
      "-------------------------------------------------------\n",
      "Data of directory:  47  is loaded/processed... in seconds:  270.7627 , in minutes  4.5127 , in hours:  0.0752\n",
      "Num of Docs before/after filtering:  100000  /  93395\n",
      "Usage before deleting FtPr:  [20789.04296875] Mb\n",
      "Usage after deleting FtPr:  [20784.1015625] Mb\n",
      "Updating of biram model with directory:  47  is loaded/processed... in seconds:  2501.1128 , in minutes  41.6852 , in hours:  0.6948\n",
      "Updated Bigram Vocab is:  261329560\n",
      "Usage before deleting FtPrFi:  [25795.55859375] Mb\n",
      "Usage after deleting FtPrFi:  [25781.07421875] Mb\n",
      "-------------------------------------------------------\n",
      "Data of directory:  48  is loaded/processed... in seconds:  350.9016 , in minutes  5.8484 , in hours:  0.0975\n",
      "Num of Docs before/after filtering:  100000  /  92600\n",
      "Usage before deleting FtPr:  [22737.08984375] Mb\n",
      "Usage after deleting FtPr:  [22732.703125] Mb\n",
      "Updating of biram model with directory:  48  is loaded/processed... in seconds:  2807.7022 , in minutes  46.795 , in hours:  0.7799\n",
      "Updated Bigram Vocab is:  275003378\n",
      "Usage before deleting FtPrFi:  [24686.14453125] Mb\n",
      "Usage after deleting FtPrFi:  [24206.5] Mb\n",
      "-------------------------------------------------------\n",
      "Data of directory:  49  is loaded/processed... in seconds:  247.8812 , in minutes  4.1314 , in hours:  0.0689\n",
      "Num of Docs before/after filtering:  99999  /  92311\n",
      "Usage before deleting FtPr:  [16962.06640625] Mb\n",
      "Usage after deleting FtPr:  [16956.140625] Mb\n",
      "Updating of biram model with directory:  49  is loaded/processed... in seconds:  2261.4706 , in minutes  37.6912 , in hours:  0.6282\n",
      "Updated Bigram Vocab is:  283566889\n",
      "Usage before deleting FtPrFi:  [3.34765625] Mb\n",
      "Usage after deleting FtPrFi:  [14605.16796875] Mb\n",
      "-------------------------------------------------------\n",
      "Total processing time took:   is loaded/processed... in seconds:  77016.467 , in minutes  1283.6078 , in hours:  21.3935\n"
     ]
    }
   ],
   "source": [
    "# Start Global Timer which times the whole function\n",
    "tic = time.perf_counter()\n",
    "\n",
    "# Define the name of the logfile\n",
    "logName=path_creator(\"log\",[Model_Path, StartDir, EndDir, FreezedPhrasesLog_Suffix])\n",
    "\n",
    "if InterDir != None:\n",
    "    # Load InterDict\n",
    "    bigram=gensim.models.phrases.Phrases.load(path_creator(\"phrasesInterSave\",[Model_Path, InterDir-1, StartDir, EndDir, InterSavePhrases_Suffix]))\n",
    "    log_printer(logName,[\"interLoad\", path_creator(\"phrasesInterSave\",[Model_Path, InterDir-1, StartDir, EndDir, InterSavePhrases_Suffix])])\n",
    "else:\n",
    "    # Initiate new Bigram Model\n",
    "    bigram = gensim.models.phrases.Phrases(min_count=bigramMinFreq, threshold=bigramThreshold, max_vocab_size=phraseVocabSize)\n",
    "\n",
    "# Print parameters of phrase model\n",
    "log_printer(logName,[\"PhraseModelParameters\", bigramMinFreq, bigramThreshold, phraseVocabSize])\n",
    "\n",
    "# Print Memory usage at start\n",
    "log_printer(logName,[\"MemoryUsage\", \"Usage before processing: \"])\n",
    "\n",
    "# Process through directories if an InterDir is defined it starts from there\n",
    "for dirNum in range(StartDir+InterDir,EndDir+1):\n",
    "\n",
    "    # Load FilteredMetaData\n",
    "    Meta=pd.read_pickle(path_creator(\"meta\",[IntermediateData_Path, dirNum, MetaDataFiltered_Suffix]))\n",
    "\n",
    "    #Load preprocessed full text\n",
    "    tictic = time.perf_counter()\n",
    "    FtPr=Dict_Loader(dirNum, IntermediateData_Path, FtPr_Suffix)\n",
    "    toctoc = time.perf_counter()\n",
    "    #Print time usage to log\n",
    "    log_printer(logName,[\"ProcessTime\",\"Data of directory: \",dirNum,toctoc-tictic])\n",
    "\n",
    "    # Apply meta data filter and delet old dataframe\n",
    "    FtPrFi=[FtPr[DOI] for DOI in list(Meta[\"DOI\"])]\n",
    "    # Check if apllying the filter worked\n",
    "    log_printer(logName,[\"MetaFilter\",len(FtPr),len(FtPrFi)])\n",
    "\n",
    "    # Print Memory usage at start\n",
    "    log_printer(logName,[\"MemoryUsage\", \"Usage before deleting FtPr: \"])\n",
    "    del FtPr\n",
    "    gc.collect\n",
    "    # Print Memory usage at start\n",
    "    log_printer(logName,[\"MemoryUsage\", \"Usage after deleting FtPr: \"])\n",
    "\n",
    "    #Load preprocessed full text\n",
    "    tictic = time.perf_counter()\n",
    "    # Update the Phrase Model\n",
    "    bigram.add_vocab(FtPrFi)\n",
    "    toctoc = time.perf_counter()\n",
    "    #Print time usage to log\n",
    "    log_printer(logName,[\"ProcessTime\",\"Updating of biram model with directory: \",dirNum,toctoc-tictic])\n",
    "    # log updated bigram\n",
    "    log_printer(logName,[\"BigramUpdate\",len(bigram.vocab)])\n",
    "\n",
    "    # Save interim progress if specific dirs are processed\n",
    "    if dirNum==24 or dirNum==49:\n",
    "        bigram.save(path_creator(\"phrasesInterSave\",[Model_Path, dirNum, StartDir, EndDir, InterSavePhrases_Suffix]))\n",
    "\n",
    "    # Print Memory usage at start\n",
    "    log_printer(logName,[\"MemoryUsage\", \"Usage before deleting FtPrFi: \"])\n",
    "    # Delete loaded lists\n",
    "    del(FtPrFi)\n",
    "    gc.collect()\n",
    "    # Print Memory usage at start\n",
    "    log_printer(logName,[\"MemoryUsage\", \"Usage after deleting FtPrFi: \"])\n",
    "\n",
    "    # Print iteration separator\n",
    "    log_printer(logName,[\"iterNext\"])\n",
    "\n",
    "# Freeze Model\n",
    "frozen_bigram_model = bigram.freeze()\n",
    "\n",
    "# Save Model\n",
    "frozen_bigram_model.save(path_creator(\"phraseModel\",[Model_Path, StartDir, EndDir, FreezedPhrases_Suffix]))\n",
    "\n",
    "#Stop global timer and print\n",
    "toc = time.perf_counter()\n",
    "log_printer(logName,[\"FinalProcessTime\",\"Total processing time took: \",toc-tic])"
   ]
  },
  {
   "cell_type": "code",
   "execution_count": null,
   "metadata": {},
   "outputs": [],
   "source": [
    "# # Start Global Timer which times the whole function\n",
    "# tic = time.perf_counter()\n",
    "\n",
    "# # Load Bigram Model\n",
    "# bigram = gensim.models.phrases.Phrases(min_count=bigramMinFreq, threshold=bigramThreshold, max_vocab_size=phraseVocabSize)\n",
    "\n",
    "# # Define saveName for the Log file\n",
    "# saveName=(Model_Path + str(StartDir).zfill(3) + \"_\" + str(EndDir).zfill(3) + FreezedPhrasesLog_Suffix).replace(\" \",\"\")\n",
    "\n",
    "# # Print model parameters for log file\n",
    "# print(\"Phrase Model Parameters: \", bigramMinFreq, bigramThreshold, phraseVocabSize,file=open(saveName,'a'))\n",
    "# print(\"Phrase Model Parameters: \", bigramMinFreq, bigramThreshold, phraseVocabSize)\n",
    "\n",
    "# # Create phrases model\n",
    "# for dirNum in range(StartDir,EndDir+1):\n",
    "\n",
    "#     # Load FilteredMetaData\n",
    "#     dirNum=str(dirNum).zfill(3)\n",
    "#     Meta_Path=(IntermediateData_Path + dirNum + MetaDataFiltered_Suffix).replace(\" \",\"\")\n",
    "#     Meta=pd.read_pickle(Meta_Path)\n",
    "\n",
    "#     #Load preprocessed full text\n",
    "#     tictic = time.perf_counter()\n",
    "#     FtPr=Dict_Loader(dirNum, IntermediateData_Path, FtPr_Suffix)\n",
    "#     toctoc = time.perf_counter()\n",
    "\n",
    "#     print(\"Data of directory: \",dirNum, \" is loaded... in seconds: \", round(toctoc-tictic,4), \", in minutes \",\n",
    "#         round((toctoc-tictic)/60,4), \", in hours: \", round((toctoc-tictic)/3600,4),file=open(saveName,'a'))\n",
    "#     print(\"Data of directory: \",dirNum, \" is loaded... in seconds: \", round(toctoc-tictic,4), \", in minutes \", \n",
    "#         round((toctoc-tictic)/60,4), \", in hours: \", round((toctoc-tictic)/3600,4))\n",
    "    \n",
    "#     # Apply filter and delet old dataframe\n",
    "#     FtPrFi=[FtPr[DOI] for DOI in list(Meta[\"DOI\"])]\n",
    "\n",
    "#     # Check if apllying the filter worked\n",
    "#     print(\"Num of Docs before/after filtering: \", len(FtPr), \" / \", len(FtPrFi),file=open(saveName,'a'))\n",
    "#     print(\"Num of Docs before/after filtering: \", len(FtPr), \" / \", len(FtPrFi))\n",
    "#     del FtPr\n",
    "#     gc.collect\n",
    "\n",
    "#     # Update the Phrase Model\n",
    "#     bigram.add_vocab(FtPrFi)\n",
    "\n",
    "#     print(\"Updated Bigram Vocab is: \",len(bigram.vocab),file=open(saveName,'a'))\n",
    "#     print(\"Updated Bigram Vocab is: \",len(bigram.vocab))\n",
    "\n",
    "#     # #---------------------------------------------------------------------------------------------------------------\n",
    "#     # # Check if new vocab is added through the counting of bigrams (If vocab is updated it shoud be the same)\n",
    "#     # AllBigrams=[len([b for b in bigram[sent] if b.count('_') == 1]) for sent in FtPrFi[0:10000]]\n",
    "\n",
    "#     # print(\"Bigram count of \", dirNum, \" is \", sum(AllBigrams), \"(Calculated for 10000 docs at each iteration)\",file=open(saveName,'a'))\n",
    "#     # print(\"Bigram count of \", dirNum, \" is \", sum(AllBigrams), \"(Calculated for 10000 docs at each iteration)\")\n",
    "\n",
    "#     # # Check if new vocab is added through the phasegrams dict of the freezed model\n",
    "#     # bigram_freezed = bigram.freeze()\n",
    "\n",
    "#     # print(\"Amount of phrasegrams in freezed bigram model: \",len(bigram_freezed.phrasegrams),file=open(saveName,'a'))\n",
    "#     # print(\"-------------------------------------------------------\",file=open(saveName,'a'))\n",
    "#     # print(\"Amount of phrasegrams in freezed bigram model: \",len(bigram_freezed.phrasegrams))\n",
    "#     print(\"-------------------------------------------------------\")\n",
    "#     # #---------------------------------------------------------------------------------------------------------------\n",
    "\n",
    "#     # Delete loaded lists\n",
    "#     # print(\"Director number: \",dirNum,\" is processed and now deleted\")\n",
    "#     del(FtPrFi)\n",
    "#     gc.collect()\n",
    "\n",
    "# # Freeze Model\n",
    "# frozen_bigram_model = bigram.freeze()\n",
    "\n",
    "# #Stop global timer and print\n",
    "# toc = time.perf_counter()\n",
    "# print(\"Time elapsed in seconds: \", round(toc-tic,4), \", in minutes \", round((toc-tic)/60,4), \", in hours: \", round((toc-tic)/3600,4))\n",
    "# print(\"Time elapsed in seconds: \", round(toc-tic,4), \", in minutes \", round((toc-tic)/60,4), \", in hours: \", round((toc-tic)/3600,4),file=open(saveName,'a'))\n",
    "\n",
    "# # Save Model\n",
    "# saveName=(Model_Path + str(StartDir).zfill(3) + \"_\" + str(EndDir).zfill(3) + FreezedPhrases_Suffix).replace(\" \",\"\")\n",
    "# print(saveName)\n",
    "# frozen_bigram_model.save(saveName)"
   ]
  },
  {
   "cell_type": "markdown",
   "metadata": {},
   "source": [
    "### Dictionary"
   ]
  },
  {
   "cell_type": "code",
   "execution_count": 5,
   "metadata": {},
   "outputs": [
    {
     "name": "stdout",
     "output_type": "stream",
     "text": [
      "The dictionary has max vocab of:  60000000\n",
      "Data of directory:  0  is applied/loaded/processed... in seconds:  144.0323 , in minutes  2.4005 , in hours:  0.04\n",
      "Num of Docs before/after filtering:  99984  /  97802\n",
      "Usage before deleting FtPr:  [19645.625] Mb\n",
      "Usage after deleting FtPr:  [19547.61328125] Mb\n",
      "Bigram model with FtPriFi of directory:   0  is applied/loaded/processed... in seconds:  0.0005 , in minutes  0.0 , in hours:  0.0\n",
      "Document vocab is added from directory:  0  is applied/loaded/processed... in seconds:  511.8726 , in minutes  8.5312 , in hours:  0.1422\n",
      "Data of directory:  1  is applied/loaded/processed... in seconds:  133.8587 , in minutes  2.231 , in hours:  0.0372\n",
      "Num of Docs before/after filtering:  99992  /  93368\n",
      "Usage before deleting FtPr:  [26114.3671875] Mb\n",
      "Usage after deleting FtPr:  [25902.0703125] Mb\n",
      "Bigram model with FtPriFi of directory:   1  is applied/loaded/processed... in seconds:  117.5325 , in minutes  1.9589 , in hours:  0.0326\n",
      "Document vocab is added from directory:  1  is applied/loaded/processed... in seconds:  589.051 , in minutes  9.8175 , in hours:  0.1636\n",
      "Data of directory:  2  is applied/loaded/processed... in seconds:  276.5928 , in minutes  4.6099 , in hours:  0.0768\n",
      "Num of Docs before/after filtering:  99999  /  87265\n",
      "Usage before deleting FtPr:  [22348.71484375] Mb\n",
      "Usage after deleting FtPr:  [22502.5078125] Mb\n",
      "Bigram model with FtPriFi of directory:   2  is applied/loaded/processed... in seconds:  99.2839 , in minutes  1.6547 , in hours:  0.0276\n",
      "Document vocab is added from directory:  2  is applied/loaded/processed... in seconds:  655.0813 , in minutes  10.918 , in hours:  0.182\n",
      "Data of directory:  3  is applied/loaded/processed... in seconds:  578.7985 , in minutes  9.6466 , in hours:  0.1608\n",
      "Num of Docs before/after filtering:  99996  /  55852\n",
      "Usage before deleting FtPr:  [24900.59765625] Mb\n",
      "Usage after deleting FtPr:  [24485.953125] Mb\n",
      "Bigram model with FtPriFi of directory:   3  is applied/loaded/processed... in seconds:  212.7543 , in minutes  3.5459 , in hours:  0.0591\n",
      "Document vocab is added from directory:  3  is applied/loaded/processed... in seconds:  404.946 , in minutes  6.7491 , in hours:  0.1125\n",
      "Data of directory:  4  is applied/loaded/processed... in seconds:  148.4666 , in minutes  2.4744 , in hours:  0.0412\n",
      "Num of Docs before/after filtering:  99999  /  49390\n",
      "Usage before deleting FtPr:  [24323.14453125] Mb\n",
      "Usage after deleting FtPr:  [24360.64453125] Mb\n",
      "Bigram model with FtPriFi of directory:   4  is applied/loaded/processed... in seconds:  70.914 , in minutes  1.1819 , in hours:  0.0197\n",
      "Document vocab is added from directory:  4  is applied/loaded/processed... in seconds:  193.4049 , in minutes  3.2234 , in hours:  0.0537\n",
      "Data of directory:  5  is applied/loaded/processed... in seconds:  132.8225 , in minutes  2.2137 , in hours:  0.0369\n",
      "Num of Docs before/after filtering:  99999  /  56258\n",
      "Usage before deleting FtPr:  [24174.38671875] Mb\n",
      "Usage after deleting FtPr:  [23898.984375] Mb\n",
      "Bigram model with FtPriFi of directory:   5  is applied/loaded/processed... in seconds:  11.691 , in minutes  0.1949 , in hours:  0.0032\n",
      "Document vocab is added from directory:  5  is applied/loaded/processed... in seconds:  339.5124 , in minutes  5.6585 , in hours:  0.0943\n",
      "Data of directory:  6  is applied/loaded/processed... in seconds:  107.5884 , in minutes  1.7931 , in hours:  0.0299\n",
      "Num of Docs before/after filtering:  99972  /  51053\n",
      "Usage before deleting FtPr:  [23563.31640625] Mb\n",
      "Usage after deleting FtPr:  [23558.87890625] Mb\n",
      "Bigram model with FtPriFi of directory:   6  is applied/loaded/processed... in seconds:  22.7412 , in minutes  0.379 , in hours:  0.0063\n",
      "Document vocab is added from directory:  6  is applied/loaded/processed... in seconds:  334.916 , in minutes  5.5819 , in hours:  0.093\n",
      "Data of directory:  7  is applied/loaded/processed... in seconds:  89.694 , in minutes  1.4949 , in hours:  0.0249\n",
      "Num of Docs before/after filtering:  99997  /  54869\n",
      "Usage before deleting FtPr:  [24113.26953125] Mb\n",
      "Usage after deleting FtPr:  [24107.34765625] Mb\n",
      "Bigram model with FtPriFi of directory:   7  is applied/loaded/processed... in seconds:  34.5902 , in minutes  0.5765 , in hours:  0.0096\n",
      "Document vocab is added from directory:  7  is applied/loaded/processed... in seconds:  273.9739 , in minutes  4.5662 , in hours:  0.0761\n",
      "Data of directory:  8  is applied/loaded/processed... in seconds:  63.9859 , in minutes  1.0664 , in hours:  0.0178\n",
      "Num of Docs before/after filtering:  99997  /  32717\n",
      "Usage before deleting FtPr:  [23838.3515625] Mb\n",
      "Usage after deleting FtPr:  [23833.34765625] Mb\n",
      "Bigram model with FtPriFi of directory:   8  is applied/loaded/processed... in seconds:  21.5095 , in minutes  0.3585 , in hours:  0.006\n",
      "Document vocab is added from directory:  8  is applied/loaded/processed... in seconds:  218.1801 , in minutes  3.6363 , in hours:  0.0606\n",
      "Data of directory:  9  is applied/loaded/processed... in seconds:  6.186 , in minutes  0.1031 , in hours:  0.0017\n",
      "Num of Docs before/after filtering:  99998  /  0\n",
      "Usage before deleting FtPr:  [22739.4765625] Mb\n",
      "Usage after deleting FtPr:  [22734.47265625] Mb\n",
      "Bigram model with FtPriFi of directory:   9  is applied/loaded/processed... in seconds:  14.477 , in minutes  0.2413 , in hours:  0.004\n",
      "Document vocab is added from directory:  9  is applied/loaded/processed... in seconds:  0.0 , in minutes  0.0 , in hours:  0.0\n",
      "Data of directory:  10  is applied/loaded/processed... in seconds:  10.6015 , in minutes  0.1767 , in hours:  0.0029\n",
      "Num of Docs before/after filtering:  100000  /  4453\n",
      "Usage before deleting FtPr:  [21855.859375] Mb\n",
      "Usage after deleting FtPr:  [21850.86328125] Mb\n",
      "Bigram model with FtPriFi of directory:   10  is applied/loaded/processed... in seconds:  0.0 , in minutes  0.0 , in hours:  0.0\n",
      "Document vocab is added from directory:  10  is applied/loaded/processed... in seconds:  18.7613 , in minutes  0.3127 , in hours:  0.0052\n",
      "Data of directory:  11  is applied/loaded/processed... in seconds:  135.3702 , in minutes  2.2562 , in hours:  0.0376\n",
      "Num of Docs before/after filtering:  99999  /  71665\n",
      "Usage before deleting FtPr:  [22420.4375] Mb\n",
      "Usage after deleting FtPr:  [22429.59375] Mb\n",
      "Bigram model with FtPriFi of directory:   11  is applied/loaded/processed... in seconds:  1.0117 , in minutes  0.0169 , in hours:  0.0003\n",
      "Document vocab is added from directory:  11  is applied/loaded/processed... in seconds:  595.7643 , in minutes  9.9294 , in hours:  0.1655\n",
      "Data of directory:  12  is applied/loaded/processed... in seconds:  624.7902 , in minutes  10.4132 , in hours:  0.1736\n",
      "Num of Docs before/after filtering:  99998  /  91302\n",
      "Usage before deleting FtPr:  [23047.35546875] Mb\n",
      "Usage after deleting FtPr:  [23098.55078125] Mb\n",
      "Bigram model with FtPriFi of directory:   12  is applied/loaded/processed... in seconds:  175.9195 , in minutes  2.932 , in hours:  0.0489\n",
      "Document vocab is added from directory:  12  is applied/loaded/processed... in seconds:  709.3214 , in minutes  11.822 , in hours:  0.197\n",
      "Data of directory:  13  is applied/loaded/processed... in seconds:  947.1305 , in minutes  15.7855 , in hours:  0.2631\n",
      "Num of Docs before/after filtering:  99998  /  76077\n",
      "Usage before deleting FtPr:  [22211.37109375] Mb\n",
      "Usage after deleting FtPr:  [23064.66796875] Mb\n",
      "Bigram model with FtPriFi of directory:   13  is applied/loaded/processed... in seconds:  206.1312 , in minutes  3.4355 , in hours:  0.0573\n",
      "Document vocab is added from directory:  13  is applied/loaded/processed... in seconds:  917.9611 , in minutes  15.2994 , in hours:  0.255\n",
      "Data of directory:  14  is applied/loaded/processed... in seconds:  1093.4898 , in minutes  18.2248 , in hours:  0.3037\n",
      "Num of Docs before/after filtering:  100000  /  90085\n",
      "Usage before deleting FtPr:  [22365.296875] Mb\n",
      "Usage after deleting FtPr:  [23058.37890625] Mb\n",
      "Bigram model with FtPriFi of directory:   14  is applied/loaded/processed... in seconds:  176.169 , in minutes  2.9361 , in hours:  0.0489\n",
      "Document vocab is added from directory:  14  is applied/loaded/processed... in seconds:  921.3334 , in minutes  15.3556 , in hours:  0.2559\n",
      "Data of directory:  15  is applied/loaded/processed... in seconds:  1049.0718 , in minutes  17.4845 , in hours:  0.2914\n",
      "Num of Docs before/after filtering:  99996  /  67106\n",
      "Usage before deleting FtPr:  [23587.51953125] Mb\n",
      "Usage after deleting FtPr:  [24866.9609375] Mb\n",
      "Bigram model with FtPriFi of directory:   15  is applied/loaded/processed... in seconds:  264.2266 , in minutes  4.4038 , in hours:  0.0734\n",
      "Document vocab is added from directory:  15  is applied/loaded/processed... in seconds:  881.7643 , in minutes  14.6961 , in hours:  0.2449\n",
      "Data of directory:  16  is applied/loaded/processed... in seconds:  615.3292 , in minutes  10.2555 , in hours:  0.1709\n",
      "Num of Docs before/after filtering:  99999  /  78430\n",
      "Usage before deleting FtPr:  [23455.38671875] Mb\n",
      "Usage after deleting FtPr:  [23808.39453125] Mb\n",
      "Bigram model with FtPriFi of directory:   16  is applied/loaded/processed... in seconds:  70.8503 , in minutes  1.1808 , in hours:  0.0197\n",
      "Document vocab is added from directory:  16  is applied/loaded/processed... in seconds:  552.0773 , in minutes  9.2013 , in hours:  0.1534\n",
      "Data of directory:  17  is applied/loaded/processed... in seconds:  306.9139 , in minutes  5.1152 , in hours:  0.0853\n",
      "Num of Docs before/after filtering:  100000  /  75500\n",
      "Usage before deleting FtPr:  [26369.23046875] Mb\n",
      "Usage after deleting FtPr:  [26393.37109375] Mb\n",
      "Bigram model with FtPriFi of directory:   17  is applied/loaded/processed... in seconds:  49.9514 , in minutes  0.8325 , in hours:  0.0139\n",
      "Document vocab is added from directory:  17  is applied/loaded/processed... in seconds:  720.9083 , in minutes  12.0151 , in hours:  0.2003\n",
      "Data of directory:  18  is applied/loaded/processed... in seconds:  236.8433 , in minutes  3.9474 , in hours:  0.0658\n",
      "Num of Docs before/after filtering:  99993  /  79018\n",
      "Usage before deleting FtPr:  [23593.09765625] Mb\n",
      "Usage after deleting FtPr:  [23602.70703125] Mb\n",
      "Bigram model with FtPriFi of directory:   18  is applied/loaded/processed... in seconds:  152.333 , in minutes  2.5389 , in hours:  0.0423\n",
      "Document vocab is added from directory:  18  is applied/loaded/processed... in seconds:  828.175 , in minutes  13.8029 , in hours:  0.23\n",
      "Data of directory:  19  is applied/loaded/processed... in seconds:  585.0175 , in minutes  9.7503 , in hours:  0.1625\n",
      "Num of Docs before/after filtering:  99973  /  91979\n",
      "Usage before deleting FtPr:  [23997.23828125] Mb\n",
      "Usage after deleting FtPr:  [24040.57421875] Mb\n",
      "Bigram model with FtPriFi of directory:   19  is applied/loaded/processed... in seconds:  53.5481 , in minutes  0.8925 , in hours:  0.0149\n",
      "Document vocab is added from directory:  19  is applied/loaded/processed... in seconds:  656.7553 , in minutes  10.9459 , in hours:  0.1824\n",
      "Data of directory:  20  is applied/loaded/processed... in seconds:  254.2951 , in minutes  4.2383 , in hours:  0.0706\n",
      "Num of Docs before/after filtering:  99998  /  93349\n",
      "Usage before deleting FtPr:  [23735.17578125] Mb\n",
      "Usage after deleting FtPr:  [23739.88671875] Mb\n",
      "Bigram model with FtPriFi of directory:   20  is applied/loaded/processed... in seconds:  108.3132 , in minutes  1.8052 , in hours:  0.0301\n",
      "Document vocab is added from directory:  20  is applied/loaded/processed... in seconds:  446.4867 , in minutes  7.4414 , in hours:  0.124\n",
      "Data of directory:  21  is applied/loaded/processed... in seconds:  228.6003 , in minutes  3.81 , in hours:  0.0635\n",
      "Num of Docs before/after filtering:  100000  /  94205\n",
      "Usage before deleting FtPr:  [24225.11328125] Mb\n",
      "Usage after deleting FtPr:  [24221.8515625] Mb\n",
      "Bigram model with FtPriFi of directory:   21  is applied/loaded/processed... in seconds:  7.3522 , in minutes  0.1225 , in hours:  0.002\n",
      "Document vocab is added from directory:  21  is applied/loaded/processed... in seconds:  548.6612 , in minutes  9.1444 , in hours:  0.1524\n",
      "Data of directory:  22  is applied/loaded/processed... in seconds:  232.1271 , in minutes  3.8688 , in hours:  0.0645\n",
      "Num of Docs before/after filtering:  99999  /  90868\n",
      "Usage before deleting FtPr:  [24254.18359375] Mb\n",
      "Usage after deleting FtPr:  [24261.4453125] Mb\n",
      "Bigram model with FtPriFi of directory:   22  is applied/loaded/processed... in seconds:  14.1795 , in minutes  0.2363 , in hours:  0.0039\n",
      "Document vocab is added from directory:  22  is applied/loaded/processed... in seconds:  481.5783 , in minutes  8.0263 , in hours:  0.1338\n",
      "Data of directory:  23  is applied/loaded/processed... in seconds:  263.0473 , in minutes  4.3841 , in hours:  0.0731\n",
      "Num of Docs before/after filtering:  99999  /  94101\n",
      "Usage before deleting FtPr:  [22260.01953125] Mb\n",
      "Usage after deleting FtPr:  [22255.56640625] Mb\n",
      "Bigram model with FtPriFi of directory:   23  is applied/loaded/processed... in seconds:  28.1931 , in minutes  0.4699 , in hours:  0.0078\n",
      "Document vocab is added from directory:  23  is applied/loaded/processed... in seconds:  355.4078 , in minutes  5.9235 , in hours:  0.0987\n",
      "Data of directory:  24  is applied/loaded/processed... in seconds:  85.2302 , in minutes  1.4205 , in hours:  0.0237\n",
      "Num of Docs before/after filtering:  100000  /  93895\n",
      "Usage before deleting FtPr:  [25271.8671875] Mb\n",
      "Usage after deleting FtPr:  [25267.3671875] Mb\n",
      "Bigram model with FtPriFi of directory:   24  is applied/loaded/processed... in seconds:  6.2835 , in minutes  0.1047 , in hours:  0.0017\n",
      "Document vocab is added from directory:  24  is applied/loaded/processed... in seconds:  257.442 , in minutes  4.2907 , in hours:  0.0715\n",
      "Data of directory:  25  is applied/loaded/processed... in seconds:  88.8324 , in minutes  1.4805 , in hours:  0.0247\n",
      "Num of Docs before/after filtering:  99999  /  95245\n",
      "Usage before deleting FtPr:  [23768.625] Mb\n",
      "Usage after deleting FtPr:  [23763.06640625] Mb\n",
      "Bigram model with FtPriFi of directory:   25  is applied/loaded/processed... in seconds:  2.9254 , in minutes  0.0488 , in hours:  0.0008\n",
      "Document vocab is added from directory:  25  is applied/loaded/processed... in seconds:  375.9534 , in minutes  6.2659 , in hours:  0.1044\n",
      "Data of directory:  26  is applied/loaded/processed... in seconds:  56.3395 , in minutes  0.939 , in hours:  0.0156\n",
      "Num of Docs before/after filtering:  100000  /  94401\n",
      "Usage before deleting FtPr:  [24887.640625] Mb\n",
      "Usage after deleting FtPr:  [24882.9765625] Mb\n",
      "Bigram model with FtPriFi of directory:   26  is applied/loaded/processed... in seconds:  3.4262 , in minutes  0.0571 , in hours:  0.001\n",
      "Document vocab is added from directory:  26  is applied/loaded/processed... in seconds:  253.1459 , in minutes  4.2191 , in hours:  0.0703\n",
      "Data of directory:  27  is applied/loaded/processed... in seconds:  105.7152 , in minutes  1.7619 , in hours:  0.0294\n",
      "Num of Docs before/after filtering:  100000  /  94085\n",
      "Usage before deleting FtPr:  [24352.9453125] Mb\n",
      "Usage after deleting FtPr:  [24351.69140625] Mb\n",
      "Bigram model with FtPriFi of directory:   27  is applied/loaded/processed... in seconds:  4.1778 , in minutes  0.0696 , in hours:  0.0012\n",
      "Document vocab is added from directory:  27  is applied/loaded/processed... in seconds:  413.6432 , in minutes  6.8941 , in hours:  0.1149\n",
      "Data of directory:  28  is applied/loaded/processed... in seconds:  431.3692 , in minutes  7.1895 , in hours:  0.1198\n",
      "Num of Docs before/after filtering:  100000  /  93191\n",
      "Usage before deleting FtPr:  [23868.28125] Mb\n",
      "Usage after deleting FtPr:  [23925.0234375] Mb\n",
      "Bigram model with FtPriFi of directory:   28  is applied/loaded/processed... in seconds:  16.5593 , in minutes  0.276 , in hours:  0.0046\n",
      "Document vocab is added from directory:  28  is applied/loaded/processed... in seconds:  610.9833 , in minutes  10.1831 , in hours:  0.1697\n",
      "Data of directory:  29  is applied/loaded/processed... in seconds:  532.0058 , in minutes  8.8668 , in hours:  0.1478\n",
      "Num of Docs before/after filtering:  100000  /  95382\n",
      "Usage before deleting FtPr:  [23429.90234375] Mb\n",
      "Usage after deleting FtPr:  [23468.1875] Mb\n",
      "Bigram model with FtPriFi of directory:   29  is applied/loaded/processed... in seconds:  29.9026 , in minutes  0.4984 , in hours:  0.0083\n",
      "Document vocab is added from directory:  29  is applied/loaded/processed... in seconds:  670.7223 , in minutes  11.1787 , in hours:  0.1863\n",
      "Data of directory:  30  is applied/loaded/processed... in seconds:  1321.0601 , in minutes  22.0177 , in hours:  0.367\n",
      "Num of Docs before/after filtering:  99999  /  98959\n",
      "Usage before deleting FtPr:  [21830.8125] Mb\n",
      "Usage after deleting FtPr:  [21905.3671875] Mb\n",
      "Bigram model with FtPriFi of directory:   30  is applied/loaded/processed... in seconds:  140.2754 , in minutes  2.3379 , in hours:  0.039\n",
      "Document vocab is added from directory:  30  is applied/loaded/processed... in seconds:  991.4642 , in minutes  16.5244 , in hours:  0.2754\n",
      "Data of directory:  31  is applied/loaded/processed... in seconds:  358.9655 , in minutes  5.9828 , in hours:  0.0997\n",
      "Num of Docs before/after filtering:  99999  /  96702\n",
      "Usage before deleting FtPr:  [23015.21875] Mb\n",
      "Usage after deleting FtPr:  [23036.08984375] Mb\n",
      "Bigram model with FtPriFi of directory:   31  is applied/loaded/processed... in seconds:  280.8192 , in minutes  4.6803 , in hours:  0.078\n",
      "Document vocab is added from directory:  31  is applied/loaded/processed... in seconds:  940.8529 , in minutes  15.6809 , in hours:  0.2613\n",
      "Data of directory:  32  is applied/loaded/processed... in seconds:  669.9414 , in minutes  11.1657 , in hours:  0.1861\n",
      "Num of Docs before/after filtering:  99999  /  95459\n",
      "Usage before deleting FtPr:  [23612.16015625] Mb\n",
      "Usage after deleting FtPr:  [23625.359375] Mb\n",
      "Bigram model with FtPriFi of directory:   32  is applied/loaded/processed... in seconds:  77.4791 , in minutes  1.2913 , in hours:  0.0215\n",
      "Document vocab is added from directory:  32  is applied/loaded/processed... in seconds:  688.0639 , in minutes  11.4677 , in hours:  0.1911\n",
      "Data of directory:  33  is applied/loaded/processed... in seconds:  421.4145 , in minutes  7.0236 , in hours:  0.1171\n",
      "Num of Docs before/after filtering:  100000  /  98345\n",
      "Usage before deleting FtPr:  [22174.26171875] Mb\n",
      "Usage after deleting FtPr:  [22187.3359375] Mb\n",
      "Bigram model with FtPriFi of directory:   33  is applied/loaded/processed... in seconds:  212.4284 , in minutes  3.5405 , in hours:  0.059\n",
      "Document vocab is added from directory:  33  is applied/loaded/processed... in seconds:  1077.6886 , in minutes  17.9615 , in hours:  0.2994\n",
      "Data of directory:  34  is applied/loaded/processed... in seconds:  1737.6626 , in minutes  28.961 , in hours:  0.4827\n",
      "Num of Docs before/after filtering:  100000  /  99135\n",
      "Usage before deleting FtPr:  [21671.546875] Mb\n",
      "Usage after deleting FtPr:  [21705.6484375] Mb\n",
      "Bigram model with FtPriFi of directory:   34  is applied/loaded/processed... in seconds:  501.9259 , in minutes  8.3654 , in hours:  0.1394\n",
      "Document vocab is added from directory:  34  is applied/loaded/processed... in seconds:  1141.622 , in minutes  19.027 , in hours:  0.3171\n",
      "Data of directory:  35  is applied/loaded/processed... in seconds:  523.908 , in minutes  8.7318 , in hours:  0.1455\n",
      "Num of Docs before/after filtering:  100000  /  96806\n",
      "Usage before deleting FtPr:  [21800.0] Mb\n",
      "Usage after deleting FtPr:  [21872.0859375] Mb\n",
      "Bigram model with FtPriFi of directory:   35  is applied/loaded/processed... in seconds:  314.5636 , in minutes  5.2427 , in hours:  0.0874\n",
      "Document vocab is added from directory:  35  is applied/loaded/processed... in seconds:  1239.2503 , in minutes  20.6542 , in hours:  0.3442\n",
      "Data of directory:  36  is applied/loaded/processed... in seconds:  1976.2802 , in minutes  32.938 , in hours:  0.549\n",
      "Num of Docs before/after filtering:  99992  /  99135\n",
      "Usage before deleting FtPr:  [21531.953125] Mb\n",
      "Usage after deleting FtPr:  [21558.90625] Mb\n",
      "Bigram model with FtPriFi of directory:   36  is applied/loaded/processed... in seconds:  363.4044 , in minutes  6.0567 , in hours:  0.1009\n",
      "Document vocab is added from directory:  36  is applied/loaded/processed... in seconds:  1152.2081 , in minutes  19.2035 , in hours:  0.3201\n",
      "Data of directory:  37  is applied/loaded/processed... in seconds:  544.6423 , in minutes  9.0774 , in hours:  0.1513\n",
      "Num of Docs before/after filtering:  100000  /  98781\n",
      "Usage before deleting FtPr:  [20686.5859375] Mb\n",
      "Usage after deleting FtPr:  [20717.84375] Mb\n",
      "Bigram model with FtPriFi of directory:   37  is applied/loaded/processed... in seconds:  314.0692 , in minutes  5.2345 , in hours:  0.0872\n",
      "Document vocab is added from directory:  37  is applied/loaded/processed... in seconds:  1214.2715 , in minutes  20.2379 , in hours:  0.3373\n",
      "Data of directory:  38  is applied/loaded/processed... in seconds:  641.0137 , in minutes  10.6836 , in hours:  0.1781\n",
      "Num of Docs before/after filtering:  100000  /  96462\n",
      "Usage before deleting FtPr:  [21047.8125] Mb\n",
      "Usage after deleting FtPr:  [21163.609375] Mb\n",
      "Bigram model with FtPriFi of directory:   38  is applied/loaded/processed... in seconds:  364.7412 , in minutes  6.079 , in hours:  0.1013\n",
      "Document vocab is added from directory:  38  is applied/loaded/processed... in seconds:  1185.4824 , in minutes  19.758 , in hours:  0.3293\n",
      "Data of directory:  39  is applied/loaded/processed... in seconds:  1215.5099 , in minutes  20.2585 , in hours:  0.3376\n",
      "Num of Docs before/after filtering:  99999  /  97127\n",
      "Usage before deleting FtPr:  [23055.3515625] Mb\n",
      "Usage after deleting FtPr:  [23089.2734375] Mb\n",
      "Bigram model with FtPriFi of directory:   39  is applied/loaded/processed... in seconds:  282.5023 , in minutes  4.7084 , in hours:  0.0785\n",
      "Document vocab is added from directory:  39  is applied/loaded/processed... in seconds:  1063.0992 , in minutes  17.7183 , in hours:  0.2953\n",
      "Data of directory:  40  is applied/loaded/processed... in seconds:  791.4618 , in minutes  13.191 , in hours:  0.2199\n",
      "Num of Docs before/after filtering:  99999  /  91932\n",
      "Usage before deleting FtPr:  [22936.08203125] Mb\n",
      "Usage after deleting FtPr:  [23030.125] Mb\n",
      "Bigram model with FtPriFi of directory:   40  is applied/loaded/processed... in seconds:  99.1209 , in minutes  1.652 , in hours:  0.0275\n",
      "Document vocab is added from directory:  40  is applied/loaded/processed... in seconds:  726.422 , in minutes  12.107 , in hours:  0.2018\n",
      "Data of directory:  41  is applied/loaded/processed... in seconds:  504.5035 , in minutes  8.4084 , in hours:  0.1401\n",
      "Num of Docs before/after filtering:  100000  /  90087\n",
      "Usage before deleting FtPr:  [24222.25] Mb\n",
      "Usage after deleting FtPr:  [24264.72265625] Mb\n",
      "Bigram model with FtPriFi of directory:   41  is applied/loaded/processed... in seconds:  17.8631 , in minutes  0.2977 , in hours:  0.005\n",
      "Document vocab is added from directory:  41  is applied/loaded/processed... in seconds:  653.9753 , in minutes  10.8996 , in hours:  0.1817\n",
      "Data of directory:  42  is applied/loaded/processed... in seconds:  307.6134 , in minutes  5.1269 , in hours:  0.0854\n",
      "Num of Docs before/after filtering:  99999  /  91429\n",
      "Usage before deleting FtPr:  [23735.4140625] Mb\n",
      "Usage after deleting FtPr:  [23768.71484375] Mb\n",
      "Bigram model with FtPriFi of directory:   42  is applied/loaded/processed... in seconds:  112.1435 , in minutes  1.8691 , in hours:  0.0312\n",
      "Document vocab is added from directory:  42  is applied/loaded/processed... in seconds:  778.9848 , in minutes  12.9831 , in hours:  0.2164\n",
      "Data of directory:  43  is applied/loaded/processed... in seconds:  272.5393 , in minutes  4.5423 , in hours:  0.0757\n",
      "Num of Docs before/after filtering:  99999  /  90831\n",
      "Usage before deleting FtPr:  [24518.875] Mb\n",
      "Usage after deleting FtPr:  [24514.34765625] Mb\n",
      "Bigram model with FtPriFi of directory:   43  is applied/loaded/processed... in seconds:  9.3563 , in minutes  0.1559 , in hours:  0.0026\n",
      "Document vocab is added from directory:  43  is applied/loaded/processed... in seconds:  466.4478 , in minutes  7.7741 , in hours:  0.1296\n",
      "Data of directory:  44  is applied/loaded/processed... in seconds:  232.2755 , in minutes  3.8713 , in hours:  0.0645\n",
      "Num of Docs before/after filtering:  100000  /  95958\n",
      "Usage before deleting FtPr:  [23971.07421875] Mb\n",
      "Usage after deleting FtPr:  [23968.06640625] Mb\n",
      "Bigram model with FtPriFi of directory:   44  is applied/loaded/processed... in seconds:  47.7204 , in minutes  0.7953 , in hours:  0.0133\n",
      "Document vocab is added from directory:  44  is applied/loaded/processed... in seconds:  578.3413 , in minutes  9.639 , in hours:  0.1607\n",
      "Data of directory:  45  is applied/loaded/processed... in seconds:  353.3438 , in minutes  5.8891 , in hours:  0.0982\n",
      "Num of Docs before/after filtering:  100000  /  95030\n",
      "Usage before deleting FtPr:  [23390.97265625] Mb\n",
      "Usage after deleting FtPr:  [23422.1796875] Mb\n",
      "Bigram model with FtPriFi of directory:   45  is applied/loaded/processed... in seconds:  155.0195 , in minutes  2.5837 , in hours:  0.0431\n",
      "Document vocab is added from directory:  45  is applied/loaded/processed... in seconds:  679.5989 , in minutes  11.3266 , in hours:  0.1888\n",
      "Data of directory:  46  is applied/loaded/processed... in seconds:  701.1792 , in minutes  11.6863 , in hours:  0.1948\n",
      "Num of Docs before/after filtering:  99999  /  89048\n",
      "Usage before deleting FtPr:  [23812.89453125] Mb\n",
      "Usage after deleting FtPr:  [23911.12109375] Mb\n",
      "Bigram model with FtPriFi of directory:   46  is applied/loaded/processed... in seconds:  115.8079 , in minutes  1.9301 , in hours:  0.0322\n",
      "Document vocab is added from directory:  46  is applied/loaded/processed... in seconds:  884.2486 , in minutes  14.7375 , in hours:  0.2456\n",
      "Data of directory:  47  is applied/loaded/processed... in seconds:  733.0772 , in minutes  12.218 , in hours:  0.2036\n",
      "Num of Docs before/after filtering:  100000  /  93395\n",
      "Usage before deleting FtPr:  [23908.42578125] Mb\n",
      "Usage after deleting FtPr:  [23963.19140625] Mb\n",
      "Bigram model with FtPriFi of directory:   47  is applied/loaded/processed... in seconds:  46.2514 , in minutes  0.7709 , in hours:  0.0128\n",
      "Document vocab is added from directory:  47  is applied/loaded/processed... in seconds:  801.0658 , in minutes  13.3511 , in hours:  0.2225\n",
      "Data of directory:  48  is applied/loaded/processed... in seconds:  747.7049 , in minutes  12.4617 , in hours:  0.2077\n",
      "Num of Docs before/after filtering:  100000  /  92600\n",
      "Usage before deleting FtPr:  [23424.08984375] Mb\n",
      "Usage after deleting FtPr:  [23557.6171875] Mb\n",
      "Bigram model with FtPriFi of directory:   48  is applied/loaded/processed... in seconds:  47.4239 , in minutes  0.7904 , in hours:  0.0132\n",
      "Document vocab is added from directory:  48  is applied/loaded/processed... in seconds:  877.5083 , in minutes  14.6251 , in hours:  0.2438\n",
      "Data of directory:  49  is applied/loaded/processed... in seconds:  272.5921 , in minutes  4.5432 , in hours:  0.0757\n",
      "Num of Docs before/after filtering:  99999  /  92311\n",
      "Usage before deleting FtPr:  [25905.29296875] Mb\n",
      "Usage after deleting FtPr:  [25915.26171875] Mb\n",
      "Bigram model with FtPriFi of directory:   49  is applied/loaded/processed... in seconds:  10.4878 , in minutes  0.1748 , in hours:  0.0029\n",
      "Document vocab is added from directory:  49  is applied/loaded/processed... in seconds:  564.4957 , in minutes  9.4083 , in hours:  0.1568\n",
      "Total processing time took:   is loaded/processed... in seconds:  63983.8076 , in minutes  1066.3968 , in hours:  17.7733\n"
     ]
    }
   ],
   "source": [
    "# Start Global Timer which times the whole function\n",
    "tic = time.perf_counter()\n",
    "\n",
    "# Define the name of the logfile\n",
    "logName=path_creator(\"log\",[Model_Path, StartDir, EndDir, DictionaryLog_Suffix])\n",
    "\n",
    "# Load the phrases model\n",
    "bigram=gensim.models.phrases.Phrases.load(path_creator(\"phraseModel\",[Model_Path, StartDir, EndDir, FreezedPhrases_Suffix]))\n",
    "\n",
    "#Intialize dictinary and docAmount counter\n",
    "dct=gensim.corpora.Dictionary(prune_at=dictVocab)\n",
    "\n",
    "# Print parameters of Dictionary\n",
    "log_printer(logName,[\"DictionaryParameters\", dictVocab])\n",
    "\n",
    "# Apply the Phrases model\n",
    "for dirNum in range(StartDir,EndDir+1):\n",
    "\n",
    "    # Load FilteredMetaData\n",
    "    Meta=pd.read_pickle(path_creator(\"meta\",[IntermediateData_Path, dirNum, MetaDataFiltered_Suffix]))\n",
    "\n",
    "    #Load preprocessed full text\n",
    "    tictic = time.perf_counter()\n",
    "    FtPr=Dict_Loader(dirNum, IntermediateData_Path, FtPr_Suffix)\n",
    "    toctoc = time.perf_counter()\n",
    "    #Print time usage to log\n",
    "    log_printer(logName,[\"ProcessTime\",\"Data of directory: \",dirNum,toctoc-tictic])\n",
    "\n",
    "    # Apply meta data filter and delet old dataframe\n",
    "    FtPrFi=[FtPr[DOI] for DOI in list(Meta[\"DOI\"])]\n",
    "    # Check if apllying the filter worked\n",
    "    log_printer(logName,[\"MetaFilter\",len(FtPr),len(FtPrFi)])\n",
    "\n",
    "    # Print Memory usage at start\n",
    "    log_printer(logName,[\"MemoryUsage\", \"Usage before deleting FtPr: \"])\n",
    "    del FtPr\n",
    "    gc.collect\n",
    "    # Print Memory usage at start\n",
    "    log_printer(logName,[\"MemoryUsage\", \"Usage after deleting FtPr: \"])\n",
    "\n",
    "    # Apply the Phrase Model\n",
    "    tictic = time.perf_counter()\n",
    "    FtPrFiNg=bigram[FtPrFi]\n",
    "    toctoc = time.perf_counter()\n",
    "    #Print time usage to log\n",
    "    log_printer(logName,[\"ProcessTime\",\"Bigram model with FtPriFi of directory:  \",dirNum,toctoc-tictic])\n",
    "\n",
    "    \n",
    "    # Add documents to the dictionary\n",
    "    tictic = time.perf_counter()\n",
    "    dct.add_documents(FtPrFiNg,prune_at=dictVocab)\n",
    "    toctoc = time.perf_counter()\n",
    "    #Print time usage to log\n",
    "    log_printer(logName,[\"ProcessTime\",\"Document vocab is added from directory: \",dirNum,toctoc-tictic])\n",
    "    # Print dict update stats\n",
    "    log_printer(logName,[\"DictAddDocs\",dct.num_docs, len(dct),dct.num_pos])\n",
    "\n",
    "    # Print iteration separator\n",
    "    log_printer(logName,[\"iterNext\"])\n",
    "\n",
    "# Save dict\n",
    "dct.save(path_creator(\"dictionary\",[Model_Path, StartDir, EndDir, Dictionary_Suffix]))\n",
    "\n",
    "# Print and log dicitonary stats before filter\n",
    "log_printer(logName,[\"DictFiltBefore\", len(dct),filter_freq])\n",
    "\n",
    "# Remove words with frequency lower than 2\n",
    "dct.filter_extremes(no_below=filter_freq, keep_n=None)\n",
    "\n",
    "# Print and log dicitonary stats after filter\n",
    "log_printer(logName,[\"DictFiltAfter\", len(dct)])\n",
    "\n",
    "# Save filtered dict\n",
    "dct.save(path_creator(\"dictionary\",[Model_Path, StartDir, EndDir, DictionaryFiltered_Suffix]))\n",
    "\n",
    "#Stop global timer and print\n",
    "toc = time.perf_counter()\n",
    "log_printer(logName,[\"FinalProcessTime\",\"Total processing time took: \",toc-tic])"
   ]
  },
  {
   "cell_type": "markdown",
   "metadata": {},
   "source": [
    "### Bow Corpus"
   ]
  },
  {
   "cell_type": "code",
   "execution_count": 5,
   "metadata": {},
   "outputs": [
    {
     "name": "stdout",
     "output_type": "stream",
     "text": [
      "Length of Dict before filtering:  45266564  Filtering with min freq of:  10\n",
      "Length of Dict after filtering:  5868827\n",
      "Data of directory:  0  is applied/loaded/processed... in seconds:  130.1417 , in minutes  2.169 , in hours:  0.0362\n",
      "Num of Docs before/after filtering:  99984  /  97802\n",
      "Usage before deleting FtPr:  [19797.9765625] Mb\n",
      "Usage after deleting FtPr:  [19738.8671875] Mb\n",
      "Bigram model with FtPriFi of directory:   0  is applied/loaded/processed... in seconds:  0.0033 , in minutes  0.0001 , in hours:  0.0\n",
      "Corpus with FtPriFiNg of directory:   0  is applied/loaded/processed... in seconds:  610.2956 , in minutes  10.1716 , in hours:  0.1695\n",
      "BoW Corpus Length:  97802  Num of processed Documents:  97802\n",
      "-------------------------------------------------------\n",
      "Data of directory:  1  is applied/loaded/processed... in seconds:  346.3318 , in minutes  5.7722 , in hours:  0.0962\n",
      "Num of Docs before/after filtering:  99992  /  93368\n",
      "Usage before deleting FtPr:  [23150.43359375] Mb\n",
      "Usage after deleting FtPr:  [22833.62890625] Mb\n",
      "Bigram model with FtPriFi of directory:   1  is applied/loaded/processed... in seconds:  244.648 , in minutes  4.0775 , in hours:  0.068\n",
      "Corpus with FtPriFiNg of directory:   1  is applied/loaded/processed... in seconds:  620.7353 , in minutes  10.3456 , in hours:  0.1724\n",
      "BoW Corpus Length:  93368  Num of processed Documents:  93368\n",
      "-------------------------------------------------------\n",
      "Data of directory:  2  is applied/loaded/processed... in seconds:  288.1216 , in minutes  4.802 , in hours:  0.08\n",
      "Num of Docs before/after filtering:  99999  /  87265\n",
      "Usage before deleting FtPr:  [21579.50390625] Mb\n",
      "Usage after deleting FtPr:  [21148.55078125] Mb\n",
      "Bigram model with FtPriFi of directory:   2  is applied/loaded/processed... in seconds:  134.7628 , in minutes  2.246 , in hours:  0.0374\n",
      "Corpus with FtPriFiNg of directory:   2  is applied/loaded/processed... in seconds:  657.0977 , in minutes  10.9516 , in hours:  0.1825\n",
      "BoW Corpus Length:  87265  Num of processed Documents:  87265\n",
      "-------------------------------------------------------\n",
      "Data of directory:  3  is applied/loaded/processed... in seconds:  253.7112 , in minutes  4.2285 , in hours:  0.0705\n",
      "Num of Docs before/after filtering:  99996  /  55852\n",
      "Usage before deleting FtPr:  [24936.515625] Mb\n",
      "Usage after deleting FtPr:  [23231.80859375] Mb\n",
      "Bigram model with FtPriFi of directory:   3  is applied/loaded/processed... in seconds:  205.4287 , in minutes  3.4238 , in hours:  0.0571\n",
      "Corpus with FtPriFiNg of directory:   3  is applied/loaded/processed... in seconds:  347.1751 , in minutes  5.7863 , in hours:  0.0964\n",
      "BoW Corpus Length:  55852  Num of processed Documents:  55852\n",
      "-------------------------------------------------------\n",
      "Data of directory:  4  is applied/loaded/processed... in seconds:  103.8756 , in minutes  1.7313 , in hours:  0.0289\n",
      "Num of Docs before/after filtering:  99999  /  49390\n",
      "Usage before deleting FtPr:  [23466.171875] Mb\n",
      "Usage after deleting FtPr:  [23572.328125] Mb\n",
      "Bigram model with FtPriFi of directory:   4  is applied/loaded/processed... in seconds:  45.384 , in minutes  0.7564 , in hours:  0.0126\n",
      "Corpus with FtPriFiNg of directory:   4  is applied/loaded/processed... in seconds:  171.5723 , in minutes  2.8595 , in hours:  0.0477\n",
      "BoW Corpus Length:  49390  Num of processed Documents:  49390\n",
      "-------------------------------------------------------\n",
      "Data of directory:  5  is applied/loaded/processed... in seconds:  55.1619 , in minutes  0.9194 , in hours:  0.0153\n",
      "Num of Docs before/after filtering:  99999  /  56258\n",
      "Usage before deleting FtPr:  [23760.7265625] Mb\n",
      "Usage after deleting FtPr:  [23755.12890625] Mb\n",
      "Bigram model with FtPriFi of directory:   5  is applied/loaded/processed... in seconds:  20.6469 , in minutes  0.3441 , in hours:  0.0057\n",
      "Corpus with FtPriFiNg of directory:   5  is applied/loaded/processed... in seconds:  282.7047 , in minutes  4.7117 , in hours:  0.0785\n",
      "BoW Corpus Length:  56258  Num of processed Documents:  56258\n",
      "-------------------------------------------------------\n",
      "Data of directory:  6  is applied/loaded/processed... in seconds:  70.5436 , in minutes  1.1757 , in hours:  0.0196\n",
      "Num of Docs before/after filtering:  99972  /  51053\n",
      "Usage before deleting FtPr:  [23166.06640625] Mb\n",
      "Usage after deleting FtPr:  [23132.06640625] Mb\n",
      "Bigram model with FtPriFi of directory:   6  is applied/loaded/processed... in seconds:  35.776 , in minutes  0.5963 , in hours:  0.0099\n",
      "Corpus with FtPriFiNg of directory:   6  is applied/loaded/processed... in seconds:  281.4824 , in minutes  4.6914 , in hours:  0.0782\n",
      "BoW Corpus Length:  51053  Num of processed Documents:  51053\n",
      "-------------------------------------------------------\n",
      "Data of directory:  7  is applied/loaded/processed... in seconds:  71.9311 , in minutes  1.1989 , in hours:  0.02\n",
      "Num of Docs before/after filtering:  99997  /  54869\n",
      "Usage before deleting FtPr:  [24701.15625] Mb\n",
      "Usage after deleting FtPr:  [24667.47265625] Mb\n",
      "Bigram model with FtPriFi of directory:   7  is applied/loaded/processed... in seconds:  43.7685 , in minutes  0.7295 , in hours:  0.0122\n",
      "Corpus with FtPriFiNg of directory:   7  is applied/loaded/processed... in seconds:  233.3227 , in minutes  3.8887 , in hours:  0.0648\n",
      "BoW Corpus Length:  54869  Num of processed Documents:  54869\n",
      "-------------------------------------------------------\n",
      "Data of directory:  8  is applied/loaded/processed... in seconds:  42.6151 , in minutes  0.7103 , in hours:  0.0118\n",
      "Num of Docs before/after filtering:  99997  /  32717\n",
      "Usage before deleting FtPr:  [24760.578125] Mb\n",
      "Usage after deleting FtPr:  [24456.55859375] Mb\n",
      "Bigram model with FtPriFi of directory:   8  is applied/loaded/processed... in seconds:  28.0475 , in minutes  0.4675 , in hours:  0.0078\n",
      "Corpus with FtPriFiNg of directory:   8  is applied/loaded/processed... in seconds:  188.5298 , in minutes  3.1422 , in hours:  0.0524\n",
      "BoW Corpus Length:  32717  Num of processed Documents:  32717\n",
      "-------------------------------------------------------\n",
      "Data of directory:  9  is applied/loaded/processed... in seconds:  2.5633 , in minutes  0.0427 , in hours:  0.0007\n",
      "Num of Docs before/after filtering:  99998  /  0\n",
      "Usage before deleting FtPr:  [23611.30859375] Mb\n",
      "Usage after deleting FtPr:  [23606.30859375] Mb\n",
      "Bigram model with FtPriFi of directory:   9  is applied/loaded/processed... in seconds:  26.489 , in minutes  0.4415 , in hours:  0.0074\n",
      "Corpus with FtPriFiNg of directory:   9  is applied/loaded/processed... in seconds:  17.846 , in minutes  0.2974 , in hours:  0.005\n",
      "BoW Corpus Length:  0  Num of processed Documents:  0\n",
      "-------------------------------------------------------\n",
      "Data of directory:  10  is applied/loaded/processed... in seconds:  5.9215 , in minutes  0.0987 , in hours:  0.0016\n",
      "Num of Docs before/after filtering:  100000  /  4453\n",
      "Usage before deleting FtPr:  [6767.0] Mb\n",
      "Usage after deleting FtPr:  [6761.49609375] Mb\n",
      "Bigram model with FtPriFi of directory:   10  is applied/loaded/processed... in seconds:  0.0 , in minutes  0.0 , in hours:  0.0\n",
      "Corpus with FtPriFiNg of directory:   10  is applied/loaded/processed... in seconds:  16.0987 , in minutes  0.2683 , in hours:  0.0045\n",
      "BoW Corpus Length:  4453  Num of processed Documents:  4453\n",
      "-------------------------------------------------------\n",
      "Data of directory:  11  is applied/loaded/processed... in seconds:  82.2129 , in minutes  1.3702 , in hours:  0.0228\n",
      "Num of Docs before/after filtering:  99999  /  71665\n",
      "Usage before deleting FtPr:  [21413.56640625] Mb\n",
      "Usage after deleting FtPr:  [21024.5625] Mb\n",
      "Bigram model with FtPriFi of directory:   11  is applied/loaded/processed... in seconds:  0.8982 , in minutes  0.015 , in hours:  0.0002\n",
      "Corpus with FtPriFiNg of directory:   11  is applied/loaded/processed... in seconds:  447.3123 , in minutes  7.4552 , in hours:  0.1243\n",
      "BoW Corpus Length:  71665  Num of processed Documents:  71665\n",
      "-------------------------------------------------------\n",
      "Data of directory:  12  is applied/loaded/processed... in seconds:  574.4473 , in minutes  9.5741 , in hours:  0.1596\n",
      "Num of Docs before/after filtering:  99998  /  91302\n",
      "Usage before deleting FtPr:  [19927.796875] Mb\n",
      "Usage after deleting FtPr:  [19769.66015625] Mb\n",
      "Bigram model with FtPriFi of directory:   12  is applied/loaded/processed... in seconds:  95.3643 , in minutes  1.5894 , in hours:  0.0265\n",
      "Corpus with FtPriFiNg of directory:   12  is applied/loaded/processed... in seconds:  688.6973 , in minutes  11.4783 , in hours:  0.1913\n",
      "BoW Corpus Length:  91302  Num of processed Documents:  91302\n",
      "-------------------------------------------------------\n",
      "Data of directory:  13  is applied/loaded/processed... in seconds:  743.5533 , in minutes  12.3926 , in hours:  0.2065\n",
      "Num of Docs before/after filtering:  99998  /  76077\n",
      "Usage before deleting FtPr:  [21938.140625] Mb\n",
      "Usage after deleting FtPr:  [22083.27734375] Mb\n",
      "Bigram model with FtPriFi of directory:   13  is applied/loaded/processed... in seconds:  120.4607 , in minutes  2.0077 , in hours:  0.0335\n",
      "Corpus with FtPriFiNg of directory:   13  is applied/loaded/processed... in seconds:  564.2071 , in minutes  9.4035 , in hours:  0.1567\n",
      "BoW Corpus Length:  76077  Num of processed Documents:  76077\n",
      "-------------------------------------------------------\n",
      "Data of directory:  14  is applied/loaded/processed... in seconds:  295.2034 , in minutes  4.9201 , in hours:  0.082\n",
      "Num of Docs before/after filtering:  100000  /  90085\n",
      "Usage before deleting FtPr:  [21957.4609375] Mb\n",
      "Usage after deleting FtPr:  [21127.2109375] Mb\n",
      "Bigram model with FtPriFi of directory:   14  is applied/loaded/processed... in seconds:  121.3362 , in minutes  2.0223 , in hours:  0.0337\n",
      "Corpus with FtPriFiNg of directory:   14  is applied/loaded/processed... in seconds:  842.45 , in minutes  14.0408 , in hours:  0.234\n",
      "BoW Corpus Length:  90085  Num of processed Documents:  90085\n",
      "-------------------------------------------------------\n",
      "Data of directory:  15  is applied/loaded/processed... in seconds:  764.103 , in minutes  12.735 , in hours:  0.2123\n",
      "Num of Docs before/after filtering:  99996  /  67106\n",
      "Usage before deleting FtPr:  [24455.01171875] Mb\n",
      "Usage after deleting FtPr:  [24765.30078125] Mb\n",
      "Bigram model with FtPriFi of directory:   15  is applied/loaded/processed... in seconds:  190.4824 , in minutes  3.1747 , in hours:  0.0529\n",
      "Corpus with FtPriFiNg of directory:   15  is applied/loaded/processed... in seconds:  576.6832 , in minutes  9.6114 , in hours:  0.1602\n",
      "BoW Corpus Length:  67106  Num of processed Documents:  67106\n",
      "-------------------------------------------------------\n",
      "Data of directory:  16  is applied/loaded/processed... in seconds:  155.9596 , in minutes  2.5993 , in hours:  0.0433\n",
      "Num of Docs before/after filtering:  99999  /  78430\n",
      "Usage before deleting FtPr:  [23459.2421875] Mb\n",
      "Usage after deleting FtPr:  [23645.26171875] Mb\n",
      "Bigram model with FtPriFi of directory:   16  is applied/loaded/processed... in seconds:  98.7041 , in minutes  1.6451 , in hours:  0.0274\n",
      "Corpus with FtPriFiNg of directory:   16  is applied/loaded/processed... in seconds:  491.4594 , in minutes  8.191 , in hours:  0.1365\n",
      "BoW Corpus Length:  78430  Num of processed Documents:  78430\n",
      "-------------------------------------------------------\n",
      "Data of directory:  17  is applied/loaded/processed... in seconds:  211.1515 , in minutes  3.5192 , in hours:  0.0587\n",
      "Num of Docs before/after filtering:  100000  /  75500\n",
      "Usage before deleting FtPr:  [20006.51171875] Mb\n",
      "Usage after deleting FtPr:  [20397.76171875] Mb\n",
      "Bigram model with FtPriFi of directory:   17  is applied/loaded/processed... in seconds:  149.6635 , in minutes  2.4944 , in hours:  0.0416\n",
      "Corpus with FtPriFiNg of directory:   17  is applied/loaded/processed... in seconds:  616.9225 , in minutes  10.282 , in hours:  0.1714\n",
      "BoW Corpus Length:  75500  Num of processed Documents:  75500\n",
      "-------------------------------------------------------\n",
      "Data of directory:  18  is applied/loaded/processed... in seconds:  185.4601 , in minutes  3.091 , in hours:  0.0515\n",
      "Num of Docs before/after filtering:  99993  /  79018\n",
      "Usage before deleting FtPr:  [23578.26953125] Mb\n",
      "Usage after deleting FtPr:  [23620.56640625] Mb\n",
      "Bigram model with FtPriFi of directory:   18  is applied/loaded/processed... in seconds:  90.5557 , in minutes  1.5093 , in hours:  0.0252\n",
      "Corpus with FtPriFiNg of directory:   18  is applied/loaded/processed... in seconds:  725.262 , in minutes  12.0877 , in hours:  0.2015\n",
      "BoW Corpus Length:  79018  Num of processed Documents:  79018\n",
      "-------------------------------------------------------\n",
      "Data of directory:  19  is applied/loaded/processed... in seconds:  130.475 , in minutes  2.1746 , in hours:  0.0362\n",
      "Num of Docs before/after filtering:  99973  /  91979\n",
      "Usage before deleting FtPr:  [23710.96484375] Mb\n",
      "Usage after deleting FtPr:  [23703.33203125] Mb\n",
      "Bigram model with FtPriFi of directory:   19  is applied/loaded/processed... in seconds:  101.0816 , in minutes  1.6847 , in hours:  0.0281\n",
      "Corpus with FtPriFiNg of directory:   19  is applied/loaded/processed... in seconds:  537.7189 , in minutes  8.962 , in hours:  0.1494\n",
      "BoW Corpus Length:  91979  Num of processed Documents:  91979\n",
      "-------------------------------------------------------\n",
      "Data of directory:  20  is applied/loaded/processed... in seconds:  122.2316 , in minutes  2.0372 , in hours:  0.034\n",
      "Num of Docs before/after filtering:  99998  /  93349\n",
      "Usage before deleting FtPr:  [23111.91796875] Mb\n",
      "Usage after deleting FtPr:  [23155.69921875] Mb\n",
      "Bigram model with FtPriFi of directory:   20  is applied/loaded/processed... in seconds:  48.01 , in minutes  0.8002 , in hours:  0.0133\n",
      "Corpus with FtPriFiNg of directory:   20  is applied/loaded/processed... in seconds:  468.4615 , in minutes  7.8077 , in hours:  0.1301\n",
      "BoW Corpus Length:  93349  Num of processed Documents:  93349\n",
      "-------------------------------------------------------\n",
      "Data of directory:  21  is applied/loaded/processed... in seconds:  121.5916 , in minutes  2.0265 , in hours:  0.0338\n",
      "Num of Docs before/after filtering:  100000  /  94205\n",
      "Usage before deleting FtPr:  [23316.25390625] Mb\n",
      "Usage after deleting FtPr:  [23340.96484375] Mb\n",
      "Bigram model with FtPriFi of directory:   21  is applied/loaded/processed... in seconds:  26.8029 , in minutes  0.4467 , in hours:  0.0074\n",
      "Corpus with FtPriFiNg of directory:   21  is applied/loaded/processed... in seconds:  451.1643 , in minutes  7.5194 , in hours:  0.1253\n",
      "BoW Corpus Length:  94205  Num of processed Documents:  94205\n",
      "-------------------------------------------------------\n",
      "Data of directory:  22  is applied/loaded/processed... in seconds:  178.1 , in minutes  2.9683 , in hours:  0.0495\n",
      "Num of Docs before/after filtering:  99999  /  90868\n",
      "Usage before deleting FtPr:  [23286.5078125] Mb\n",
      "Usage after deleting FtPr:  [23353.91796875] Mb\n",
      "Bigram model with FtPriFi of directory:   22  is applied/loaded/processed... in seconds:  30.2348 , in minutes  0.5039 , in hours:  0.0084\n",
      "Corpus with FtPriFiNg of directory:   22  is applied/loaded/processed... in seconds:  412.1627 , in minutes  6.8694 , in hours:  0.1145\n",
      "BoW Corpus Length:  90868  Num of processed Documents:  90868\n",
      "-------------------------------------------------------\n",
      "Data of directory:  23  is applied/loaded/processed... in seconds:  92.108 , in minutes  1.5351 , in hours:  0.0256\n",
      "Num of Docs before/after filtering:  99999  /  94101\n",
      "Usage before deleting FtPr:  [23711.53125] Mb\n",
      "Usage after deleting FtPr:  [23707.57421875] Mb\n",
      "Bigram model with FtPriFi of directory:   23  is applied/loaded/processed... in seconds:  17.4992 , in minutes  0.2917 , in hours:  0.0049\n",
      "Corpus with FtPriFiNg of directory:   23  is applied/loaded/processed... in seconds:  333.7871 , in minutes  5.5631 , in hours:  0.0927\n",
      "BoW Corpus Length:  94101  Num of processed Documents:  94101\n",
      "-------------------------------------------------------\n",
      "Data of directory:  24  is applied/loaded/processed... in seconds:  40.5452 , in minutes  0.6758 , in hours:  0.0113\n",
      "Num of Docs before/after filtering:  100000  /  93895\n",
      "Usage before deleting FtPr:  [25195.77734375] Mb\n",
      "Usage after deleting FtPr:  [25190.7734375] Mb\n",
      "Bigram model with FtPriFi of directory:   24  is applied/loaded/processed... in seconds:  13.6783 , in minutes  0.228 , in hours:  0.0038\n",
      "Corpus with FtPriFiNg of directory:   24  is applied/loaded/processed... in seconds:  248.0194 , in minutes  4.1337 , in hours:  0.0689\n",
      "BoW Corpus Length:  93895  Num of processed Documents:  93895\n",
      "-------------------------------------------------------\n",
      "Data of directory:  25  is applied/loaded/processed... in seconds:  75.9019 , in minutes  1.265 , in hours:  0.0211\n",
      "Num of Docs before/after filtering:  99999  /  95245\n",
      "Usage before deleting FtPr:  [23858.8828125] Mb\n",
      "Usage after deleting FtPr:  [23856.64453125] Mb\n",
      "Bigram model with FtPriFi of directory:   25  is applied/loaded/processed... in seconds:  8.796 , in minutes  0.1466 , in hours:  0.0024\n",
      "Corpus with FtPriFiNg of directory:   25  is applied/loaded/processed... in seconds:  336.8487 , in minutes  5.6141 , in hours:  0.0936\n",
      "BoW Corpus Length:  95245  Num of processed Documents:  95245\n",
      "-------------------------------------------------------\n",
      "Data of directory:  26  is applied/loaded/processed... in seconds:  43.7624 , in minutes  0.7294 , in hours:  0.0122\n",
      "Num of Docs before/after filtering:  100000  /  94401\n",
      "Usage before deleting FtPr:  [24887.08984375] Mb\n",
      "Usage after deleting FtPr:  [24882.0859375] Mb\n",
      "Bigram model with FtPriFi of directory:   26  is applied/loaded/processed... in seconds:  9.6681 , in minutes  0.1611 , in hours:  0.0027\n",
      "Corpus with FtPriFiNg of directory:   26  is applied/loaded/processed... in seconds:  280.8091 , in minutes  4.6802 , in hours:  0.078\n",
      "BoW Corpus Length:  94401  Num of processed Documents:  94401\n",
      "-------------------------------------------------------\n",
      "Data of directory:  27  is applied/loaded/processed... in seconds:  75.4371 , in minutes  1.2573 , in hours:  0.021\n",
      "Num of Docs before/after filtering:  100000  /  94085\n",
      "Usage before deleting FtPr:  [20673.125] Mb\n",
      "Usage after deleting FtPr:  [20670.29296875] Mb\n",
      "Bigram model with FtPriFi of directory:   27  is applied/loaded/processed... in seconds:  9.0403 , in minutes  0.1507 , in hours:  0.0025\n",
      "Corpus with FtPriFiNg of directory:   27  is applied/loaded/processed... in seconds:  407.9525 , in minutes  6.7992 , in hours:  0.1133\n",
      "BoW Corpus Length:  94085  Num of processed Documents:  94085\n",
      "-------------------------------------------------------\n",
      "Data of directory:  28  is applied/loaded/processed... in seconds:  137.9495 , in minutes  2.2992 , in hours:  0.0383\n",
      "Num of Docs before/after filtering:  100000  /  93191\n",
      "Usage before deleting FtPr:  [22807.91015625] Mb\n",
      "Usage after deleting FtPr:  [22837.4296875] Mb\n",
      "Bigram model with FtPriFi of directory:   28  is applied/loaded/processed... in seconds:  43.245 , in minutes  0.7207 , in hours:  0.012\n",
      "Corpus with FtPriFiNg of directory:   28  is applied/loaded/processed... in seconds:  554.9084 , in minutes  9.2485 , in hours:  0.1541\n",
      "BoW Corpus Length:  93191  Num of processed Documents:  93191\n",
      "-------------------------------------------------------\n",
      "Data of directory:  29  is applied/loaded/processed... in seconds:  157.6266 , in minutes  2.6271 , in hours:  0.0438\n",
      "Num of Docs before/after filtering:  100000  /  95382\n",
      "Usage before deleting FtPr:  [23156.84375] Mb\n",
      "Usage after deleting FtPr:  [23165.7265625] Mb\n",
      "Bigram model with FtPriFi of directory:   29  is applied/loaded/processed... in seconds:  57.0734 , in minutes  0.9512 , in hours:  0.0159\n",
      "Corpus with FtPriFiNg of directory:   29  is applied/loaded/processed... in seconds:  537.9663 , in minutes  8.9661 , in hours:  0.1494\n",
      "BoW Corpus Length:  95382  Num of processed Documents:  95382\n",
      "-------------------------------------------------------\n",
      "Data of directory:  30  is applied/loaded/processed... in seconds:  260.3765 , in minutes  4.3396 , in hours:  0.0723\n",
      "Num of Docs before/after filtering:  99999  /  98959\n",
      "Usage before deleting FtPr:  [20458.07421875] Mb\n",
      "Usage after deleting FtPr:  [20433.3828125] Mb\n",
      "Bigram model with FtPriFi of directory:   30  is applied/loaded/processed... in seconds:  114.3624 , in minutes  1.906 , in hours:  0.0318\n",
      "Corpus with FtPriFiNg of directory:   30  is applied/loaded/processed... in seconds:  1277.4171 , in minutes  21.2903 , in hours:  0.3548\n",
      "BoW Corpus Length:  98959  Num of processed Documents:  98959\n",
      "-------------------------------------------------------\n",
      "Data of directory:  31  is applied/loaded/processed... in seconds:  158.6883 , in minutes  2.6448 , in hours:  0.0441\n",
      "Num of Docs before/after filtering:  99999  /  96702\n",
      "Usage before deleting FtPr:  [23597.33203125] Mb\n",
      "Usage after deleting FtPr:  [23584.75] Mb\n",
      "Bigram model with FtPriFi of directory:   31  is applied/loaded/processed... in seconds:  161.8945 , in minutes  2.6982 , in hours:  0.045\n",
      "Corpus with FtPriFiNg of directory:   31  is applied/loaded/processed... in seconds:  715.235 , in minutes  11.9206 , in hours:  0.1987\n",
      "BoW Corpus Length:  96702  Num of processed Documents:  96702\n",
      "-------------------------------------------------------\n",
      "Data of directory:  32  is applied/loaded/processed... in seconds:  132.4733 , in minutes  2.2079 , in hours:  0.0368\n",
      "Num of Docs before/after filtering:  99999  /  95459\n",
      "Usage before deleting FtPr:  [23427.3046875] Mb\n",
      "Usage after deleting FtPr:  [23426.62109375] Mb\n",
      "Bigram model with FtPriFi of directory:   32  is applied/loaded/processed... in seconds:  77.7662 , in minutes  1.2961 , in hours:  0.0216\n",
      "Corpus with FtPriFiNg of directory:   32  is applied/loaded/processed... in seconds:  435.8826 , in minutes  7.2647 , in hours:  0.1211\n",
      "BoW Corpus Length:  95459  Num of processed Documents:  95459\n",
      "-------------------------------------------------------\n",
      "Data of directory:  33  is applied/loaded/processed... in seconds:  281.7217 , in minutes  4.6954 , in hours:  0.0783\n",
      "Num of Docs before/after filtering:  100000  /  98345\n",
      "Usage before deleting FtPr:  [20943.19921875] Mb\n",
      "Usage after deleting FtPr:  [20957.3984375] Mb\n",
      "Bigram model with FtPriFi of directory:   33  is applied/loaded/processed... in seconds:  109.8493 , in minutes  1.8308 , in hours:  0.0305\n",
      "Corpus with FtPriFiNg of directory:   33  is applied/loaded/processed... in seconds:  1650.7154 , in minutes  27.5119 , in hours:  0.4585\n",
      "BoW Corpus Length:  98345  Num of processed Documents:  98345\n",
      "-------------------------------------------------------\n",
      "Data of directory:  34  is applied/loaded/processed... in seconds:  244.1095 , in minutes  4.0685 , in hours:  0.0678\n",
      "Num of Docs before/after filtering:  100000  /  99135\n",
      "Usage before deleting FtPr:  [18731.84765625] Mb\n",
      "Usage after deleting FtPr:  [18712.62109375] Mb\n",
      "Bigram model with FtPriFi of directory:   34  is applied/loaded/processed... in seconds:  199.5637 , in minutes  3.3261 , in hours:  0.0554\n",
      "Corpus with FtPriFiNg of directory:   34  is applied/loaded/processed... in seconds:  1994.0733 , in minutes  33.2346 , in hours:  0.5539\n",
      "BoW Corpus Length:  99135  Num of processed Documents:  99135\n",
      "-------------------------------------------------------\n",
      "Data of directory:  35  is applied/loaded/processed... in seconds:  285.7153 , in minutes  4.7619 , in hours:  0.0794\n",
      "Num of Docs before/after filtering:  100000  /  96806\n",
      "Usage before deleting FtPr:  [19671.3828125] Mb\n",
      "Usage after deleting FtPr:  [19722.91015625] Mb\n",
      "Bigram model with FtPriFi of directory:   35  is applied/loaded/processed... in seconds:  231.4028 , in minutes  3.8567 , in hours:  0.0643\n",
      "Corpus with FtPriFiNg of directory:   35  is applied/loaded/processed... in seconds:  1359.835 , in minutes  22.6639 , in hours:  0.3777\n",
      "BoW Corpus Length:  96806  Num of processed Documents:  96806\n",
      "-------------------------------------------------------\n",
      "Data of directory:  36  is applied/loaded/processed... in seconds:  1074.2787 , in minutes  17.9046 , in hours:  0.2984\n",
      "Num of Docs before/after filtering:  99992  /  99135\n",
      "Usage before deleting FtPr:  [21569.03515625] Mb\n",
      "Usage after deleting FtPr:  [21587.7421875] Mb\n",
      "Bigram model with FtPriFi of directory:   36  is applied/loaded/processed... in seconds:  176.243 , in minutes  2.9374 , in hours:  0.049\n",
      "Corpus with FtPriFiNg of directory:   36  is applied/loaded/processed... in seconds:  1090.7617 , in minutes  18.1794 , in hours:  0.303\n",
      "BoW Corpus Length:  99135  Num of processed Documents:  99135\n",
      "-------------------------------------------------------\n",
      "Data of directory:  37  is applied/loaded/processed... in seconds:  358.0306 , in minutes  5.9672 , in hours:  0.0995\n",
      "Num of Docs before/after filtering:  100000  /  98781\n",
      "Usage before deleting FtPr:  [20756.94140625] Mb\n",
      "Usage after deleting FtPr:  [20776.6328125] Mb\n",
      "Bigram model with FtPriFi of directory:   37  is applied/loaded/processed... in seconds:  185.0497 , in minutes  3.0842 , in hours:  0.0514\n",
      "Corpus with FtPriFiNg of directory:   37  is applied/loaded/processed... in seconds:  1279.4571 , in minutes  21.3243 , in hours:  0.3554\n",
      "BoW Corpus Length:  98781  Num of processed Documents:  98781\n",
      "-------------------------------------------------------\n",
      "Data of directory:  38  is applied/loaded/processed... in seconds:  360.8753 , in minutes  6.0146 , in hours:  0.1002\n",
      "Num of Docs before/after filtering:  100000  /  96462\n",
      "Usage before deleting FtPr:  [20383.29296875] Mb\n",
      "Usage after deleting FtPr:  [20529.6171875] Mb\n",
      "Bigram model with FtPriFi of directory:   38  is applied/loaded/processed... in seconds:  197.37 , in minutes  3.2895 , in hours:  0.0548\n",
      "Corpus with FtPriFiNg of directory:   38  is applied/loaded/processed... in seconds:  1147.8429 , in minutes  19.1307 , in hours:  0.3188\n",
      "BoW Corpus Length:  96462  Num of processed Documents:  96462\n",
      "-------------------------------------------------------\n",
      "Data of directory:  39  is applied/loaded/processed... in seconds:  190.847 , in minutes  3.1808 , in hours:  0.053\n",
      "Num of Docs before/after filtering:  99999  /  97127\n",
      "Usage before deleting FtPr:  [22598.6875] Mb\n",
      "Usage after deleting FtPr:  [22602.83984375] Mb\n",
      "Bigram model with FtPriFi of directory:   39  is applied/loaded/processed... in seconds:  167.5078 , in minutes  2.7918 , in hours:  0.0465\n",
      "Corpus with FtPriFiNg of directory:   39  is applied/loaded/processed... in seconds:  933.3824 , in minutes  15.5564 , in hours:  0.2593\n",
      "BoW Corpus Length:  97127  Num of processed Documents:  97127\n",
      "-------------------------------------------------------\n",
      "Data of directory:  40  is applied/loaded/processed... in seconds:  206.6601 , in minutes  3.4443 , in hours:  0.0574\n",
      "Num of Docs before/after filtering:  99999  /  91932\n",
      "Usage before deleting FtPr:  [22516.47265625] Mb\n",
      "Usage after deleting FtPr:  [22559.88671875] Mb\n",
      "Bigram model with FtPriFi of directory:   40  is applied/loaded/processed... in seconds:  146.5296 , in minutes  2.4422 , in hours:  0.0407\n",
      "Corpus with FtPriFiNg of directory:   40  is applied/loaded/processed... in seconds:  498.0407 , in minutes  8.3007 , in hours:  0.1383\n",
      "BoW Corpus Length:  91932  Num of processed Documents:  91932\n",
      "-------------------------------------------------------\n",
      "Data of directory:  41  is applied/loaded/processed... in seconds:  142.3446 , in minutes  2.3724 , in hours:  0.0395\n",
      "Num of Docs before/after filtering:  100000  /  90087\n",
      "Usage before deleting FtPr:  [21642.875] Mb\n",
      "Usage after deleting FtPr:  [21641.9296875] Mb\n",
      "Bigram model with FtPriFi of directory:   41  is applied/loaded/processed... in seconds:  76.277 , in minutes  1.2713 , in hours:  0.0212\n",
      "Corpus with FtPriFiNg of directory:   41  is applied/loaded/processed... in seconds:  439.0771 , in minutes  7.318 , in hours:  0.122\n",
      "BoW Corpus Length:  90087  Num of processed Documents:  90087\n",
      "-------------------------------------------------------\n",
      "Data of directory:  42  is applied/loaded/processed... in seconds:  151.771 , in minutes  2.5295 , in hours:  0.0422\n",
      "Num of Docs before/after filtering:  99999  /  91429\n",
      "Usage before deleting FtPr:  [21990.4609375] Mb\n",
      "Usage after deleting FtPr:  [21996.52734375] Mb\n",
      "Bigram model with FtPriFi of directory:   42  is applied/loaded/processed... in seconds:  79.7301 , in minutes  1.3288 , in hours:  0.0221\n",
      "Corpus with FtPriFiNg of directory:   42  is applied/loaded/processed... in seconds:  477.5724 , in minutes  7.9595 , in hours:  0.1327\n",
      "BoW Corpus Length:  91429  Num of processed Documents:  91429\n",
      "-------------------------------------------------------\n",
      "Data of directory:  43  is applied/loaded/processed... in seconds:  96.0767 , in minutes  1.6013 , in hours:  0.0267\n",
      "Num of Docs before/after filtering:  99999  /  90831\n",
      "Usage before deleting FtPr:  [24571.22265625] Mb\n",
      "Usage after deleting FtPr:  [24583.71875] Mb\n",
      "Bigram model with FtPriFi of directory:   43  is applied/loaded/processed... in seconds:  24.4051 , in minutes  0.4068 , in hours:  0.0068\n",
      "Corpus with FtPriFiNg of directory:   43  is applied/loaded/processed... in seconds:  258.7124 , in minutes  4.3119 , in hours:  0.0719\n",
      "BoW Corpus Length:  90831  Num of processed Documents:  90831\n",
      "-------------------------------------------------------\n",
      "Data of directory:  44  is applied/loaded/processed... in seconds:  135.3673 , in minutes  2.2561 , in hours:  0.0376\n",
      "Num of Docs before/after filtering:  100000  /  95958\n",
      "Usage before deleting FtPr:  [23298.62109375] Mb\n",
      "Usage after deleting FtPr:  [23297.22265625] Mb\n",
      "Bigram model with FtPriFi of directory:   44  is applied/loaded/processed... in seconds:  23.8087 , in minutes  0.3968 , in hours:  0.0066\n",
      "Corpus with FtPriFiNg of directory:   44  is applied/loaded/processed... in seconds:  382.4214 , in minutes  6.3737 , in hours:  0.1062\n",
      "BoW Corpus Length:  95958  Num of processed Documents:  95958\n",
      "-------------------------------------------------------\n",
      "Data of directory:  45  is applied/loaded/processed... in seconds:  138.4557 , in minutes  2.3076 , in hours:  0.0385\n",
      "Num of Docs before/after filtering:  100000  /  95030\n",
      "Usage before deleting FtPr:  [23408.09765625] Mb\n",
      "Usage after deleting FtPr:  [23406.22265625] Mb\n",
      "Bigram model with FtPriFi of directory:   45  is applied/loaded/processed... in seconds:  50.2066 , in minutes  0.8368 , in hours:  0.0139\n",
      "Corpus with FtPriFiNg of directory:   45  is applied/loaded/processed... in seconds:  442.102 , in minutes  7.3684 , in hours:  0.1228\n",
      "BoW Corpus Length:  95030  Num of processed Documents:  95030\n",
      "-------------------------------------------------------\n",
      "Data of directory:  46  is applied/loaded/processed... in seconds:  209.9957 , in minutes  3.4999 , in hours:  0.0583\n",
      "Num of Docs before/after filtering:  99999  /  89048\n",
      "Usage before deleting FtPr:  [23643.04296875] Mb\n",
      "Usage after deleting FtPr:  [23723.70703125] Mb\n",
      "Bigram model with FtPriFi of directory:   46  is applied/loaded/processed... in seconds:  79.6314 , in minutes  1.3272 , in hours:  0.0221\n",
      "Corpus with FtPriFiNg of directory:   46  is applied/loaded/processed... in seconds:  565.0493 , in minutes  9.4175 , in hours:  0.157\n",
      "BoW Corpus Length:  89048  Num of processed Documents:  89048\n",
      "-------------------------------------------------------\n",
      "Data of directory:  47  is applied/loaded/processed... in seconds:  138.9774 , in minutes  2.3163 , in hours:  0.0386\n",
      "Num of Docs before/after filtering:  100000  /  93395\n",
      "Usage before deleting FtPr:  [23137.65625] Mb\n",
      "Usage after deleting FtPr:  [23152.31640625] Mb\n",
      "Bigram model with FtPriFi of directory:   47  is applied/loaded/processed... in seconds:  72.489 , in minutes  1.2082 , in hours:  0.0201\n",
      "Corpus with FtPriFiNg of directory:   47  is applied/loaded/processed... in seconds:  479.8658 , in minutes  7.9978 , in hours:  0.1333\n",
      "BoW Corpus Length:  93395  Num of processed Documents:  93395\n",
      "-------------------------------------------------------\n",
      "Data of directory:  48  is applied/loaded/processed... in seconds:  203.2015 , in minutes  3.3867 , in hours:  0.0564\n",
      "Num of Docs before/after filtering:  100000  /  92600\n",
      "Usage before deleting FtPr:  [22701.6953125] Mb\n",
      "Usage after deleting FtPr:  [22770.45703125] Mb\n",
      "Bigram model with FtPriFi of directory:   48  is applied/loaded/processed... in seconds:  62.6454 , in minutes  1.0441 , in hours:  0.0174\n",
      "Corpus with FtPriFiNg of directory:   48  is applied/loaded/processed... in seconds:  494.8759 , in minutes  8.2479 , in hours:  0.1375\n",
      "BoW Corpus Length:  92600  Num of processed Documents:  92600\n",
      "-------------------------------------------------------\n",
      "Data of directory:  49  is applied/loaded/processed... in seconds:  96.1977 , in minutes  1.6033 , in hours:  0.0267\n",
      "Num of Docs before/after filtering:  99999  /  92311\n",
      "Usage before deleting FtPr:  [22573.61328125] Mb\n",
      "Usage after deleting FtPr:  [22568.7578125] Mb\n",
      "Bigram model with FtPriFi of directory:   49  is applied/loaded/processed... in seconds:  44.1805 , in minutes  0.7363 , in hours:  0.0123\n",
      "Corpus with FtPriFiNg of directory:   49  is applied/loaded/processed... in seconds:  336.0924 , in minutes  5.6015 , in hours:  0.0934\n",
      "BoW Corpus Length:  92311  Num of processed Documents:  92311\n",
      "-------------------------------------------------------\n",
      "Total processing time took:   is loaded/processed... in seconds:  44326.063 , in minutes  738.7677 , in hours:  12.3128\n"
     ]
    }
   ],
   "source": [
    "# Start Global Timer which times the whole function\n",
    "tic = time.perf_counter()\n",
    "\n",
    "# Define the name of the logfile\n",
    "logName=path_creator(\"log\",[Model_Path, StartDir, EndDir, BowCorpusLog_Suffix])\n",
    "\n",
    "# Load the phrases model\n",
    "bigram=gensim.models.phrases.Phrases.load(path_creator(\"phraseModel\",[Model_Path, StartDir, EndDir, FreezedPhrases_Suffix]))\n",
    "\n",
    "# Load filtered dictionary\n",
    "dct=gensim.corpora.Dictionary.load(path_creator(\"dictionary\",[Model_Path, StartDir, EndDir, DictionaryFiltered_Suffix]))\n",
    "\n",
    "# Create new bow corpus directory\n",
    "path = path_creator(\"bowCorpusDirectory\",[IntermediateData_Path, StartDir, EndDir])\n",
    "isExist = os.path.exists(path)\n",
    "if not isExist:\n",
    "  os.makedirs(path)\n",
    "  print(\"New directory has been created successfully!\")\n",
    "else:\n",
    "    print('Directory already exists with that name!')\n",
    "\n",
    "\n",
    "# Apply the Phrases model\n",
    "for dirNum in range(StartDir,EndDir+1):\n",
    "\n",
    "    # Load FilteredMetaData\n",
    "    Meta=pd.read_pickle(path_creator(\"meta\",[IntermediateData_Path, dirNum, MetaDataFiltered_Suffix]))\n",
    "\n",
    "    #Load preprocessed full text\n",
    "    tictic = time.perf_counter()\n",
    "    FtPr=Dict_Loader(dirNum, IntermediateData_Path, FtPr_Suffix)\n",
    "    toctoc = time.perf_counter()\n",
    "    #Print time usage to log\n",
    "    log_printer(logName,[\"ProcessTime\",\"Data of directory: \",dirNum,toctoc-tictic])\n",
    "\n",
    "    # Apply meta data filter and delete old dataframe\n",
    "    FtPrFi=[FtPr[DOI] for DOI in list(Meta[\"DOI\"])]\n",
    "    # Check if apllying the filter worked\n",
    "    log_printer(logName,[\"MetaFilter\",len(FtPr),len(FtPrFi)])\n",
    "\n",
    "    # Print Memory usage at start\n",
    "    log_printer(logName,[\"MemoryUsage\", \"Usage before deleting FtPr: \"])\n",
    "    del FtPr\n",
    "    gc.collect\n",
    "    # Print Memory usage at start\n",
    "    log_printer(logName,[\"MemoryUsage\", \"Usage after deleting FtPr: \"])\n",
    "\n",
    "    # Apply the Phrase Model\n",
    "    tictic = time.perf_counter()\n",
    "    FtPrFiNg=bigram[FtPrFi]\n",
    "    toctoc = time.perf_counter()\n",
    "    #Print time usage to log\n",
    "    log_printer(logName,[\"ProcessTime\",\"Bigram model with FtPriFi of directory:  \",dirNum,toctoc-tictic])\n",
    "\n",
    "    #Load preprocessed full text\n",
    "    tictic = time.perf_counter()\n",
    "    # Create corpus    \n",
    "    bowCorpus=[dct.doc2bow(doc, allow_update=False) for doc in FtPrFiNg]\n",
    "    #Save Corpus\n",
    "    gensim.corpora.MmCorpus.serialize(path_creator(\"bowCorpus\",[IntermediateData_Path, dirNum, StartDir, EndDir, BowCorpus_Suffix]), bowCorpus)\n",
    "    toctoc = time.perf_counter()\n",
    "    log_printer(logName,[\"ProcessTime\",\"Corpus with FtPriFiNg of directory:  \",dirNum,toctoc-tictic])\n",
    "\n",
    "    # Print corpus update stats\n",
    "    log_printer(logName,[\"newCorpusDoc\",len(bowCorpus),  len(FtPrFiNg)])\n",
    "\n",
    "    # Print iteration separator\n",
    "    log_printer(logName,[\"iterNext\"])\n",
    "\n",
    "#Stop global timer and print\n",
    "toc = time.perf_counter()\n",
    "log_printer(logName,[\"FinalProcessTime\",\"Total processing time took: \",toc-tic])"
   ]
  },
  {
   "cell_type": "markdown",
   "metadata": {},
   "source": [
    "### LDA"
   ]
  },
  {
   "cell_type": "code",
   "execution_count": 6,
   "metadata": {},
   "outputs": [
    {
     "name": "stdout",
     "output_type": "stream",
     "text": [
      "Length of Dict after filtering:  5868827\n",
      "Load corpus of directory:   0  is applied/loaded/processed... in seconds:  0.7756 , in minutes  0.0129 , in hours:  0.0002\n",
      "LDA model updated with corpus of dir:   0  is applied/loaded/processed... in seconds:  976.9208 , in minutes  16.282 , in hours:  0.2714\n",
      "-------------------------------------------------------\n",
      "Load corpus of directory:   1  is applied/loaded/processed... in seconds:  0.2903 , in minutes  0.0048 , in hours:  0.0001\n",
      "LDA model updated with corpus of dir:   1  is applied/loaded/processed... in seconds:  876.3992 , in minutes  14.6067 , in hours:  0.2434\n",
      "-------------------------------------------------------\n",
      "Load corpus of directory:   2  is applied/loaded/processed... in seconds:  0.4167 , in minutes  0.0069 , in hours:  0.0001\n",
      "LDA model updated with corpus of dir:   2  is applied/loaded/processed... in seconds:  822.7727 , in minutes  13.7129 , in hours:  0.2285\n",
      "-------------------------------------------------------\n",
      "Load corpus of directory:   3  is applied/loaded/processed... in seconds:  0.6611 , in minutes  0.011 , in hours:  0.0002\n"
     ]
    },
    {
     "name": "stderr",
     "output_type": "stream",
     "text": [
      "Traceback (most recent call last):\n",
      "  File \"C:\\Users\\sebas\\anaconda3\\envs\\SciView\\lib\\multiprocessing\\queues.py\", line 238, in _feed\n",
      "    send_bytes(obj)\n",
      "  File \"C:\\Users\\sebas\\anaconda3\\envs\\SciView\\lib\\multiprocessing\\connection.py\", line 200, in send_bytes\n",
      "    self._send_bytes(m[offset:offset + size])\n",
      "  File \"C:\\Users\\sebas\\anaconda3\\envs\\SciView\\lib\\multiprocessing\\connection.py\", line 280, in _send_bytes\n",
      "    ov, err = _winapi.WriteFile(self._handle, buf, overlapped=True)\n",
      "OSError: [WinError 1450] Insufficient system resources exist to complete the requested service\n"
     ]
    },
    {
     "ename": "KeyboardInterrupt",
     "evalue": "",
     "output_type": "error",
     "traceback": [
      "\u001b[1;31m---------------------------------------------------------------------------\u001b[0m",
      "\u001b[1;31mKeyboardInterrupt\u001b[0m                         Traceback (most recent call last)",
      "\u001b[1;32m~\\AppData\\Local\\Temp/ipykernel_17560/1645111898.py\u001b[0m in \u001b[0;36m<module>\u001b[1;34m\u001b[0m\n\u001b[0;32m     27\u001b[0m     \u001b[1;31m# Updating LDA model\u001b[0m\u001b[1;33m\u001b[0m\u001b[1;33m\u001b[0m\u001b[1;33m\u001b[0m\u001b[0m\n\u001b[0;32m     28\u001b[0m     \u001b[0mtictic\u001b[0m \u001b[1;33m=\u001b[0m \u001b[0mtime\u001b[0m\u001b[1;33m.\u001b[0m\u001b[0mperf_counter\u001b[0m\u001b[1;33m(\u001b[0m\u001b[1;33m)\u001b[0m\u001b[1;33m\u001b[0m\u001b[1;33m\u001b[0m\u001b[0m\n\u001b[1;32m---> 29\u001b[1;33m     \u001b[0mldaModel\u001b[0m\u001b[1;33m.\u001b[0m\u001b[0mupdate\u001b[0m\u001b[1;33m(\u001b[0m\u001b[0mbowCorpus\u001b[0m\u001b[1;33m)\u001b[0m\u001b[1;33m\u001b[0m\u001b[1;33m\u001b[0m\u001b[0m\n\u001b[0m\u001b[0;32m     30\u001b[0m     \u001b[0mtoctoc\u001b[0m \u001b[1;33m=\u001b[0m \u001b[0mtime\u001b[0m\u001b[1;33m.\u001b[0m\u001b[0mperf_counter\u001b[0m\u001b[1;33m(\u001b[0m\u001b[1;33m)\u001b[0m\u001b[1;33m\u001b[0m\u001b[1;33m\u001b[0m\u001b[0m\n\u001b[0;32m     31\u001b[0m     \u001b[0mlog_printer\u001b[0m\u001b[1;33m(\u001b[0m\u001b[0mlogName\u001b[0m\u001b[1;33m,\u001b[0m\u001b[1;33m[\u001b[0m\u001b[1;34m\"ProcessTime\"\u001b[0m\u001b[1;33m,\u001b[0m\u001b[1;34m\"LDA model updated with corpus of dir:  \"\u001b[0m\u001b[1;33m,\u001b[0m\u001b[0mdirNum\u001b[0m\u001b[1;33m,\u001b[0m\u001b[0mtoctoc\u001b[0m\u001b[1;33m-\u001b[0m\u001b[0mtictic\u001b[0m\u001b[1;33m]\u001b[0m\u001b[1;33m)\u001b[0m\u001b[1;33m\u001b[0m\u001b[1;33m\u001b[0m\u001b[0m\n",
      "\u001b[1;32m~\\anaconda3\\envs\\SciView\\lib\\site-packages\\gensim\\models\\ldamulticore.py\u001b[0m in \u001b[0;36mupdate\u001b[1;34m(self, corpus, chunks_as_numpy)\u001b[0m\n\u001b[0;32m    308\u001b[0m             \u001b[1;31m# wait for all outstanding jobs to finish\u001b[0m\u001b[1;33m\u001b[0m\u001b[1;33m\u001b[0m\u001b[1;33m\u001b[0m\u001b[0m\n\u001b[0;32m    309\u001b[0m             \u001b[1;32mwhile\u001b[0m \u001b[0mqueue_size\u001b[0m\u001b[1;33m[\u001b[0m\u001b[1;36m0\u001b[0m\u001b[1;33m]\u001b[0m \u001b[1;33m>\u001b[0m \u001b[1;36m0\u001b[0m\u001b[1;33m:\u001b[0m\u001b[1;33m\u001b[0m\u001b[1;33m\u001b[0m\u001b[0m\n\u001b[1;32m--> 310\u001b[1;33m                 \u001b[0mprocess_result_queue\u001b[0m\u001b[1;33m(\u001b[0m\u001b[0mforce\u001b[0m\u001b[1;33m=\u001b[0m\u001b[1;32mTrue\u001b[0m\u001b[1;33m)\u001b[0m\u001b[1;33m\u001b[0m\u001b[1;33m\u001b[0m\u001b[0m\n\u001b[0m\u001b[0;32m    311\u001b[0m \u001b[1;33m\u001b[0m\u001b[0m\n\u001b[0;32m    312\u001b[0m             \u001b[1;32mif\u001b[0m \u001b[0mreallen\u001b[0m \u001b[1;33m!=\u001b[0m \u001b[0mlencorpus\u001b[0m\u001b[1;33m:\u001b[0m\u001b[1;33m\u001b[0m\u001b[1;33m\u001b[0m\u001b[0m\n",
      "\u001b[1;32m~\\anaconda3\\envs\\SciView\\lib\\site-packages\\gensim\\models\\ldamulticore.py\u001b[0m in \u001b[0;36mprocess_result_queue\u001b[1;34m(force)\u001b[0m\n\u001b[0;32m    266\u001b[0m             \"\"\"\n\u001b[0;32m    267\u001b[0m             \u001b[0mmerged_new\u001b[0m \u001b[1;33m=\u001b[0m \u001b[1;32mFalse\u001b[0m\u001b[1;33m\u001b[0m\u001b[1;33m\u001b[0m\u001b[0m\n\u001b[1;32m--> 268\u001b[1;33m             \u001b[1;32mwhile\u001b[0m \u001b[1;32mnot\u001b[0m \u001b[0mresult_queue\u001b[0m\u001b[1;33m.\u001b[0m\u001b[0mempty\u001b[0m\u001b[1;33m(\u001b[0m\u001b[1;33m)\u001b[0m\u001b[1;33m:\u001b[0m\u001b[1;33m\u001b[0m\u001b[1;33m\u001b[0m\u001b[0m\n\u001b[0m\u001b[0;32m    269\u001b[0m                 \u001b[0mother\u001b[0m\u001b[1;33m.\u001b[0m\u001b[0mmerge\u001b[0m\u001b[1;33m(\u001b[0m\u001b[0mresult_queue\u001b[0m\u001b[1;33m.\u001b[0m\u001b[0mget\u001b[0m\u001b[1;33m(\u001b[0m\u001b[1;33m)\u001b[0m\u001b[1;33m)\u001b[0m\u001b[1;33m\u001b[0m\u001b[1;33m\u001b[0m\u001b[0m\n\u001b[0;32m    270\u001b[0m                 \u001b[0mqueue_size\u001b[0m\u001b[1;33m[\u001b[0m\u001b[1;36m0\u001b[0m\u001b[1;33m]\u001b[0m \u001b[1;33m-=\u001b[0m \u001b[1;36m1\u001b[0m\u001b[1;33m\u001b[0m\u001b[1;33m\u001b[0m\u001b[0m\n",
      "\u001b[1;32m~\\anaconda3\\envs\\SciView\\lib\\multiprocessing\\queues.py\u001b[0m in \u001b[0;36mempty\u001b[1;34m(self)\u001b[0m\n\u001b[0;32m    118\u001b[0m \u001b[1;33m\u001b[0m\u001b[0m\n\u001b[0;32m    119\u001b[0m     \u001b[1;32mdef\u001b[0m \u001b[0mempty\u001b[0m\u001b[1;33m(\u001b[0m\u001b[0mself\u001b[0m\u001b[1;33m)\u001b[0m\u001b[1;33m:\u001b[0m\u001b[1;33m\u001b[0m\u001b[1;33m\u001b[0m\u001b[0m\n\u001b[1;32m--> 120\u001b[1;33m         \u001b[1;32mreturn\u001b[0m \u001b[1;32mnot\u001b[0m \u001b[0mself\u001b[0m\u001b[1;33m.\u001b[0m\u001b[0m_poll\u001b[0m\u001b[1;33m(\u001b[0m\u001b[1;33m)\u001b[0m\u001b[1;33m\u001b[0m\u001b[1;33m\u001b[0m\u001b[0m\n\u001b[0m\u001b[0;32m    121\u001b[0m \u001b[1;33m\u001b[0m\u001b[0m\n\u001b[0;32m    122\u001b[0m     \u001b[1;32mdef\u001b[0m \u001b[0mfull\u001b[0m\u001b[1;33m(\u001b[0m\u001b[0mself\u001b[0m\u001b[1;33m)\u001b[0m\u001b[1;33m:\u001b[0m\u001b[1;33m\u001b[0m\u001b[1;33m\u001b[0m\u001b[0m\n",
      "\u001b[1;32m~\\anaconda3\\envs\\SciView\\lib\\multiprocessing\\connection.py\u001b[0m in \u001b[0;36mpoll\u001b[1;34m(self, timeout)\u001b[0m\n\u001b[0;32m    255\u001b[0m         \u001b[0mself\u001b[0m\u001b[1;33m.\u001b[0m\u001b[0m_check_closed\u001b[0m\u001b[1;33m(\u001b[0m\u001b[1;33m)\u001b[0m\u001b[1;33m\u001b[0m\u001b[1;33m\u001b[0m\u001b[0m\n\u001b[0;32m    256\u001b[0m         \u001b[0mself\u001b[0m\u001b[1;33m.\u001b[0m\u001b[0m_check_readable\u001b[0m\u001b[1;33m(\u001b[0m\u001b[1;33m)\u001b[0m\u001b[1;33m\u001b[0m\u001b[1;33m\u001b[0m\u001b[0m\n\u001b[1;32m--> 257\u001b[1;33m         \u001b[1;32mreturn\u001b[0m \u001b[0mself\u001b[0m\u001b[1;33m.\u001b[0m\u001b[0m_poll\u001b[0m\u001b[1;33m(\u001b[0m\u001b[0mtimeout\u001b[0m\u001b[1;33m)\u001b[0m\u001b[1;33m\u001b[0m\u001b[1;33m\u001b[0m\u001b[0m\n\u001b[0m\u001b[0;32m    258\u001b[0m \u001b[1;33m\u001b[0m\u001b[0m\n\u001b[0;32m    259\u001b[0m     \u001b[1;32mdef\u001b[0m \u001b[0m__enter__\u001b[0m\u001b[1;33m(\u001b[0m\u001b[0mself\u001b[0m\u001b[1;33m)\u001b[0m\u001b[1;33m:\u001b[0m\u001b[1;33m\u001b[0m\u001b[1;33m\u001b[0m\u001b[0m\n",
      "\u001b[1;32m~\\anaconda3\\envs\\SciView\\lib\\multiprocessing\\connection.py\u001b[0m in \u001b[0;36m_poll\u001b[1;34m(self, timeout)\u001b[0m\n\u001b[0;32m    326\u001b[0m         \u001b[1;32mdef\u001b[0m \u001b[0m_poll\u001b[0m\u001b[1;33m(\u001b[0m\u001b[0mself\u001b[0m\u001b[1;33m,\u001b[0m \u001b[0mtimeout\u001b[0m\u001b[1;33m)\u001b[0m\u001b[1;33m:\u001b[0m\u001b[1;33m\u001b[0m\u001b[1;33m\u001b[0m\u001b[0m\n\u001b[0;32m    327\u001b[0m             if (self._got_empty_message or\n\u001b[1;32m--> 328\u001b[1;33m                         _winapi.PeekNamedPipe(self._handle)[0] != 0):\n\u001b[0m\u001b[0;32m    329\u001b[0m                 \u001b[1;32mreturn\u001b[0m \u001b[1;32mTrue\u001b[0m\u001b[1;33m\u001b[0m\u001b[1;33m\u001b[0m\u001b[0m\n\u001b[0;32m    330\u001b[0m             \u001b[1;32mreturn\u001b[0m \u001b[0mbool\u001b[0m\u001b[1;33m(\u001b[0m\u001b[0mwait\u001b[0m\u001b[1;33m(\u001b[0m\u001b[1;33m[\u001b[0m\u001b[0mself\u001b[0m\u001b[1;33m]\u001b[0m\u001b[1;33m,\u001b[0m \u001b[0mtimeout\u001b[0m\u001b[1;33m)\u001b[0m\u001b[1;33m)\u001b[0m\u001b[1;33m\u001b[0m\u001b[1;33m\u001b[0m\u001b[0m\n",
      "\u001b[1;31mKeyboardInterrupt\u001b[0m: "
     ]
    }
   ],
   "source": [
    "# Start Global Timer which times the whole function\n",
    "tic = time.perf_counter()\n",
    "\n",
    "# Define the name of the logfile\n",
    "logName=path_creator(\"log\",[Model_Path, StartDir, EndDir,  LDALog_Suffix]) # Single Core\n",
    "# logName=path_creator(\"log\",[Model_Path, StartDir, EndDir,  LDAMultiLog_Suffix]) # Multi Core\n",
    "\n",
    "# Load dictionary\n",
    "dct=gensim.corpora.Dictionary.load(path_creator(\"dictionary\",[Model_Path, StartDir, EndDir, DictionaryFiltered_Suffix]))\n",
    "\n",
    "# Print and log dicitonary stats after filter\n",
    "log_printer(logName,[\"DictFiltAfter\", len(dct)])\n",
    "\n",
    "# # Initiate LDA Model\n",
    "ldaModel= gensim.models.ldamodel.LdaModel(id2word=dct, num_topics=nTopics) # Single Core\n",
    "# ldaModel=gensim.models.LdaMulticore(id2word=dct, num_topics=nTopics, workers=4) # Multi Core\n",
    "\n",
    "# Iterate through documents and create bow corpus\n",
    "for dirNum in range(StartDir,EndDir+1):\n",
    "\n",
    "    # Load Bow Corpus    \n",
    "    tictic = time.perf_counter()\n",
    "    bowCorpus=gensim.corpora.MmCorpus(path_creator(\"bowCorpus\",[IntermediateData_Path, dirNum, StartDir, EndDir, BowCorpus_Suffix]))\n",
    "    toctoc = time.perf_counter()\n",
    "    log_printer(logName,[\"ProcessTime\",\"Load corpus of directory:  \",dirNum,toctoc-tictic])\n",
    "\n",
    "    # Updating LDA model\n",
    "    tictic = time.perf_counter()\n",
    "    ldaModel.update(bowCorpus)\n",
    "    toctoc = time.perf_counter()\n",
    "    log_printer(logName,[\"ProcessTime\",\"LDA model updated with corpus of dir:  \",dirNum,toctoc-tictic])\n",
    "\n",
    "    # Print iteration separator\n",
    "    log_printer(logName,[\"iterNext\"])\n",
    "\n",
    "# Save LDA Model\n",
    "ldaModel.save(path_creator(\"ldaModel\",[Model_Path, dirNum, StartDir, EndDir, LDA_Suffix])) # Single Core\n",
    "# ldaModel.save(path_creator(\"ldaModel\",[Model_Path, dirNum, StartDir, EndDir, LDAMulti_Suffix])) # Multi Core\n",
    "\n",
    "#Stop global timer and print\n",
    "toc = time.perf_counter()\n",
    "log_printer(logName,[\"FinalProcessTime\",\"Total processing time took: \",toc-tic])"
   ]
  },
  {
   "cell_type": "markdown",
   "metadata": {},
   "source": [
    "## Streaming and sampling approach for phrase model, dictionary, BoW corpus and LDA"
   ]
  },
  {
   "cell_type": "markdown",
   "metadata": {},
   "source": []
  },
  {
   "cell_type": "markdown",
   "metadata": {},
   "source": [
    "# 3) Inspect Dictionary and LDA model"
   ]
  },
  {
   "cell_type": "code",
   "execution_count": 3,
   "metadata": {},
   "outputs": [],
   "source": [
    "import gensim\n",
    "from Functions.F2_Model_Building import path_creator"
   ]
  },
  {
   "cell_type": "code",
   "execution_count": 5,
   "metadata": {},
   "outputs": [],
   "source": [
    "# # Define input paths and file names\n",
    "IntermediateData_Path=\"Y:\\\\IntermediateData\\\\\"\n",
    "# FtPr_Suffix=\"_FtPr.pkl\"\n",
    "# MetaData_Suffix=\"_MetaData.pkl\"\n",
    "\n",
    "# Define output path and file names\n",
    "Model_Path=\"Y:\\\\Models\\\\\"\n",
    "# # Phrases Bigram\n",
    "# InterSavePhrases_Suffix=\"_InterSaveBigram.pkl\"\n",
    "# FreezedPhrases_Suffix=\"_FreezedBigram.pkl\"\n",
    "# FreezedPhrasesLog_Suffix=\"_FreezedBigramLog.txt\"\n",
    "# Filtered meta data\n",
    "MetaDataFiltered_Suffix=\"_MetaDataFiltered.pkl\"\n",
    "# Dictionary\n",
    "Dictionary_Suffix=\"_Dictionary\"\n",
    "DictionaryLog_Suffix=\"_DictionaryLog.txt\"\n",
    "# #Bow Corpus\n",
    "# BowCorpus_Suffix=\"_BowCorpus.mm\"\n",
    "# BowCorpusLog_Suffix=\"_BowCorpusLog.txt\"\n",
    "# LDA\n",
    "LDA_Suffix=\"_LDA.model\"\n",
    "LDALog_Suffix=\"_LDALog.txt\"\n",
    "# #pyLDAvis\n",
    "# pyLDAvis_Suffix=\"_pyLDAvis.html\"\n",
    "\n",
    "# Define filters\n",
    "minTokenN=200\n",
    "maxTokenN=15000\n",
    "language=\"en\"\n",
    "\n",
    "# Define Bigram/Phrase Parameters\n",
    "bigramMinFreq=10\n",
    "bigramThreshold=10\n",
    "phraseVocabSize=400000000\n",
    "InterDir=25 # Else None\n",
    "\n",
    "# Define Dictionary Parameters\n",
    "dictVocab=60000000\n",
    "filter_freq=10\n",
    "\n",
    "# Define LDA Parameters\n",
    "nTopics=50\n",
    "\n",
    "# Set the dirs to save doi and paths\n",
    "StartDir=0\n",
    "EndDir=49"
   ]
  },
  {
   "cell_type": "markdown",
   "metadata": {},
   "source": [
    "## Inspect LDA Model"
   ]
  },
  {
   "cell_type": "markdown",
   "metadata": {},
   "source": [
    "Load Data"
   ]
  },
  {
   "cell_type": "code",
   "execution_count": 6,
   "metadata": {},
   "outputs": [],
   "source": [
    "ldaModel=gensim.models.LdaModel.load(path_creator(\"ldaModel\",[Model_Path, StartDir, EndDir, LDA_Suffix]))"
   ]
  },
  {
   "cell_type": "code",
   "execution_count": 7,
   "metadata": {},
   "outputs": [
    {
     "data": {
      "text/plain": [
       "[(630, 0.1447978),\n",
       " (4014, 0.082529694),\n",
       " (750, 0.05273371),\n",
       " (4430, 0.049176764),\n",
       " (3222, 0.03889558),\n",
       " (483, 0.029007148),\n",
       " (42, 0.026837647),\n",
       " (693, 0.024881952),\n",
       " (8293, 0.022647828),\n",
       " (439, 0.016011156)]"
      ]
     },
     "execution_count": 7,
     "metadata": {},
     "output_type": "execute_result"
    }
   ],
   "source": [
    "ldaModel.get_topic_terms(49, topn=10)"
   ]
  },
  {
   "cell_type": "code",
   "execution_count": 8,
   "metadata": {},
   "outputs": [
    {
     "data": {
      "text/plain": [
       "[(0,\n",
       "  '0.114*\"group\" + 0.028*\"risk\" + 0.019*\"age\" + 0.019*\"year\" + 0.014*\"difference\" + 0.012*\"factor\" + 0.011*\"health\" + 0.010*\"exposure\" + 0.010*\"population\" + 0.009*\"total\"'),\n",
       " (1,\n",
       "  '0.029*\"energy\" + 0.018*\"state\" + 0.010*\"field\" + 0.009*\"phys_rev\" + 0.009*\"magnetic\" + 0.009*\"physic\" + 0.009*\"electron\" + 0.008*\"phys\" + 0.008*\"density\" + 0.008*\"transition\"'),\n",
       " (2,\n",
       "  '0.082*\"see\" + 0.026*\"li\" + 0.025*\"wang\" + 0.019*\"chen\" + 0.018*\"zhang\" + 0.017*\"lee\" + 0.015*\"liu\" + 0.011*\"yang\" + 0.011*\"china\" + 0.010*\"wu\"'),\n",
       " (3,\n",
       "  '0.037*\"tissue\" + 0.035*\"cancer\" + 0.029*\"skin\" + 0.027*\"tumor\" + 0.021*\"bone\" + 0.016*\"liver\" + 0.012*\"lesion\" + 0.011*\"tumour\" + 0.011*\"ultrasound\" + 0.009*\"lung\"'),\n",
       " (4,\n",
       "  '0.020*\"parameter\" + 0.015*\"distribution\" + 0.011*\"error\" + 0.010*\"probability\" + 0.008*\"set\" + 0.008*\"estimate\" + 0.008*\"average\" + 0.007*\"variable\" + 0.007*\"factor\" + 0.007*\"size\"'),\n",
       " (5,\n",
       "  '0.051*\"water\" + 0.022*\"soil\" + 0.021*\"rock\" + 0.014*\"area\" + 0.010*\"site\" + 0.010*\"pore\" + 0.009*\"surface\" + 0.008*\"depth\" + 0.008*\"mining\" + 0.008*\"sample\"'),\n",
       " (6,\n",
       "  '0.027*\"plane\" + 0.026*\"surface\" + 0.024*\"direction\" + 0.023*\"region\" + 0.022*\"line\" + 0.017*\"angle\" + 0.016*\"along\" + 0.015*\"axis\" + 0.015*\"boundary\" + 0.015*\"orientation\"'),\n",
       " (7,\n",
       "  '0.038*\"image\" + 0.024*\"signal\" + 0.020*\"measurement\" + 0.014*\"sensor\" + 0.012*\"technique\" + 0.012*\"imaging\" + 0.011*\"detection\" + 0.011*\"resolution\" + 0.010*\"detector\" + 0.007*\"probe\"'),\n",
       " (8,\n",
       "  '0.007*\"example\" + 0.007*\"many\" + 0.006*\"way\" + 0.005*\"must\" + 0.005*\"even\" + 0.005*\"problem\" + 0.005*\"make\" + 0.005*\"see\" + 0.004*\"important\" + 0.004*\"doe\"'),\n",
       " (9,\n",
       "  '0.207*\"pc\" + 0.187*\"map\" + 0.136*\"assembly\" + 0.118*\"ab\" + 0.089*\"ad\" + 0.074*\"mt\" + 0.017*\"component\" + 0.017*\"bre\" + 0.010*\"pcp\" + 0.009*\"pcm\"'),\n",
       " (10,\n",
       "  '0.013*\"human\" + 0.013*\"il\" + 0.012*\"receptor\" + 0.012*\"antibody\" + 0.012*\"response\" + 0.012*\"mouse\" + 0.011*\"ige\" + 0.011*\"antigen\" + 0.010*\"allergy\" + 0.009*\"induced\"'),\n",
       " (11,\n",
       "  '0.030*\"temperature\" + 0.027*\"polymer\" + 0.026*\"phase\" + 0.016*\"sample\" + 0.014*\"powder\" + 0.012*\"property\" + 0.011*\"particle\" + 0.008*\"composite\" + 0.008*\"size\" + 0.008*\"glass\"'),\n",
       " (12,\n",
       "  '0.452*\"cell\" + 0.022*\"culture\" + 0.014*\"medium\" + 0.011*\"virus\" + 0.010*\"cellular\" + 0.007*\"line\" + 0.007*\"growth\" + 0.005*\"density\" + 0.004*\"plate\" + 0.004*\"cycle\"'),\n",
       " (13,\n",
       "  '0.015*\"network\" + 0.009*\"computer\" + 0.009*\"design\" + 0.008*\"user\" + 0.008*\"algorithm\" + 0.007*\"information\" + 0.007*\"node\" + 0.007*\"set\" + 0.006*\"software\" + 0.005*\"rule\"'),\n",
       " (14,\n",
       "  '0.149*\"rate\" + 0.074*\"growth\" + 0.026*\"stage\" + 0.021*\"defect\" + 0.021*\"dislocation\" + 0.020*\"mechanism\" + 0.016*\"ga\" + 0.015*\"size\" + 0.015*\"formation\" + 0.014*\"initial\"'),\n",
       " (15,\n",
       "  '0.040*\"brain\" + 0.025*\"neural_network\" + 0.019*\"stimulus\" + 0.019*\"neuron\" + 0.018*\"cat\" + 0.018*\"activity\" + 0.014*\"stimulation\" + 0.013*\"ht\" + 0.013*\"rat\" + 0.011*\"nc\"'),\n",
       " (16,\n",
       "  '0.067*\"level\" + 0.054*\"day\" + 0.031*\"food\" + 0.019*\"female\" + 0.018*\"male\" + 0.017*\"weight\" + 0.016*\"loss\" + 0.014*\"period\" + 0.014*\"week\" + 0.012*\"body\"'),\n",
       " (17,\n",
       "  '0.065*\"control\" + 0.026*\"response\" + 0.022*\"frequency\" + 0.019*\"dynamic\" + 0.016*\"state\" + 0.016*\"cycle\" + 0.016*\"period\" + 0.015*\"output\" + 0.015*\"mode\" + 0.015*\"input\"'),\n",
       " (18,\n",
       "  '0.037*\"catalyst\" + 0.037*\"reaction\" + 0.015*\"hydrogen\" + 0.012*\"chemical\" + 0.011*\"co\" + 0.010*\"gas\" + 0.010*\"oxidation\" + 0.010*\"temperature\" + 0.009*\"catalytic\" + 0.009*\"product\"'),\n",
       " (19,\n",
       "  '0.027*\"sample\" + 0.017*\"mass\" + 0.016*\"ml\" + 0.014*\"column\" + 0.012*\"mass_spectrometry\" + 0.012*\"ion\" + 0.010*\"min\" + 0.010*\"standard\" + 0.009*\"peak\" + 0.008*\"detection\"'),\n",
       " (20,\n",
       "  '0.052*\"cd\" + 0.027*\"japan\" + 0.025*\"pb\" + 0.025*\"ag\" + 0.010*\"fusion\" + 0.010*\"gb\" + 0.008*\"tokyo_japan\" + 0.007*\"te\" + 0.006*\"jp\" + 0.005*\"np\"'),\n",
       " (21,\n",
       "  '0.041*\"mg\" + 0.031*\"drug\" + 0.029*\"plasma\" + 0.016*\"rat\" + 0.012*\"blood\" + 0.011*\"treatment\" + 0.011*\"concentration\" + 0.011*\"dose\" + 0.009*\"kg\" + 0.009*\"ml\"'),\n",
       " (22,\n",
       "  '0.026*\"flow\" + 0.019*\"velocity\" + 0.018*\"temperature\" + 0.015*\"particle\" + 0.011*\"pressure\" + 0.011*\"liquid\" + 0.011*\"fluid\" + 0.009*\"equation\" + 0.009*\"heat\" + 0.009*\"mass\"'),\n",
       " (23,\n",
       "  '0.065*\"force\" + 0.037*\"motion\" + 0.034*\"contact\" + 0.026*\"joint\" + 0.022*\"speed\" + 0.019*\"body\" + 0.017*\"frequency\" + 0.016*\"rotation\" + 0.016*\"velocity\" + 0.015*\"angle\"'),\n",
       " (24,\n",
       "  '0.074*\"patient\" + 0.020*\"treatment\" + 0.016*\"disease\" + 0.014*\"clinical\" + 0.011*\"symptom\" + 0.009*\"year\" + 0.009*\"child\" + 0.008*\"therapy\" + 0.007*\"positive\" + 0.007*\"medical\"'),\n",
       " (25,\n",
       "  '0.035*\"ch\" + 0.016*\"compound\" + 0.014*\"reaction\" + 0.014*\"hz\" + 0.012*\"ml\" + 0.012*\"nmr\" + 0.012*\"synthesis\" + 0.011*\"mmol\" + 0.011*\"chem\" + 0.011*\"yield\"'),\n",
       " (26,\n",
       "  '0.048*\"mm\" + 0.016*\"diameter\" + 0.015*\"ring\" + 0.013*\"plate\" + 0.013*\"figure\" + 0.013*\"tube\" + 0.011*\"length\" + 0.010*\"wall\" + 0.009*\"side\" + 0.009*\"end\"'),\n",
       " (27,\n",
       "  '0.048*\"test\" + 0.042*\"metal\" + 0.041*\"alloy\" + 0.035*\"coating\" + 0.022*\"copper\" + 0.017*\"steel\" + 0.014*\"testing\" + 0.012*\"tool\" + 0.012*\"corrosion\" + 0.011*\"chemical\"'),\n",
       " (28,\n",
       "  '0.071*\"pressure\" + 0.064*\"seal\" + 0.051*\"pump\" + 0.028*\"sealing\" + 0.016*\"valve\" + 0.016*\"flow\" + 0.014*\"fluid\" + 0.012*\"vessel\" + 0.009*\"volume\" + 0.008*\"heart\"'),\n",
       " (29,\n",
       "  '0.027*\"solar\" + 0.016*\"wind\" + 0.013*\"km\" + 0.010*\"event\" + 0.009*\"region\" + 0.009*\"atmospheric\" + 0.008*\"observation\" + 0.007*\"station\" + 0.007*\"year\" + 0.007*\"area\"'),\n",
       " (30,\n",
       "  '0.036*\"dna\" + 0.035*\"gene\" + 0.028*\"sequence\" + 0.011*\"expression\" + 0.009*\"rna\" + 0.008*\"fragment\" + 0.008*\"genetic\" + 0.008*\"mutation\" + 0.007*\"region\" + 0.007*\"pcr\"'),\n",
       " (31,\n",
       "  '0.032*\"specie\" + 0.023*\"population\" + 0.016*\"plant\" + 0.010*\"tree\" + 0.008*\"animal\" + 0.008*\"forest\" + 0.008*\"individual\" + 0.008*\"habitat\" + 0.007*\"evolution\" + 0.006*\"leaf\"'),\n",
       " (32,\n",
       "  '0.029*\"usa\" + 0.016*\"uk\" + 0.015*\"com\" + 0.012*\"www\" + 0.011*\"department\" + 0.011*\"elsevier\" + 0.011*\"contact\" + 0.011*\"journal\" + 0.009*\"technology\" + 0.009*\"patent\"'),\n",
       " (33,\n",
       "  '0.044*\"stress\" + 0.025*\"strain\" + 0.014*\"crack\" + 0.012*\"deformation\" + 0.012*\"specimen\" + 0.011*\"load\" + 0.011*\"fracture\" + 0.010*\"shear\" + 0.010*\"strength\" + 0.010*\"composite\"'),\n",
       " (34,\n",
       "  '0.033*\"set\" + 0.029*\"let\" + 0.020*\"theorem\" + 0.017*\"proof\" + 0.013*\"graph\" + 0.013*\"space\" + 0.010*\"lemma\" + 0.009*\"every\" + 0.009*\"sequence\" + 0.009*\"property\"'),\n",
       " (35,\n",
       "  '0.022*\"de\" + 0.009*\"ii\" + 0.006*\"formula\" + 0.006*\"constant\" + 0.006*\"pi\" + 0.006*\"term\" + 0.006*\"equation\" + 0.005*\"operator\" + 0.005*\"follows\" + 0.005*\"ai\"'),\n",
       " (36,\n",
       "  '0.016*\"company\" + 0.012*\"product\" + 0.011*\"market\" + 0.011*\"technology\" + 0.011*\"cost\" + 0.009*\"year\" + 0.009*\"project\" + 0.008*\"business\" + 0.008*\"industry\" + 0.007*\"sale\"'),\n",
       " (37,\n",
       "  '0.057*\"radiation\" + 0.043*\"dose\" + 0.041*\"irradiation\" + 0.040*\"beam\" + 0.030*\"source\" + 0.029*\"ray\" + 0.028*\"target\" + 0.026*\"nuclear\" + 0.026*\"neutron\" + 0.017*\"irradiated\"'),\n",
       " (38,\n",
       "  '0.058*\"protein\" + 0.041*\"membrane\" + 0.033*\"enzyme\" + 0.024*\"activity\" + 0.012*\"mm\" + 0.011*\"substrate\" + 0.009*\"lipid\" + 0.006*\"biol\" + 0.005*\"reaction\" + 0.005*\"glucose\"'),\n",
       " (39,\n",
       "  '0.011*\"information\" + 0.009*\"student\" + 0.007*\"child\" + 0.007*\"social\" + 0.007*\"human\" + 0.006*\"knowledge\" + 0.006*\"subject\" + 0.006*\"people\" + 0.006*\"task\" + 0.005*\"training\"'),\n",
       " (40,\n",
       "  '0.113*\"co\" + 0.080*\"fe\" + 0.069*\"ni\" + 0.043*\"ii\" + 0.041*\"ti\" + 0.038*\"cr\" + 0.035*\"mn\" + 0.032*\"mo\" + 0.029*\"iii\" + 0.023*\"iron\"'),\n",
       " (41,\n",
       "  '0.037*\"concentration\" + 0.027*\"ph\" + 0.024*\"water\" + 0.010*\"surfactant\" + 0.010*\"aqueous\" + 0.009*\"mg\" + 0.009*\"ml\" + 0.008*\"acid\" + 0.007*\"filtration\" + 0.007*\"medium\"'),\n",
       " (42,\n",
       "  '0.051*\"surface\" + 0.025*\"layer\" + 0.021*\"si\" + 0.020*\"film\" + 0.016*\"sample\" + 0.013*\"substrate\" + 0.013*\"grain\" + 0.011*\"interface\" + 0.010*\"nm\" + 0.009*\"particle\"'),\n",
       " (43,\n",
       "  '0.026*\"atom\" + 0.024*\"complex\" + 0.024*\"cu\" + 0.020*\"ion\" + 0.018*\"bond\" + 0.014*\"cluster\" + 0.013*\"crystal\" + 0.013*\"energy\" + 0.011*\"metal\" + 0.010*\"chem\"'),\n",
       " (44,\n",
       "  '0.047*\"spectrum\" + 0.026*\"band\" + 0.022*\"cm\" + 0.018*\"nm\" + 0.016*\"intensity\" + 0.015*\"peak\" + 0.015*\"absorption\" + 0.012*\"electron\" + 0.011*\"sample\" + 0.011*\"emission\"'),\n",
       " (45,\n",
       "  '0.022*\"current\" + 0.022*\"power\" + 0.020*\"device\" + 0.014*\"voltage\" + 0.010*\"laser\" + 0.010*\"frequency\" + 0.009*\"charge\" + 0.008*\"electrical\" + 0.008*\"pulse\" + 0.008*\"electron\"'),\n",
       " (46,\n",
       "  '0.026*\"molecule\" + 0.020*\"interaction\" + 0.019*\"binding\" + 0.017*\"chain\" + 0.015*\"molecular\" + 0.014*\"chem\" + 0.014*\"peptide\" + 0.014*\"complex\" + 0.014*\"group\" + 0.011*\"site\"'),\n",
       " (47,\n",
       "  '0.041*\"fuel\" + 0.032*\"energy\" + 0.021*\"plant\" + 0.016*\"gas\" + 0.015*\"power\" + 0.013*\"water\" + 0.013*\"oil\" + 0.011*\"production\" + 0.011*\"air\" + 0.009*\"temperature\"'),\n",
       " (48,\n",
       "  '0.021*\"equation\" + 0.020*\"problem\" + 0.015*\"ect\" + 0.014*\"matrix\" + 0.013*\"rst\" + 0.013*\"di_erent\" + 0.010*\"eq\" + 0.010*\"eld\" + 0.009*\"vector\" + 0.009*\"linear\"'),\n",
       " (49,\n",
       "  '0.145*\"ion\" + 0.083*\"electrode\" + 0.053*\"potential\" + 0.049*\"pt\" + 0.039*\"pd\" + 0.029*\"current\" + 0.027*\"ca\" + 0.025*\"na\" + 0.023*\"electrochemical\" + 0.016*\"channel\"')]"
      ]
     },
     "execution_count": 8,
     "metadata": {},
     "output_type": "execute_result"
    }
   ],
   "source": [
    "ldaModel.print_topics(-1,num_words=10)"
   ]
  },
  {
   "cell_type": "markdown",
   "metadata": {},
   "source": [
    "Load a document and infer the topic of this document then check if the output makes sense"
   ]
  },
  {
   "cell_type": "markdown",
   "metadata": {},
   "source": [
    "# 4) Inspect reference databases"
   ]
  },
  {
   "cell_type": "markdown",
   "metadata": {},
   "source": [
    "Use a unfiltered metadata dataframe and search through the the json file with mutiprocessing"
   ]
  },
  {
   "cell_type": "markdown",
   "metadata": {},
   "source": [
    "## Libraries and Paths"
   ]
  },
  {
   "cell_type": "code",
   "execution_count": null,
   "metadata": {},
   "outputs": [],
   "source": [
    "import jsonlines\n",
    "import time\n",
    "import pandas as pd\n",
    "import os\n",
    "import regex as re\n",
    "\n",
    "logEntries=int(1e5) # Intervall of loging\n",
    "path='Y:\\\\Reference_Databases\\\\unpaywall\\\\splitted'"
   ]
  },
  {
   "cell_type": "markdown",
   "metadata": {},
   "source": [
    "## Process unpaywall dataset"
   ]
  },
  {
   "cell_type": "markdown",
   "metadata": {},
   "source": [
    "Unziped the paywall file on the synology, then used the split command from wsl\n",
    "    \n",
    "    split -l 1000000 unpaywall_snapshot_2021-07-02T151134.jsonl\n",
    "\n",
    "Create a the following directory\n",
    "\n",
    "    'Y:\\\\Reference_Databases\\\\unpaywall\\\\splitted'\n",
    "\n",
    "And move all of splitted file into this directory"
   ]
  },
  {
   "cell_type": "code",
   "execution_count": null,
   "metadata": {},
   "outputs": [],
   "source": [
    "fileNameList=os.listdir(path)\n",
    "\n",
    "for name in fileNameList:\n",
    "    if \".pkl\" in name or \".jsonl\" in name or \".gz\" in name or \".json.gz\" in name:\n",
    "        fileNameList.remove(name)\n",
    "        print(name, \"is removed\")\n",
    "\n",
    "for fileName in fileNameList:\n",
    "    filepath= path+ fileName\n",
    "    tic1 = time.perf_counter()\n",
    "    tic2 = time.perf_counter()\n",
    "    tic3 = time.perf_counter()\n",
    "    list_of_dfs=[]\n",
    "    df = pd.DataFrame(columns=[\"doi\",\"year\",'is_oa','publisher','journal_name'])\n",
    "    with jsonlines.open(filepath) as f:\n",
    "        for index, item in enumerate(f):\n",
    "                # print(item.keys())\n",
    "                if (index+1) % logEntries == 0: # example log every 100000 lines (100000 entries = 0:999999 python index)\n",
    "                    toc2 = time.perf_counter()\n",
    "                    print('index = {}'.format(index),\" | df appending time in minutes: \",(toc2-tic2)/60, \" | Length of list of dfs: \", len(list_of_dfs))\n",
    "                    tic2 = time.perf_counter()\n",
    "                try:\n",
    "                    df = pd.DataFrame(columns=[\"doi\",\"year\",'is_oa','publisher','journal_name'])\n",
    "                    data={\"doi\":item[\"doi\"], 'genre':item['genre'],\"year\":item['year'],'title':item['title'],\n",
    "                                \"is_oa\":item['is_oa'], \"publisher\":item['publisher'], \"journal_name\":item['journal_name']}\n",
    "                    df=df.append(data,ignore_index=True)\n",
    "                    list_of_dfs.append(df)\n",
    "                except:\n",
    "                    print(index, \" could not be processed\")\n",
    "\n",
    "    print(\"------------------\")\n",
    "    print(\"Saving to disk\")\n",
    "    df = pd.concat(list_of_dfs, ignore_index=True)\n",
    "    df.to_pickle(path + fileName +\".pkl\")\n",
    "    list_of_dfs=[]\n",
    "    toc3 = time.perf_counter()\n",
    "    timediff=(toc3-tic3)/60\n",
    "    print(\"Processing time in minutes: \", timediff)\n",
    "    tic3 = time.perf_counter()\n"
   ]
  },
  {
   "cell_type": "markdown",
   "metadata": {},
   "source": [
    "## Concatenate meta data files"
   ]
  },
  {
   "cell_type": "code",
   "execution_count": null,
   "metadata": {},
   "outputs": [],
   "source": [
    "# Get a list off all the unpaywall metadata .pkl files\n",
    "fileNameList=os.listdir(path)\n",
    "for name in fileNameList:\n",
    "    if \".pkl\" not in name:\n",
    "        fileNameList.remove(name)\n",
    "        print(name, \"is removed\")\n",
    "\n",
    "# Concatenate all metadata files\n",
    "tic = time.perf_counter()\n",
    "df=pd.concat([pd.read_pickle(path+name) for name in fileNameList], ignore_index=True)\n",
    "toc = time.perf_counter()\n",
    "print(toc-tic)\n",
    "\n",
    "# Save the dataframe \n",
    "saveName='Y:\\\\Reference_Databases\\\\unpaywall\\\\' + fileNameList[0] + \"-\" + fileNameList[-1] + \".pkl\"\n",
    "\n",
    "# Save the dataframe to a pickle file\n",
    "df.to_pickle(saveName)"
   ]
  },
  {
   "cell_type": "markdown",
   "metadata": {},
   "source": [
    "## Search and Match the preprocessing meta data and reference database meta data"
   ]
  },
  {
   "cell_type": "code",
   "execution_count": null,
   "metadata": {},
   "outputs": [],
   "source": []
  },
  {
   "cell_type": "markdown",
   "metadata": {},
   "source": [
    "# List of words to remove"
   ]
  },
  {
   "cell_type": "code",
   "execution_count": null,
   "metadata": {},
   "outputs": [],
   "source": [
    "\"et\"\n",
    "\"al\"\n",
    "\"la\"\n",
    "\"de\"\n",
    "\"ch\"\n",
    "\"ii\"\n",
    "\"university\"\n",
    "\"th\""
   ]
  },
  {
   "cell_type": "markdown",
   "metadata": {},
   "source": [
    "### Jupyter Dash\n",
    "Installatio according to:\n",
    "https://dash.plotly.com/installation"
   ]
  },
  {
   "cell_type": "code",
   "execution_count": 2,
   "metadata": {},
   "outputs": [],
   "source": [
    "import plotly.express as px\n",
    "from jupyter_dash import JupyterDash\n",
    "from dash import dcc\n",
    "from dash import html\n",
    "from dash.dependencies import Input, Output# Load Data"
   ]
  },
  {
   "cell_type": "code",
   "execution_count": null,
   "metadata": {},
   "outputs": [],
   "source": [
    "df = px.data.tips()# Build App\n",
    "app = JupyterDash(__name__)\n",
    "app.layout = html.Div([\n",
    "    html.H1(\"JupyterDash Demo\"),\n",
    "    dcc.Graph(id='graph'),\n",
    "    html.Label([\n",
    "        \"colorscale\",\n",
    "        dcc.Dropdown(\n",
    "            id='colorscale-dropdown', clearable=False,\n",
    "            value='plasma', options=[\n",
    "                {'label': c, 'value': c}\n",
    "                for c in px.colors.named_colorscales()\n",
    "            ])\n",
    "    ]),\n",
    "])# Define callback to update graph\n",
    "@app.callback(\n",
    "    Output('graph', 'figure'),\n",
    "    [Input(\"colorscale-dropdown\", \"value\")]\n",
    ")\n",
    "def update_figure(colorscale):\n",
    "    return px.scatter(\n",
    "        df, x=\"total_bill\", y=\"tip\", color=\"size\",\n",
    "        color_continuous_scale=colorscale,\n",
    "        render_mode=\"webgl\", title=\"Tips\"\n",
    "    )# Run app and display result inline in the notebook\n",
    "app.run_server(mode='inline')"
   ]
  },
  {
   "cell_type": "code",
   "execution_count": 9,
   "metadata": {},
   "outputs": [
    {
     "data": {
      "text/html": [
       "\n",
       "        <iframe\n",
       "            width=\"100%\"\n",
       "            height=\"650\"\n",
       "            src=\"http://127.0.0.1:8050/\"\n",
       "            frameborder=\"0\"\n",
       "            allowfullscreen\n",
       "            \n",
       "        ></iframe>\n",
       "        "
      ],
      "text/plain": [
       "<IPython.lib.display.IFrame at 0x187e7522c88>"
      ]
     },
     "metadata": {},
     "output_type": "display_data"
    }
   ],
   "source": [
    "app = JupyterDash(__name__)\n",
    "\n",
    "# assume you have a \"long-form\" data frame\n",
    "# see https://plotly.com/python/px-arguments/ for more options\n",
    "df = pd.DataFrame({\n",
    "    \"Fruit\": [\"Apples\", \"Oranges\", \"Bananas\", \"Apples\", \"Oranges\", \"Bananas\"],\n",
    "    \"Amount\": [4, 1, 2, 2, 4, 5],\n",
    "    \"City\": [\"SF\", \"SF\", \"SF\", \"Montreal\", \"Montreal\", \"Montreal\"]\n",
    "})\n",
    "\n",
    "fig = px.bar(df, x=\"Fruit\", y=\"Amount\", color=\"City\", barmode=\"group\")\n",
    "\n",
    "app.layout = html.Div(children=[\n",
    "    html.H1(children='Hello Dash'),\n",
    "\n",
    "    html.Div(children='''\n",
    "        Dash: A web application framework for your data.\n",
    "    '''),\n",
    "\n",
    "    dcc.Graph(\n",
    "        id='example-graph',\n",
    "        figure=fig\n",
    "    )\n",
    "])\n",
    "\n",
    "app.run_server(mode='inline')"
   ]
  }
 ],
 "metadata": {
  "interpreter": {
   "hash": "3ccde6fe98f2745168a6eb4efbac6fc9f78d39a2cb044d02d02ef6096f3666f4"
  },
  "kernelspec": {
   "display_name": "Python 3.7.11 ('SciView')",
   "language": "python",
   "name": "python3"
  },
  "language_info": {
   "codemirror_mode": {
    "name": "ipython",
    "version": 3
   },
   "file_extension": ".py",
   "mimetype": "text/x-python",
   "name": "python",
   "nbconvert_exporter": "python",
   "pygments_lexer": "ipython3",
   "version": "3.7.11"
  },
  "orig_nbformat": 4
 },
 "nbformat": 4,
 "nbformat_minor": 2
}
